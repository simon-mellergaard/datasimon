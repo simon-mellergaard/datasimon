{
 "cells": [
  {
   "cell_type": "markdown",
   "id": "91dd3023",
   "metadata": {
    "id": "view-in-github",
    "papermill": {
     "duration": 0.005897,
     "end_time": "2025-08-20T16:14:38.779580",
     "exception": false,
     "start_time": "2025-08-20T16:14:38.773683",
     "status": "completed"
    },
    "tags": []
   },
   "source": [
    "<a href=\"https://colab.research.google.com/github/simon-mellergaard/datasimon/blob/main/Kaggle%20competitions/introverts-extroverts.ipynb\" target=\"_parent\"><img src=\"https://colab.research.google.com/assets/colab-badge.svg\" alt=\"Open In Colab\"/></a>"
   ]
  },
  {
   "cell_type": "code",
   "execution_count": 1,
   "id": "07ecdec7",
   "metadata": {
    "execution": {
     "iopub.execute_input": "2025-08-20T16:14:38.791119Z",
     "iopub.status.busy": "2025-08-20T16:14:38.790747Z",
     "iopub.status.idle": "2025-08-20T16:14:38.807544Z",
     "shell.execute_reply": "2025-08-20T16:14:38.806164Z"
    },
    "id": "NaEnUOpJ75S8",
    "papermill": {
     "duration": 0.024863,
     "end_time": "2025-08-20T16:14:38.809478",
     "exception": false,
     "start_time": "2025-08-20T16:14:38.784615",
     "status": "completed"
    },
    "tags": []
   },
   "outputs": [],
   "source": [
    "import os\n",
    "# Slect platform (colab or kaggle)\n",
    "PlATFORM_IS_KAGGLE = True\n",
    "\n",
    "if PlATFORM_IS_KAGGLE:\n",
    "    INPUT_PATH = '/kaggle/input/playground-series-s5e7'\n",
    "else:\n",
    "    import kagglehub\n",
    "    from google.colab import userdata\n",
    "    !mkdir ~/.kaggle\n",
    "    !echo -n '{\"username\":\"simonmellergaard\",\"key\":\"' > ~/.kaggle/kaggle.json\n",
    "    !echo -n {userdata.get('Kaggle')} >> ~/.kaggle/kaggle.json\n",
    "    !echo -n '\"}' >> ~/.kaggle/kaggle.json\n",
    "    !chmod 600 ~/.kaggle/kaggle.json\n",
    "    playground_series_s5e7_path = kagglehub.competition_download('playground-series-s5e7')\n",
    "    print('Data source import complete and located at: ' + playground_series_s5e7_path)\n",
    "    INPUT_PATH = '/root/.cache/kagglehub/competitions/playground-series-s5e7'\n",
    "CURRENT_DIR = os.getcwd()"
   ]
  },
  {
   "cell_type": "markdown",
   "id": "9f50639b",
   "metadata": {
    "id": "_Yf81KeBxBkG",
    "papermill": {
     "duration": 0.004939,
     "end_time": "2025-08-20T16:14:38.819677",
     "exception": false,
     "start_time": "2025-08-20T16:14:38.814738",
     "status": "completed"
    },
    "tags": []
   },
   "source": [
    "# Making advanced predictions of extrovetrs and introverts\n",
    "\n",
    "The code is showing the way."
   ]
  },
  {
   "cell_type": "code",
   "execution_count": 2,
   "id": "fa51247d",
   "metadata": {
    "execution": {
     "iopub.execute_input": "2025-08-20T16:14:38.830726Z",
     "iopub.status.busy": "2025-08-20T16:14:38.830401Z",
     "iopub.status.idle": "2025-08-20T16:14:41.119849Z",
     "shell.execute_reply": "2025-08-20T16:14:41.118752Z"
    },
    "id": "kC_wp9RzxBkH",
    "papermill": {
     "duration": 2.296906,
     "end_time": "2025-08-20T16:14:41.121568",
     "exception": false,
     "start_time": "2025-08-20T16:14:38.824662",
     "status": "completed"
    },
    "tags": []
   },
   "outputs": [],
   "source": [
    "import pandas as pd\n",
    "data = pd.read_csv(f'{INPUT_PATH}/train.csv', index_col='id')"
   ]
  },
  {
   "cell_type": "code",
   "execution_count": 3,
   "id": "e922c7ec",
   "metadata": {
    "execution": {
     "iopub.execute_input": "2025-08-20T16:14:41.133533Z",
     "iopub.status.busy": "2025-08-20T16:14:41.133180Z",
     "iopub.status.idle": "2025-08-20T16:14:41.161921Z",
     "shell.execute_reply": "2025-08-20T16:14:41.160776Z"
    },
    "id": "hHMJuA-cxBkH",
    "outputId": "c2992bdb-2148-4470-a1f0-6e1936b0cc17",
    "papermill": {
     "duration": 0.036374,
     "end_time": "2025-08-20T16:14:41.163457",
     "exception": false,
     "start_time": "2025-08-20T16:14:41.127083",
     "status": "completed"
    },
    "tags": []
   },
   "outputs": [
    {
     "name": "stderr",
     "output_type": "stream",
     "text": [
      "/usr/local/lib/python3.11/dist-packages/pandas/io/formats/format.py:1458: RuntimeWarning: invalid value encountered in greater\n",
      "  has_large_values = (abs_vals > 1e6).any()\n",
      "/usr/local/lib/python3.11/dist-packages/pandas/io/formats/format.py:1459: RuntimeWarning: invalid value encountered in less\n",
      "  has_small_values = ((abs_vals < 10 ** (-self.digits)) & (abs_vals > 0)).any()\n",
      "/usr/local/lib/python3.11/dist-packages/pandas/io/formats/format.py:1459: RuntimeWarning: invalid value encountered in greater\n",
      "  has_small_values = ((abs_vals < 10 ** (-self.digits)) & (abs_vals > 0)).any()\n"
     ]
    },
    {
     "data": {
      "text/html": [
       "<div>\n",
       "<style scoped>\n",
       "    .dataframe tbody tr th:only-of-type {\n",
       "        vertical-align: middle;\n",
       "    }\n",
       "\n",
       "    .dataframe tbody tr th {\n",
       "        vertical-align: top;\n",
       "    }\n",
       "\n",
       "    .dataframe thead th {\n",
       "        text-align: right;\n",
       "    }\n",
       "</style>\n",
       "<table border=\"1\" class=\"dataframe\">\n",
       "  <thead>\n",
       "    <tr style=\"text-align: right;\">\n",
       "      <th></th>\n",
       "      <th>Time_spent_Alone</th>\n",
       "      <th>Stage_fear</th>\n",
       "      <th>Social_event_attendance</th>\n",
       "      <th>Going_outside</th>\n",
       "      <th>Drained_after_socializing</th>\n",
       "      <th>Friends_circle_size</th>\n",
       "      <th>Post_frequency</th>\n",
       "      <th>Personality</th>\n",
       "    </tr>\n",
       "    <tr>\n",
       "      <th>id</th>\n",
       "      <th></th>\n",
       "      <th></th>\n",
       "      <th></th>\n",
       "      <th></th>\n",
       "      <th></th>\n",
       "      <th></th>\n",
       "      <th></th>\n",
       "      <th></th>\n",
       "    </tr>\n",
       "  </thead>\n",
       "  <tbody>\n",
       "    <tr>\n",
       "      <th>0</th>\n",
       "      <td>0.0</td>\n",
       "      <td>No</td>\n",
       "      <td>6.0</td>\n",
       "      <td>4.0</td>\n",
       "      <td>No</td>\n",
       "      <td>15.0</td>\n",
       "      <td>5.0</td>\n",
       "      <td>Extrovert</td>\n",
       "    </tr>\n",
       "    <tr>\n",
       "      <th>1</th>\n",
       "      <td>1.0</td>\n",
       "      <td>No</td>\n",
       "      <td>7.0</td>\n",
       "      <td>3.0</td>\n",
       "      <td>No</td>\n",
       "      <td>10.0</td>\n",
       "      <td>8.0</td>\n",
       "      <td>Extrovert</td>\n",
       "    </tr>\n",
       "    <tr>\n",
       "      <th>2</th>\n",
       "      <td>6.0</td>\n",
       "      <td>Yes</td>\n",
       "      <td>1.0</td>\n",
       "      <td>0.0</td>\n",
       "      <td>NaN</td>\n",
       "      <td>3.0</td>\n",
       "      <td>0.0</td>\n",
       "      <td>Introvert</td>\n",
       "    </tr>\n",
       "    <tr>\n",
       "      <th>3</th>\n",
       "      <td>3.0</td>\n",
       "      <td>No</td>\n",
       "      <td>7.0</td>\n",
       "      <td>3.0</td>\n",
       "      <td>No</td>\n",
       "      <td>11.0</td>\n",
       "      <td>5.0</td>\n",
       "      <td>Extrovert</td>\n",
       "    </tr>\n",
       "    <tr>\n",
       "      <th>4</th>\n",
       "      <td>1.0</td>\n",
       "      <td>No</td>\n",
       "      <td>4.0</td>\n",
       "      <td>4.0</td>\n",
       "      <td>No</td>\n",
       "      <td>13.0</td>\n",
       "      <td>NaN</td>\n",
       "      <td>Extrovert</td>\n",
       "    </tr>\n",
       "  </tbody>\n",
       "</table>\n",
       "</div>"
      ],
      "text/plain": [
       "    Time_spent_Alone Stage_fear  Social_event_attendance  Going_outside  \\\n",
       "id                                                                        \n",
       "0                0.0         No                      6.0            4.0   \n",
       "1                1.0         No                      7.0            3.0   \n",
       "2                6.0        Yes                      1.0            0.0   \n",
       "3                3.0         No                      7.0            3.0   \n",
       "4                1.0         No                      4.0            4.0   \n",
       "\n",
       "   Drained_after_socializing  Friends_circle_size  Post_frequency Personality  \n",
       "id                                                                             \n",
       "0                         No                 15.0             5.0   Extrovert  \n",
       "1                         No                 10.0             8.0   Extrovert  \n",
       "2                        NaN                  3.0             0.0   Introvert  \n",
       "3                         No                 11.0             5.0   Extrovert  \n",
       "4                         No                 13.0             NaN   Extrovert  "
      ]
     },
     "execution_count": 3,
     "metadata": {},
     "output_type": "execute_result"
    }
   ],
   "source": [
    "data.head()"
   ]
  },
  {
   "cell_type": "markdown",
   "id": "cfbc3187",
   "metadata": {
    "id": "ShDzacsVxBkI",
    "papermill": {
     "duration": 0.004869,
     "end_time": "2025-08-20T16:14:41.173761",
     "exception": false,
     "start_time": "2025-08-20T16:14:41.168892",
     "status": "completed"
    },
    "tags": []
   },
   "source": [
    "The description of the variables are as follows:\n",
    "* Time_spent_Alone: Hours spent alone daily (0–11).\n",
    "* Stage_fear: Presence of stage fright (Yes/No).\n",
    "* Social_event_attendance: Frequency of social events (0–10).\n",
    "* Going_outside: Frequency of going outside (0–7).\n",
    "* Drained_after_socializing: Feeling drained after socializing (Yes/No).\n",
    "* Friends_circle_size: Number of close friends (0–15).\n",
    "* Post_frequency: Social media post frequency (0–10).\n",
    "* Personality: Target variable (Extrovert/Introvert).\n",
    "\n",
    "There are two categorical variables and 6 numeric varialbe. The target variable is binary, so it is a binary classification problem."
   ]
  },
  {
   "cell_type": "code",
   "execution_count": 4,
   "id": "820a482f",
   "metadata": {
    "execution": {
     "iopub.execute_input": "2025-08-20T16:14:41.186000Z",
     "iopub.status.busy": "2025-08-20T16:14:41.185667Z",
     "iopub.status.idle": "2025-08-20T16:14:41.218503Z",
     "shell.execute_reply": "2025-08-20T16:14:41.217164Z"
    },
    "id": "bkbOhJJKxBkI",
    "outputId": "9d1f7b05-5aa4-40ed-a171-23e2a9fd4fd5",
    "papermill": {
     "duration": 0.04151,
     "end_time": "2025-08-20T16:14:41.220330",
     "exception": false,
     "start_time": "2025-08-20T16:14:41.178820",
     "status": "completed"
    },
    "tags": []
   },
   "outputs": [
    {
     "data": {
      "text/html": [
       "<div>\n",
       "<style scoped>\n",
       "    .dataframe tbody tr th:only-of-type {\n",
       "        vertical-align: middle;\n",
       "    }\n",
       "\n",
       "    .dataframe tbody tr th {\n",
       "        vertical-align: top;\n",
       "    }\n",
       "\n",
       "    .dataframe thead th {\n",
       "        text-align: right;\n",
       "    }\n",
       "</style>\n",
       "<table border=\"1\" class=\"dataframe\">\n",
       "  <thead>\n",
       "    <tr style=\"text-align: right;\">\n",
       "      <th></th>\n",
       "      <th>Time_spent_Alone</th>\n",
       "      <th>Social_event_attendance</th>\n",
       "      <th>Going_outside</th>\n",
       "      <th>Friends_circle_size</th>\n",
       "      <th>Post_frequency</th>\n",
       "    </tr>\n",
       "  </thead>\n",
       "  <tbody>\n",
       "    <tr>\n",
       "      <th>count</th>\n",
       "      <td>17334.000000</td>\n",
       "      <td>17344.000000</td>\n",
       "      <td>17058.000000</td>\n",
       "      <td>17470.000000</td>\n",
       "      <td>17260.000000</td>\n",
       "    </tr>\n",
       "    <tr>\n",
       "      <th>mean</th>\n",
       "      <td>3.137764</td>\n",
       "      <td>5.265106</td>\n",
       "      <td>4.044319</td>\n",
       "      <td>7.996737</td>\n",
       "      <td>4.982097</td>\n",
       "    </tr>\n",
       "    <tr>\n",
       "      <th>std</th>\n",
       "      <td>3.003786</td>\n",
       "      <td>2.753359</td>\n",
       "      <td>2.062580</td>\n",
       "      <td>4.223484</td>\n",
       "      <td>2.879139</td>\n",
       "    </tr>\n",
       "    <tr>\n",
       "      <th>min</th>\n",
       "      <td>0.000000</td>\n",
       "      <td>0.000000</td>\n",
       "      <td>0.000000</td>\n",
       "      <td>0.000000</td>\n",
       "      <td>0.000000</td>\n",
       "    </tr>\n",
       "    <tr>\n",
       "      <th>25%</th>\n",
       "      <td>1.000000</td>\n",
       "      <td>3.000000</td>\n",
       "      <td>3.000000</td>\n",
       "      <td>5.000000</td>\n",
       "      <td>3.000000</td>\n",
       "    </tr>\n",
       "    <tr>\n",
       "      <th>50%</th>\n",
       "      <td>2.000000</td>\n",
       "      <td>5.000000</td>\n",
       "      <td>4.000000</td>\n",
       "      <td>8.000000</td>\n",
       "      <td>5.000000</td>\n",
       "    </tr>\n",
       "    <tr>\n",
       "      <th>75%</th>\n",
       "      <td>4.000000</td>\n",
       "      <td>8.000000</td>\n",
       "      <td>6.000000</td>\n",
       "      <td>12.000000</td>\n",
       "      <td>7.000000</td>\n",
       "    </tr>\n",
       "    <tr>\n",
       "      <th>max</th>\n",
       "      <td>11.000000</td>\n",
       "      <td>10.000000</td>\n",
       "      <td>7.000000</td>\n",
       "      <td>15.000000</td>\n",
       "      <td>10.000000</td>\n",
       "    </tr>\n",
       "  </tbody>\n",
       "</table>\n",
       "</div>"
      ],
      "text/plain": [
       "       Time_spent_Alone  Social_event_attendance  Going_outside  \\\n",
       "count      17334.000000             17344.000000   17058.000000   \n",
       "mean           3.137764                 5.265106       4.044319   \n",
       "std            3.003786                 2.753359       2.062580   \n",
       "min            0.000000                 0.000000       0.000000   \n",
       "25%            1.000000                 3.000000       3.000000   \n",
       "50%            2.000000                 5.000000       4.000000   \n",
       "75%            4.000000                 8.000000       6.000000   \n",
       "max           11.000000                10.000000       7.000000   \n",
       "\n",
       "       Friends_circle_size  Post_frequency  \n",
       "count         17470.000000    17260.000000  \n",
       "mean              7.996737        4.982097  \n",
       "std               4.223484        2.879139  \n",
       "min               0.000000        0.000000  \n",
       "25%               5.000000        3.000000  \n",
       "50%               8.000000        5.000000  \n",
       "75%              12.000000        7.000000  \n",
       "max              15.000000       10.000000  "
      ]
     },
     "execution_count": 4,
     "metadata": {},
     "output_type": "execute_result"
    }
   ],
   "source": [
    "data.describe()"
   ]
  },
  {
   "cell_type": "code",
   "execution_count": 5,
   "id": "71f18935",
   "metadata": {
    "execution": {
     "iopub.execute_input": "2025-08-20T16:14:41.233360Z",
     "iopub.status.busy": "2025-08-20T16:14:41.232986Z",
     "iopub.status.idle": "2025-08-20T16:14:41.241502Z",
     "shell.execute_reply": "2025-08-20T16:14:41.240401Z"
    },
    "id": "88VdVUEBxBkJ",
    "outputId": "e74e1e5a-9b9d-4c1b-b312-3fb79c60ae9f",
    "papermill": {
     "duration": 0.01682,
     "end_time": "2025-08-20T16:14:41.243189",
     "exception": false,
     "start_time": "2025-08-20T16:14:41.226369",
     "status": "completed"
    },
    "tags": []
   },
   "outputs": [
    {
     "data": {
      "text/plain": [
       "Time_spent_Alone             float64\n",
       "Stage_fear                    object\n",
       "Social_event_attendance      float64\n",
       "Going_outside                float64\n",
       "Drained_after_socializing     object\n",
       "Friends_circle_size          float64\n",
       "Post_frequency               float64\n",
       "Personality                   object\n",
       "dtype: object"
      ]
     },
     "execution_count": 5,
     "metadata": {},
     "output_type": "execute_result"
    }
   ],
   "source": [
    "data.dtypes"
   ]
  },
  {
   "cell_type": "code",
   "execution_count": 6,
   "id": "8a329a22",
   "metadata": {
    "execution": {
     "iopub.execute_input": "2025-08-20T16:14:41.255839Z",
     "iopub.status.busy": "2025-08-20T16:14:41.255525Z",
     "iopub.status.idle": "2025-08-20T16:14:44.897695Z",
     "shell.execute_reply": "2025-08-20T16:14:44.896416Z"
    },
    "id": "Hspar4cSxBkJ",
    "outputId": "e5ac3ec7-13e9-4a69-f1fe-09a97da55242",
    "papermill": {
     "duration": 3.651201,
     "end_time": "2025-08-20T16:14:44.900080",
     "exception": false,
     "start_time": "2025-08-20T16:14:41.248879",
     "status": "completed"
    },
    "tags": []
   },
   "outputs": [
    {
     "data": {
      "text/plain": [
       "array([[<Axes: title={'center': 'Time_spent_Alone'}>,\n",
       "        <Axes: title={'center': 'Social_event_attendance'}>],\n",
       "       [<Axes: title={'center': 'Going_outside'}>,\n",
       "        <Axes: title={'center': 'Friends_circle_size'}>],\n",
       "       [<Axes: title={'center': 'Post_frequency'}>, <Axes: >]],\n",
       "      dtype=object)"
      ]
     },
     "execution_count": 6,
     "metadata": {},
     "output_type": "execute_result"
    },
    {
     "data": {
      "image/png": "[encoded data removed]",
      "text/plain": [
       "<Figure size 1500x1000 with 6 Axes>"
      ]
     },
     "metadata": {},
     "output_type": "display_data"
    }
   ],
   "source": [
    "import matplotlib as plt\n",
    "import seaborn as sns\n",
    "\n",
    "data.hist(figsize=(15, 10), xlabelsize=8, ylabelsize=8)"
   ]
  },
  {
   "cell_type": "markdown",
   "id": "f30b2291",
   "metadata": {
    "id": "_VEX_POAxBkK",
    "papermill": {
     "duration": 0.00657,
     "end_time": "2025-08-20T16:14:44.913698",
     "exception": false,
     "start_time": "2025-08-20T16:14:44.907128",
     "status": "completed"
    },
    "tags": []
   },
   "source": [
    "The data looks to be pretty uniformly distributed, however time spend alone tend to be right skewed."
   ]
  },
  {
   "cell_type": "code",
   "execution_count": 7,
   "id": "3674b890",
   "metadata": {
    "execution": {
     "iopub.execute_input": "2025-08-20T16:14:44.928634Z",
     "iopub.status.busy": "2025-08-20T16:14:44.928120Z",
     "iopub.status.idle": "2025-08-20T16:14:45.180720Z",
     "shell.execute_reply": "2025-08-20T16:14:45.179573Z"
    },
    "id": "RKVQliYixBkK",
    "papermill": {
     "duration": 0.262398,
     "end_time": "2025-08-20T16:14:45.182900",
     "exception": false,
     "start_time": "2025-08-20T16:14:44.920502",
     "status": "completed"
    },
    "tags": []
   },
   "outputs": [],
   "source": [
    "from sklearn.preprocessing import OrdinalEncoder\n",
    "data['Introvert'] = data['Personality'].apply(lambda x: 1 if x == 'Introvert' else 0)\n",
    "data = data.drop(columns=['Personality'])\n",
    "\n",
    "my_encoder = OrdinalEncoder() # Your code here\n",
    "data[['Stage_fear', 'Drained_after_socializing']] = my_encoder.fit_transform(data[['Stage_fear', 'Drained_after_socializing']])"
   ]
  },
  {
   "cell_type": "code",
   "execution_count": 8,
   "id": "2561a47b",
   "metadata": {
    "execution": {
     "iopub.execute_input": "2025-08-20T16:14:45.201462Z",
     "iopub.status.busy": "2025-08-20T16:14:45.201072Z",
     "iopub.status.idle": "2025-08-20T16:14:45.586440Z",
     "shell.execute_reply": "2025-08-20T16:14:45.585480Z"
    },
    "id": "OZFRSZGvxBkK",
    "outputId": "2778e00b-9b75-4caf-e28f-a13622398164",
    "papermill": {
     "duration": 0.397803,
     "end_time": "2025-08-20T16:14:45.588365",
     "exception": false,
     "start_time": "2025-08-20T16:14:45.190562",
     "status": "completed"
    },
    "tags": []
   },
   "outputs": [
    {
     "name": "stderr",
     "output_type": "stream",
     "text": [
      "/tmp/ipykernel_13/4246125059.py:9: MatplotlibDeprecationWarning: Auto-removal of overlapping axes is deprecated since 3.6 and will be removed two minor releases later; explicitly call ax.remove() as needed.\n",
      "  ax = plt.subplot(1, 3, plot_count + 1)  # Adjust subplot position\n"
     ]
    },
    {
     "data": {
      "image/png": "[encoded data removed]",
      "text/plain": [
       "<Figure size 1200x300 with 3 Axes>"
      ]
     },
     "metadata": {},
     "output_type": "display_data"
    }
   ],
   "source": [
    "import matplotlib.pyplot as plt\n",
    "plt.figure(figsize=(12, 3))\n",
    "plt.title(\"Categoraical variables\")\n",
    "plt.axis(\"off\")\n",
    "plot_count = 0  # Initialize a counter for displayed images\n",
    "categorical_variables = ['Stage_fear', 'Drained_after_socializing', 'Introvert']\n",
    "\n",
    "for var in categorical_variables:\n",
    "    ax = plt.subplot(1, 3, plot_count + 1)  # Adjust subplot position\n",
    "    sns.countplot(data, x = var)\n",
    "    plot_count += 1  # Increment the counter\n",
    "plt.show()"
   ]
  },
  {
   "cell_type": "markdown",
   "id": "95328919",
   "metadata": {
    "id": "JkwR7TzcxBkK",
    "papermill": {
     "duration": 0.0125,
     "end_time": "2025-08-20T16:14:45.611559",
     "exception": false,
     "start_time": "2025-08-20T16:14:45.599059",
     "status": "completed"
    },
    "tags": []
   },
   "source": [
    "All distributions look moderately skewed."
   ]
  },
  {
   "cell_type": "code",
   "execution_count": 9,
   "id": "e02fe141",
   "metadata": {
    "execution": {
     "iopub.execute_input": "2025-08-20T16:14:45.635458Z",
     "iopub.status.busy": "2025-08-20T16:14:45.634915Z",
     "iopub.status.idle": "2025-08-20T16:14:47.266092Z",
     "shell.execute_reply": "2025-08-20T16:14:47.265035Z"
    },
    "id": "0xJK4BE3xBkK",
    "outputId": "93cb16f7-ad7f-46b0-e4fe-eae9d508ba36",
    "papermill": {
     "duration": 1.646143,
     "end_time": "2025-08-20T16:14:47.267966",
     "exception": false,
     "start_time": "2025-08-20T16:14:45.621823",
     "status": "completed"
    },
    "tags": []
   },
   "outputs": [
    {
     "name": "stderr",
     "output_type": "stream",
     "text": [
      "/usr/local/lib/python3.11/dist-packages/seaborn/axisgrid.py:118: UserWarning: The figure layout has changed to tight\n",
      "  self._figure.tight_layout(*args, **kwargs)\n"
     ]
    },
    {
     "data": {
      "image/png": "[encoded data removed]",
      "text/plain": [
       "<Figure size 1200x400 with 2 Axes>"
      ]
     },
     "metadata": {},
     "output_type": "display_data"
    }
   ],
   "source": [
    "sns.lmplot(\n",
    "    x='Time_spent_Alone', y=\"Introvert\", hue=\"Stage_fear\", col=\"Stage_fear\",\n",
    "    data=data, scatter_kws={\"edgecolor\": 'w'}, col_wrap=3, height=4,\n",
    ");"
   ]
  },
  {
   "cell_type": "markdown",
   "id": "9058f810",
   "metadata": {
    "id": "KUU14gYKBzLR",
    "papermill": {
     "duration": 0.008004,
     "end_time": "2025-08-20T16:14:47.284096",
     "exception": false,
     "start_time": "2025-08-20T16:14:47.276092",
     "status": "completed"
    },
    "tags": []
   },
   "source": [
    "The missing data in the dataframe should be considered."
   ]
  },
  {
   "cell_type": "code",
   "execution_count": 10,
   "id": "930dc3f6",
   "metadata": {
    "execution": {
     "iopub.execute_input": "2025-08-20T16:14:47.300261Z",
     "iopub.status.busy": "2025-08-20T16:14:47.299971Z",
     "iopub.status.idle": "2025-08-20T16:14:47.310865Z",
     "shell.execute_reply": "2025-08-20T16:14:47.309649Z"
    },
    "id": "dP4SSzJvB2Gv",
    "outputId": "98632566-6829-4102-ab94-bb4f09a83464",
    "papermill": {
     "duration": 0.020942,
     "end_time": "2025-08-20T16:14:47.312585",
     "exception": false,
     "start_time": "2025-08-20T16:14:47.291643",
     "status": "completed"
    },
    "tags": []
   },
   "outputs": [
    {
     "data": {
      "text/plain": [
       "Time_spent_Alone             1190\n",
       "Stage_fear                   1893\n",
       "Social_event_attendance      1180\n",
       "Going_outside                1466\n",
       "Drained_after_socializing    1149\n",
       "Friends_circle_size          1054\n",
       "Post_frequency               1264\n",
       "Introvert                       0\n",
       "dtype: int64"
      ]
     },
     "execution_count": 10,
     "metadata": {},
     "output_type": "execute_result"
    }
   ],
   "source": [
    "data.isnull().sum()"
   ]
  },
  {
   "cell_type": "markdown",
   "id": "f076657d",
   "metadata": {
    "id": "w4UdrQjgB81Z",
    "papermill": {
     "duration": 0.007536,
     "end_time": "2025-08-20T16:14:47.327937",
     "exception": false,
     "start_time": "2025-08-20T16:14:47.320401",
     "status": "completed"
    },
    "tags": []
   },
   "source": [
    "There seems to be missing data in all columns except for the target value. An imputation strategy should be used."
   ]
  },
  {
   "cell_type": "code",
   "execution_count": 11,
   "id": "c660dec7",
   "metadata": {
    "execution": {
     "iopub.execute_input": "2025-08-20T16:14:47.344158Z",
     "iopub.status.busy": "2025-08-20T16:14:47.343798Z",
     "iopub.status.idle": "2025-08-20T16:14:47.807250Z",
     "shell.execute_reply": "2025-08-20T16:14:47.806161Z"
    },
    "id": "KItq937WCOiS",
    "papermill": {
     "duration": 0.473684,
     "end_time": "2025-08-20T16:14:47.809192",
     "exception": false,
     "start_time": "2025-08-20T16:14:47.335508",
     "status": "completed"
    },
    "tags": []
   },
   "outputs": [],
   "source": [
    "from sklearn.impute import SimpleImputer\n",
    "\n",
    "my_imputer = SimpleImputer()\n",
    "data_clean = pd.DataFrame(my_imputer.fit_transform(data))\n",
    "data_clean.columns = data.columns"
   ]
  },
  {
   "cell_type": "code",
   "execution_count": 12,
   "id": "1f89aaf1",
   "metadata": {
    "execution": {
     "iopub.execute_input": "2025-08-20T16:14:47.827449Z",
     "iopub.status.busy": "2025-08-20T16:14:47.827106Z",
     "iopub.status.idle": "2025-08-20T16:14:47.835890Z",
     "shell.execute_reply": "2025-08-20T16:14:47.834918Z"
    },
    "id": "YH9urf1YFLe7",
    "outputId": "44332892-40c0-429e-d549-65462e0673d6",
    "papermill": {
     "duration": 0.019706,
     "end_time": "2025-08-20T16:14:47.837586",
     "exception": false,
     "start_time": "2025-08-20T16:14:47.817880",
     "status": "completed"
    },
    "tags": []
   },
   "outputs": [
    {
     "data": {
      "text/plain": [
       "Time_spent_Alone             0\n",
       "Stage_fear                   0\n",
       "Social_event_attendance      0\n",
       "Going_outside                0\n",
       "Drained_after_socializing    0\n",
       "Friends_circle_size          0\n",
       "Post_frequency               0\n",
       "Introvert                    0\n",
       "dtype: int64"
      ]
     },
     "execution_count": 12,
     "metadata": {},
     "output_type": "execute_result"
    }
   ],
   "source": [
    "data_clean.isnull().sum()"
   ]
  },
  {
   "cell_type": "markdown",
   "id": "b4f79b1e",
   "metadata": {
    "id": "KLCWVExlFi9b",
    "papermill": {
     "duration": 0.007374,
     "end_time": "2025-08-20T16:14:47.853483",
     "exception": false,
     "start_time": "2025-08-20T16:14:47.846109",
     "status": "completed"
    },
    "tags": []
   },
   "source": [
    "No more missing data :)"
   ]
  },
  {
   "cell_type": "markdown",
   "id": "6d7a9c14",
   "metadata": {
    "id": "gaZVqBS2xBkL",
    "papermill": {
     "duration": 0.007205,
     "end_time": "2025-08-20T16:14:47.868085",
     "exception": false,
     "start_time": "2025-08-20T16:14:47.860880",
     "status": "completed"
    },
    "tags": []
   },
   "source": [
    "# Preparing data\n",
    "\n",
    "The data is split into a training and testing set"
   ]
  },
  {
   "cell_type": "code",
   "execution_count": 13,
   "id": "09d1cc95",
   "metadata": {
    "execution": {
     "iopub.execute_input": "2025-08-20T16:14:47.884536Z",
     "iopub.status.busy": "2025-08-20T16:14:47.884198Z",
     "iopub.status.idle": "2025-08-20T16:14:47.895487Z",
     "shell.execute_reply": "2025-08-20T16:14:47.894608Z"
    },
    "id": "ZLKuSFg4xBkL",
    "papermill": {
     "duration": 0.021323,
     "end_time": "2025-08-20T16:14:47.897173",
     "exception": false,
     "start_time": "2025-08-20T16:14:47.875850",
     "status": "completed"
    },
    "tags": []
   },
   "outputs": [],
   "source": [
    "from sklearn.model_selection import train_test_split\n",
    "# Making X and y variables\n",
    "X = data_clean.copy()\n",
    "y = X.pop('Introvert')\n",
    "\n",
    "X_train, X_val, y_train, y_val = train_test_split(X, y, random_state = 0)"
   ]
  },
  {
   "cell_type": "markdown",
   "id": "41a043db",
   "metadata": {
    "id": "Od0qL90WGX_j",
    "papermill": {
     "duration": 0.007271,
     "end_time": "2025-08-20T16:14:47.912266",
     "exception": false,
     "start_time": "2025-08-20T16:14:47.904995",
     "status": "completed"
    },
    "tags": []
   },
   "source": [
    "## Going for an XGboost\n",
    "\n",
    "The following code will fit a classic XGboost with some different parameters"
   ]
  },
  {
   "cell_type": "code",
   "execution_count": 14,
   "id": "675312b6",
   "metadata": {
    "execution": {
     "iopub.execute_input": "2025-08-20T16:14:47.930695Z",
     "iopub.status.busy": "2025-08-20T16:14:47.930075Z",
     "iopub.status.idle": "2025-08-20T16:14:48.657720Z",
     "shell.execute_reply": "2025-08-20T16:14:48.656932Z"
    },
    "id": "YNMl63JwHbjI",
    "outputId": "d467e66a-f096-4bc4-e8f8-8bcb9442c515",
    "papermill": {
     "duration": 0.739154,
     "end_time": "2025-08-20T16:14:48.659917",
     "exception": false,
     "start_time": "2025-08-20T16:14:47.920763",
     "status": "completed"
    },
    "tags": []
   },
   "outputs": [
    {
     "data": {
      "text/html": [
       "<style>#sk-container-id-1 {color: black;background-color: white;}#sk-container-id-1 pre{padding: 0;}#sk-container-id-1 div.sk-toggleable {background-color: white;}#sk-container-id-1 label.sk-toggleable__label {cursor: pointer;display: block;width: 100%;margin-bottom: 0;padding: 0.3em;box-sizing: border-box;text-align: center;}#sk-container-id-1 label.sk-toggleable__label-arrow:before {content: \"▸\";float: left;margin-right: 0.25em;color: #696969;}#sk-container-id-1 label.sk-toggleable__label-arrow:hover:before {color: black;}#sk-container-id-1 div.sk-estimator:hover label.sk-toggleable__label-arrow:before {color: black;}#sk-container-id-1 div.sk-toggleable__content {max-height: 0;max-width: 0;overflow: hidden;text-align: left;background-color: #f0f8ff;}#sk-container-id-1 div.sk-toggleable__content pre {margin: 0.2em;color: black;border-radius: 0.25em;background-color: #f0f8ff;}#sk-container-id-1 input.sk-toggleable__control:checked~div.sk-toggleable__content {max-height: 200px;max-width: 100%;overflow: auto;}#sk-container-id-1 input.sk-toggleable__control:checked~label.sk-toggleable__label-arrow:before {content: \"▾\";}#sk-container-id-1 div.sk-estimator input.sk-toggleable__control:checked~label.sk-toggleable__label {background-color: #d4ebff;}#sk-container-id-1 div.sk-label input.sk-toggleable__control:checked~label.sk-toggleable__label {background-color: #d4ebff;}#sk-container-id-1 input.sk-hidden--visually {border: 0;clip: rect(1px 1px 1px 1px);clip: rect(1px, 1px, 1px, 1px);height: 1px;margin: -1px;overflow: hidden;padding: 0;position: absolute;width: 1px;}#sk-container-id-1 div.sk-estimator {font-family: monospace;background-color: #f0f8ff;border: 1px dotted black;border-radius: 0.25em;box-sizing: border-box;margin-bottom: 0.5em;}#sk-container-id-1 div.sk-estimator:hover {background-color: #d4ebff;}#sk-container-id-1 div.sk-parallel-item::after {content: \"\";width: 100%;border-bottom: 1px solid gray;flex-grow: 1;}#sk-container-id-1 div.sk-label:hover label.sk-toggleable__label {background-color: #d4ebff;}#sk-container-id-1 div.sk-serial::before {content: \"\";position: absolute;border-left: 1px solid gray;box-sizing: border-box;top: 0;bottom: 0;left: 50%;z-index: 0;}#sk-container-id-1 div.sk-serial {display: flex;flex-direction: column;align-items: center;background-color: white;padding-right: 0.2em;padding-left: 0.2em;position: relative;}#sk-container-id-1 div.sk-item {position: relative;z-index: 1;}#sk-container-id-1 div.sk-parallel {display: flex;align-items: stretch;justify-content: center;background-color: white;position: relative;}#sk-container-id-1 div.sk-item::before, #sk-container-id-1 div.sk-parallel-item::before {content: \"\";position: absolute;border-left: 1px solid gray;box-sizing: border-box;top: 0;bottom: 0;left: 50%;z-index: -1;}#sk-container-id-1 div.sk-parallel-item {display: flex;flex-direction: column;z-index: 1;position: relative;background-color: white;}#sk-container-id-1 div.sk-parallel-item:first-child::after {align-self: flex-end;width: 50%;}#sk-container-id-1 div.sk-parallel-item:last-child::after {align-self: flex-start;width: 50%;}#sk-container-id-1 div.sk-parallel-item:only-child::after {width: 0;}#sk-container-id-1 div.sk-dashed-wrapped {border: 1px dashed gray;margin: 0 0.4em 0.5em 0.4em;box-sizing: border-box;padding-bottom: 0.4em;background-color: white;}#sk-container-id-1 div.sk-label label {font-family: monospace;font-weight: bold;display: inline-block;line-height: 1.2em;}#sk-container-id-1 div.sk-label-container {text-align: center;}#sk-container-id-1 div.sk-container {/* jupyter's `normalize.less` sets `[hidden] { display: none; }` but bootstrap.min.css set `[hidden] { display: none !important; }` so we also need the `!important` here to be able to override the default hidden behavior on the sphinx rendered scikit-learn.org. See: https://github.com/scikit-learn/scikit-learn/issues/21755 */display: inline-block !important;position: relative;}#sk-container-id-1 div.sk-text-repr-fallback {display: none;}</style><div id=\"sk-container-id-1\" class=\"sk-top-container\"><div class=\"sk-text-repr-fallback\"><pre>XGBClassifier(base_score=None, booster=None, callbacks=None,\n",
       "              colsample_bylevel=None, colsample_bynode=None,\n",
       "              colsample_bytree=None, device=None, early_stopping_rounds=None,\n",
       "              enable_categorical=False, eval_metric=None, feature_types=None,\n",
       "              gamma=None, grow_policy=None, importance_type=None,\n",
       "              interaction_constraints=None, learning_rate=0.05, max_bin=None,\n",
       "              max_cat_threshold=None, max_cat_to_onehot=None,\n",
       "              max_delta_step=None, max_depth=None, max_leaves=None,\n",
       "              min_child_weight=None, missing=nan, monotone_constraints=None,\n",
       "              multi_strategy=None, n_estimators=200, n_jobs=None,\n",
       "              num_parallel_tree=None, random_state=None, ...)</pre><b>In a Jupyter environment, please rerun this cell to show the HTML representation or trust the notebook. <br />On GitHub, the HTML representation is unable to render, please try loading this page with nbviewer.org.</b></div><div class=\"sk-container\" hidden><div class=\"sk-item\"><div class=\"sk-estimator sk-toggleable\"><input class=\"sk-toggleable__control sk-hidden--visually\" id=\"sk-estimator-id-1\" type=\"checkbox\" checked><label for=\"sk-estimator-id-1\" class=\"sk-toggleable__label sk-toggleable__label-arrow\">XGBClassifier</label><div class=\"sk-toggleable__content\"><pre>XGBClassifier(base_score=None, booster=None, callbacks=None,\n",
       "              colsample_bylevel=None, colsample_bynode=None,\n",
       "              colsample_bytree=None, device=None, early_stopping_rounds=None,\n",
       "              enable_categorical=False, eval_metric=None, feature_types=None,\n",
       "              gamma=None, grow_policy=None, importance_type=None,\n",
       "              interaction_constraints=None, learning_rate=0.05, max_bin=None,\n",
       "              max_cat_threshold=None, max_cat_to_onehot=None,\n",
       "              max_delta_step=None, max_depth=None, max_leaves=None,\n",
       "              min_child_weight=None, missing=nan, monotone_constraints=None,\n",
       "              multi_strategy=None, n_estimators=200, n_jobs=None,\n",
       "              num_parallel_tree=None, random_state=None, ...)</pre></div></div></div></div></div>"
      ],
      "text/plain": [
       "XGBClassifier(base_score=None, booster=None, callbacks=None,\n",
       "              colsample_bylevel=None, colsample_bynode=None,\n",
       "              colsample_bytree=None, device=None, early_stopping_rounds=None,\n",
       "              enable_categorical=False, eval_metric=None, feature_types=None,\n",
       "              gamma=None, grow_policy=None, importance_type=None,\n",
       "              interaction_constraints=None, learning_rate=0.05, max_bin=None,\n",
       "              max_cat_threshold=None, max_cat_to_onehot=None,\n",
       "              max_delta_step=None, max_depth=None, max_leaves=None,\n",
       "              min_child_weight=None, missing=nan, monotone_constraints=None,\n",
       "              multi_strategy=None, n_estimators=200, n_jobs=None,\n",
       "              num_parallel_tree=None, random_state=None, ...)"
      ]
     },
     "execution_count": 14,
     "metadata": {},
     "output_type": "execute_result"
    }
   ],
   "source": [
    "from xgboost import XGBClassifier\n",
    "from sklearn.metrics import mean_absolute_error\n",
    "model = XGBClassifier(n_estimators=200, learning_rate=0.05)\n",
    "model.fit(X_train, y_train)"
   ]
  },
  {
   "cell_type": "code",
   "execution_count": 15,
   "id": "531a314d",
   "metadata": {
    "execution": {
     "iopub.execute_input": "2025-08-20T16:14:48.677190Z",
     "iopub.status.busy": "2025-08-20T16:14:48.676878Z",
     "iopub.status.idle": "2025-08-20T16:14:48.709020Z",
     "shell.execute_reply": "2025-08-20T16:14:48.708118Z"
    },
    "id": "CxuHPCdaHzJQ",
    "outputId": "8379ab13-636c-46ba-acd2-a496d1ee2eac",
    "papermill": {
     "duration": 0.042754,
     "end_time": "2025-08-20T16:14:48.711037",
     "exception": false,
     "start_time": "2025-08-20T16:14:48.668283",
     "status": "completed"
    },
    "tags": []
   },
   "outputs": [
    {
     "name": "stdout",
     "output_type": "stream",
     "text": [
      "Accuracy: 96.95530123083567 %\n",
      "[[3368   56]\n",
      " [  85 1122]]\n"
     ]
    }
   ],
   "source": [
    "from sklearn.metrics import confusion_matrix\n",
    "from sklearn.metrics import accuracy_score\n",
    "preds = model.predict(X_val)\n",
    "acc = accuracy_score(y_val, preds)\n",
    "print(\"Accuracy: \" , acc*100, \" %\", sep=\"\")\n",
    "print(confusion_matrix(y_val, preds))"
   ]
  },
  {
   "cell_type": "markdown",
   "id": "2016ba87",
   "metadata": {
    "id": "ZmvlMiEuIhoB",
    "papermill": {
     "duration": 0.008151,
     "end_time": "2025-08-20T16:14:48.727391",
     "exception": false,
     "start_time": "2025-08-20T16:14:48.719240",
     "status": "completed"
    },
    "tags": []
   },
   "source": [
    "This is a good accuracy, but can it get better? Maybe."
   ]
  },
  {
   "cell_type": "markdown",
   "id": "fa620292",
   "metadata": {
    "id": "s4sY8IsnKQlX",
    "papermill": {
     "duration": 0.007899,
     "end_time": "2025-08-20T16:14:48.743100",
     "exception": false,
     "start_time": "2025-08-20T16:14:48.735201",
     "status": "completed"
    },
    "tags": []
   },
   "source": [
    "# Making predictions on the test set\n",
    "\n",
    "The best model is being used to predict on the test set. However the test set first needs to be loaded and preprocessed just like the training set."
   ]
  },
  {
   "cell_type": "code",
   "execution_count": 16,
   "id": "77b3b55f",
   "metadata": {
    "execution": {
     "iopub.execute_input": "2025-08-20T16:14:48.760967Z",
     "iopub.status.busy": "2025-08-20T16:14:48.760545Z",
     "iopub.status.idle": "2025-08-20T16:14:48.815804Z",
     "shell.execute_reply": "2025-08-20T16:14:48.814630Z"
    },
    "id": "wtQL4cmyMcMP",
    "outputId": "66d672d9-f0b6-49c0-88b1-2a9e931136e6",
    "papermill": {
     "duration": 0.066124,
     "end_time": "2025-08-20T16:14:48.817487",
     "exception": false,
     "start_time": "2025-08-20T16:14:48.751363",
     "status": "completed"
    },
    "tags": []
   },
   "outputs": [
    {
     "data": {
      "text/html": [
       "<div>\n",
       "<style scoped>\n",
       "    .dataframe tbody tr th:only-of-type {\n",
       "        vertical-align: middle;\n",
       "    }\n",
       "\n",
       "    .dataframe tbody tr th {\n",
       "        vertical-align: top;\n",
       "    }\n",
       "\n",
       "    .dataframe thead th {\n",
       "        text-align: right;\n",
       "    }\n",
       "</style>\n",
       "<table border=\"1\" class=\"dataframe\">\n",
       "  <thead>\n",
       "    <tr style=\"text-align: right;\">\n",
       "      <th></th>\n",
       "      <th>Time_spent_Alone</th>\n",
       "      <th>Stage_fear</th>\n",
       "      <th>Social_event_attendance</th>\n",
       "      <th>Going_outside</th>\n",
       "      <th>Drained_after_socializing</th>\n",
       "      <th>Friends_circle_size</th>\n",
       "      <th>Post_frequency</th>\n",
       "    </tr>\n",
       "  </thead>\n",
       "  <tbody>\n",
       "    <tr>\n",
       "      <th>0</th>\n",
       "      <td>3.00000</td>\n",
       "      <td>0.0</td>\n",
       "      <td>7.0</td>\n",
       "      <td>4.0</td>\n",
       "      <td>0.0</td>\n",
       "      <td>6.0</td>\n",
       "      <td>5.028958</td>\n",
       "    </tr>\n",
       "    <tr>\n",
       "      <th>1</th>\n",
       "      <td>3.11687</td>\n",
       "      <td>1.0</td>\n",
       "      <td>0.0</td>\n",
       "      <td>0.0</td>\n",
       "      <td>1.0</td>\n",
       "      <td>5.0</td>\n",
       "      <td>1.000000</td>\n",
       "    </tr>\n",
       "    <tr>\n",
       "      <th>2</th>\n",
       "      <td>3.00000</td>\n",
       "      <td>0.0</td>\n",
       "      <td>5.0</td>\n",
       "      <td>6.0</td>\n",
       "      <td>0.0</td>\n",
       "      <td>15.0</td>\n",
       "      <td>9.000000</td>\n",
       "    </tr>\n",
       "    <tr>\n",
       "      <th>3</th>\n",
       "      <td>3.00000</td>\n",
       "      <td>0.0</td>\n",
       "      <td>4.0</td>\n",
       "      <td>4.0</td>\n",
       "      <td>0.0</td>\n",
       "      <td>5.0</td>\n",
       "      <td>6.000000</td>\n",
       "    </tr>\n",
       "    <tr>\n",
       "      <th>4</th>\n",
       "      <td>9.00000</td>\n",
       "      <td>1.0</td>\n",
       "      <td>1.0</td>\n",
       "      <td>2.0</td>\n",
       "      <td>1.0</td>\n",
       "      <td>1.0</td>\n",
       "      <td>1.000000</td>\n",
       "    </tr>\n",
       "    <tr>\n",
       "      <th>...</th>\n",
       "      <td>...</td>\n",
       "      <td>...</td>\n",
       "      <td>...</td>\n",
       "      <td>...</td>\n",
       "      <td>...</td>\n",
       "      <td>...</td>\n",
       "      <td>...</td>\n",
       "    </tr>\n",
       "    <tr>\n",
       "      <th>6170</th>\n",
       "      <td>3.00000</td>\n",
       "      <td>0.0</td>\n",
       "      <td>5.0</td>\n",
       "      <td>5.0</td>\n",
       "      <td>0.0</td>\n",
       "      <td>9.0</td>\n",
       "      <td>6.000000</td>\n",
       "    </tr>\n",
       "    <tr>\n",
       "      <th>6171</th>\n",
       "      <td>8.00000</td>\n",
       "      <td>1.0</td>\n",
       "      <td>2.0</td>\n",
       "      <td>1.0</td>\n",
       "      <td>1.0</td>\n",
       "      <td>0.0</td>\n",
       "      <td>0.000000</td>\n",
       "    </tr>\n",
       "    <tr>\n",
       "      <th>6172</th>\n",
       "      <td>2.00000</td>\n",
       "      <td>0.0</td>\n",
       "      <td>4.0</td>\n",
       "      <td>3.0</td>\n",
       "      <td>0.0</td>\n",
       "      <td>9.0</td>\n",
       "      <td>7.000000</td>\n",
       "    </tr>\n",
       "    <tr>\n",
       "      <th>6173</th>\n",
       "      <td>3.00000</td>\n",
       "      <td>0.0</td>\n",
       "      <td>4.0</td>\n",
       "      <td>4.0</td>\n",
       "      <td>0.0</td>\n",
       "      <td>11.0</td>\n",
       "      <td>9.000000</td>\n",
       "    </tr>\n",
       "    <tr>\n",
       "      <th>6174</th>\n",
       "      <td>3.11687</td>\n",
       "      <td>1.0</td>\n",
       "      <td>1.0</td>\n",
       "      <td>1.0</td>\n",
       "      <td>1.0</td>\n",
       "      <td>1.0</td>\n",
       "      <td>0.000000</td>\n",
       "    </tr>\n",
       "  </tbody>\n",
       "</table>\n",
       "<p>6175 rows × 7 columns</p>\n",
       "</div>"
      ],
      "text/plain": [
       "      Time_spent_Alone  Stage_fear  Social_event_attendance  Going_outside  \\\n",
       "0              3.00000         0.0                      7.0            4.0   \n",
       "1              3.11687         1.0                      0.0            0.0   \n",
       "2              3.00000         0.0                      5.0            6.0   \n",
       "3              3.00000         0.0                      4.0            4.0   \n",
       "4              9.00000         1.0                      1.0            2.0   \n",
       "...                ...         ...                      ...            ...   \n",
       "6170           3.00000         0.0                      5.0            5.0   \n",
       "6171           8.00000         1.0                      2.0            1.0   \n",
       "6172           2.00000         0.0                      4.0            3.0   \n",
       "6173           3.00000         0.0                      4.0            4.0   \n",
       "6174           3.11687         1.0                      1.0            1.0   \n",
       "\n",
       "      Drained_after_socializing  Friends_circle_size  Post_frequency  \n",
       "0                           0.0                  6.0        5.028958  \n",
       "1                           1.0                  5.0        1.000000  \n",
       "2                           0.0                 15.0        9.000000  \n",
       "3                           0.0                  5.0        6.000000  \n",
       "4                           1.0                  1.0        1.000000  \n",
       "...                         ...                  ...             ...  \n",
       "6170                        0.0                  9.0        6.000000  \n",
       "6171                        1.0                  0.0        0.000000  \n",
       "6172                        0.0                  9.0        7.000000  \n",
       "6173                        0.0                 11.0        9.000000  \n",
       "6174                        1.0                  1.0        0.000000  \n",
       "\n",
       "[6175 rows x 7 columns]"
      ]
     },
     "execution_count": 16,
     "metadata": {},
     "output_type": "execute_result"
    }
   ],
   "source": [
    "# The below code should be converted to a function for future use to avoid code cuplication\n",
    "data_test = pd.read_csv(f'{INPUT_PATH}/test.csv', index_col='id')\n",
    "\n",
    "my_encoder = OrdinalEncoder() # Your code here\n",
    "data_test[['Stage_fear', 'Drained_after_socializing']] = my_encoder.fit_transform(data_test[['Stage_fear', 'Drained_after_socializing']])\n",
    "my_imputer = SimpleImputer()\n",
    "cols = data_test.columns\n",
    "data_test = pd.DataFrame(my_imputer.fit_transform(data_test))\n",
    "data_test.columns = cols\n",
    "data_test"
   ]
  },
  {
   "cell_type": "code",
   "execution_count": 17,
   "id": "5d9f2abf",
   "metadata": {
    "execution": {
     "iopub.execute_input": "2025-08-20T16:14:48.835568Z",
     "iopub.status.busy": "2025-08-20T16:14:48.835199Z",
     "iopub.status.idle": "2025-08-20T16:14:48.856845Z",
     "shell.execute_reply": "2025-08-20T16:14:48.856177Z"
    },
    "id": "18zMqhQtN97W",
    "papermill": {
     "duration": 0.032938,
     "end_time": "2025-08-20T16:14:48.858700",
     "exception": false,
     "start_time": "2025-08-20T16:14:48.825762",
     "status": "completed"
    },
    "tags": []
   },
   "outputs": [],
   "source": [
    "test_preds = model.predict(data_test)"
   ]
  },
  {
   "cell_type": "code",
   "execution_count": 18,
   "id": "6118e57b",
   "metadata": {
    "execution": {
     "iopub.execute_input": "2025-08-20T16:14:48.879174Z",
     "iopub.status.busy": "2025-08-20T16:14:48.878860Z",
     "iopub.status.idle": "2025-08-20T16:14:48.894025Z",
     "shell.execute_reply": "2025-08-20T16:14:48.893108Z"
    },
    "id": "aikh5rXnODzM",
    "papermill": {
     "duration": 0.0265,
     "end_time": "2025-08-20T16:14:48.895665",
     "exception": false,
     "start_time": "2025-08-20T16:14:48.869165",
     "status": "completed"
    },
    "tags": []
   },
   "outputs": [],
   "source": [
    "output = pd.DataFrame({'id': data_test.index,\n",
    "                       'Personality': test_preds})\n",
    "output.to_csv('submission.csv', index=False)"
   ]
  }
 ],
 "metadata": {
  "colab": {
   "include_colab_link": true,
   "name": "Predicting Introverts and extroverts",
   "provenance": []
  },
  "kaggle": {
   "accelerator": "none",
   "dataSources": [
    {
     "databundleVersionId": 12738969,
     "sourceId": 91718,
     "sourceType": "competition"
    }
   ],
   "dockerImageVersionId": 31089,
   "isGpuEnabled": false,
   "isInternetEnabled": true,
   "language": "python",
   "sourceType": "notebook"
  },
  "kernelspec": {
   "display_name": "Python 3",
   "language": "python",
   "name": "python3"
  },
  "language_info": {
   "codemirror_mode": {
    "name": "ipython",
    "version": 3
   },
   "file_extension": ".py",
   "mimetype": "text/x-python",
   "name": "python",
   "nbconvert_exporter": "python",
   "pygments_lexer": "ipython3",
   "version": "3.11.13"
  },
  "papermill": {
   "default_parameters": {},
   "duration": 17.354826,
   "end_time": "2025-08-20T16:14:49.726638",
   "environment_variables": {},
   "exception": null,
   "input_path": "__notebook__.ipynb",
   "output_path": "__notebook__.ipynb",
   "parameters": {},
   "start_time": "2025-08-20T16:14:32.371812",
   "version": "2.6.0"
  }
 },
 "nbformat": 4,
 "nbformat_minor": 5
}

{
 "cells": [
  {
   "cell_type": "markdown",
   "id": "5c7cfdb3",
   "metadata": {
    "id": "view-in-github",
    "papermill": {
     "duration": 0.005891,
     "end_time": "2025-08-21T18:19:06.698175",
     "exception": false,
     "start_time": "2025-08-21T18:19:06.692284",
     "status": "completed"
    },
    "tags": []
   },
   "source": [
    "<a href=\"https://colab.research.google.com/github/simon-mellergaard/datasimon/blob/main/Kaggle%20competitions/introverts-extroverts.ipynb\" target=\"_parent\"><img src=\"https://colab.research.google.com/assets/colab-badge.svg\" alt=\"Open In Colab\"/></a>"
   ]
  },
  {
   "cell_type": "code",
   "execution_count": 1,
   "id": "541db331",
   "metadata": {
    "execution": {
     "iopub.execute_input": "2025-08-21T18:19:06.710114Z",
     "iopub.status.busy": "2025-08-21T18:19:06.709676Z",
     "iopub.status.idle": "2025-08-21T18:19:12.534101Z",
     "shell.execute_reply": "2025-08-21T18:19:12.532926Z"
    },
    "id": "zK4OpBhVzGrZ",
    "papermill": {
     "duration": 5.832588,
     "end_time": "2025-08-21T18:19:12.536020",
     "exception": false,
     "start_time": "2025-08-21T18:19:06.703432",
     "status": "completed"
    },
    "tags": []
   },
   "outputs": [],
   "source": [
    "from sklearn.preprocessing import OrdinalEncoder\n",
    "from sklearn.model_selection import train_test_split\n",
    "from sklearn.impute import SimpleImputer\n",
    "from sklearn.metrics import confusion_matrix\n",
    "from sklearn.metrics import accuracy_score\n",
    "import matplotlib.pyplot as plt\n",
    "import matplotlib as plt\n",
    "import seaborn as sns\n",
    "import warnings\n",
    "import pandas as pd\n",
    "import os\n",
    "\n",
    "warnings.filterwarnings('ignore')"
   ]
  },
  {
   "cell_type": "code",
   "execution_count": 2,
   "id": "dbdbede1",
   "metadata": {
    "execution": {
     "iopub.execute_input": "2025-08-21T18:19:12.547917Z",
     "iopub.status.busy": "2025-08-21T18:19:12.547414Z",
     "iopub.status.idle": "2025-08-21T18:19:12.558608Z",
     "shell.execute_reply": "2025-08-21T18:19:12.557650Z"
    },
    "id": "1e848480",
    "outputId": "f9e2ee5e-6a29-42a4-cb4a-b45b40748aa6",
    "papermill": {
     "duration": 0.018861,
     "end_time": "2025-08-21T18:19:12.560161",
     "exception": false,
     "start_time": "2025-08-21T18:19:12.541300",
     "status": "completed"
    },
    "tags": []
   },
   "outputs": [],
   "source": [
    "# Slect platform (colab or kaggle)\n",
    "PlATFORM_IS_KAGGLE = True\n",
    "\n",
    "if PlATFORM_IS_KAGGLE:\n",
    "    INPUT_PATH = '/kaggle/input/playground-series-s5e7'\n",
    "else:\n",
    "    import kagglehub\n",
    "    from google.colab import userdata\n",
    "    !mkdir ~/.kaggle\n",
    "    !echo -n '{\"username\":\"simonmellergaard\",\"key\":\"' > ~/.kaggle/kaggle.json\n",
    "    !echo -n {userdata.get('Kaggle')} >> ~/.kaggle/kaggle.json\n",
    "    !echo -n '\"}' >> ~/.kaggle/kaggle.json\n",
    "    !chmod 600 ~/.kaggle/kaggle.json\n",
    "    playground_series_s5e7_path = kagglehub.competition_download('playground-series-s5e7')\n",
    "    print('Data source import complete and located at: ' + playground_series_s5e7_path)\n",
    "    INPUT_PATH = '/root/.cache/kagglehub/competitions/playground-series-s5e7'\n",
    "CURRENT_DIR = os.getcwd()"
   ]
  },
  {
   "cell_type": "markdown",
   "id": "98baf152",
   "metadata": {
    "id": "067f165e",
    "papermill": {
     "duration": 0.004712,
     "end_time": "2025-08-21T18:19:12.569918",
     "exception": false,
     "start_time": "2025-08-21T18:19:12.565206",
     "status": "completed"
    },
    "tags": []
   },
   "source": [
    "# Making advanced predictions of extrovetrs and introverts\n",
    "\n",
    "The code is showing the way."
   ]
  },
  {
   "cell_type": "code",
   "execution_count": 3,
   "id": "67650628",
   "metadata": {
    "execution": {
     "iopub.execute_input": "2025-08-21T18:19:12.580875Z",
     "iopub.status.busy": "2025-08-21T18:19:12.580511Z",
     "iopub.status.idle": "2025-08-21T18:19:12.653243Z",
     "shell.execute_reply": "2025-08-21T18:19:12.652205Z"
    },
    "id": "d581383a",
    "papermill": {
     "duration": 0.080562,
     "end_time": "2025-08-21T18:19:12.655214",
     "exception": false,
     "start_time": "2025-08-21T18:19:12.574652",
     "status": "completed"
    },
    "tags": []
   },
   "outputs": [],
   "source": [
    "data = pd.read_csv(f'{INPUT_PATH}/train.csv', index_col='id')"
   ]
  },
  {
   "cell_type": "code",
   "execution_count": 4,
   "id": "408119a3",
   "metadata": {
    "execution": {
     "iopub.execute_input": "2025-08-21T18:19:12.667635Z",
     "iopub.status.busy": "2025-08-21T18:19:12.667307Z",
     "iopub.status.idle": "2025-08-21T18:19:12.694261Z",
     "shell.execute_reply": "2025-08-21T18:19:12.693188Z"
    },
    "id": "3e107fce",
    "outputId": "0f9663f5-a07d-47df-a50e-058713a8c3d2",
    "papermill": {
     "duration": 0.035727,
     "end_time": "2025-08-21T18:19:12.696123",
     "exception": false,
     "start_time": "2025-08-21T18:19:12.660396",
     "status": "completed"
    },
    "tags": []
   },
   "outputs": [
    {
     "data": {
      "text/html": [
       "<div>\n",
       "<style scoped>\n",
       "    .dataframe tbody tr th:only-of-type {\n",
       "        vertical-align: middle;\n",
       "    }\n",
       "\n",
       "    .dataframe tbody tr th {\n",
       "        vertical-align: top;\n",
       "    }\n",
       "\n",
       "    .dataframe thead th {\n",
       "        text-align: right;\n",
       "    }\n",
       "</style>\n",
       "<table border=\"1\" class=\"dataframe\">\n",
       "  <thead>\n",
       "    <tr style=\"text-align: right;\">\n",
       "      <th></th>\n",
       "      <th>Time_spent_Alone</th>\n",
       "      <th>Stage_fear</th>\n",
       "      <th>Social_event_attendance</th>\n",
       "      <th>Going_outside</th>\n",
       "      <th>Drained_after_socializing</th>\n",
       "      <th>Friends_circle_size</th>\n",
       "      <th>Post_frequency</th>\n",
       "      <th>Personality</th>\n",
       "    </tr>\n",
       "    <tr>\n",
       "      <th>id</th>\n",
       "      <th></th>\n",
       "      <th></th>\n",
       "      <th></th>\n",
       "      <th></th>\n",
       "      <th></th>\n",
       "      <th></th>\n",
       "      <th></th>\n",
       "      <th></th>\n",
       "    </tr>\n",
       "  </thead>\n",
       "  <tbody>\n",
       "    <tr>\n",
       "      <th>0</th>\n",
       "      <td>0.0</td>\n",
       "      <td>No</td>\n",
       "      <td>6.0</td>\n",
       "      <td>4.0</td>\n",
       "      <td>No</td>\n",
       "      <td>15.0</td>\n",
       "      <td>5.0</td>\n",
       "      <td>Extrovert</td>\n",
       "    </tr>\n",
       "    <tr>\n",
       "      <th>1</th>\n",
       "      <td>1.0</td>\n",
       "      <td>No</td>\n",
       "      <td>7.0</td>\n",
       "      <td>3.0</td>\n",
       "      <td>No</td>\n",
       "      <td>10.0</td>\n",
       "      <td>8.0</td>\n",
       "      <td>Extrovert</td>\n",
       "    </tr>\n",
       "    <tr>\n",
       "      <th>2</th>\n",
       "      <td>6.0</td>\n",
       "      <td>Yes</td>\n",
       "      <td>1.0</td>\n",
       "      <td>0.0</td>\n",
       "      <td>NaN</td>\n",
       "      <td>3.0</td>\n",
       "      <td>0.0</td>\n",
       "      <td>Introvert</td>\n",
       "    </tr>\n",
       "    <tr>\n",
       "      <th>3</th>\n",
       "      <td>3.0</td>\n",
       "      <td>No</td>\n",
       "      <td>7.0</td>\n",
       "      <td>3.0</td>\n",
       "      <td>No</td>\n",
       "      <td>11.0</td>\n",
       "      <td>5.0</td>\n",
       "      <td>Extrovert</td>\n",
       "    </tr>\n",
       "    <tr>\n",
       "      <th>4</th>\n",
       "      <td>1.0</td>\n",
       "      <td>No</td>\n",
       "      <td>4.0</td>\n",
       "      <td>4.0</td>\n",
       "      <td>No</td>\n",
       "      <td>13.0</td>\n",
       "      <td>NaN</td>\n",
       "      <td>Extrovert</td>\n",
       "    </tr>\n",
       "  </tbody>\n",
       "</table>\n",
       "</div>"
      ],
      "text/plain": [
       "    Time_spent_Alone Stage_fear  Social_event_attendance  Going_outside  \\\n",
       "id                                                                        \n",
       "0                0.0         No                      6.0            4.0   \n",
       "1                1.0         No                      7.0            3.0   \n",
       "2                6.0        Yes                      1.0            0.0   \n",
       "3                3.0         No                      7.0            3.0   \n",
       "4                1.0         No                      4.0            4.0   \n",
       "\n",
       "   Drained_after_socializing  Friends_circle_size  Post_frequency Personality  \n",
       "id                                                                             \n",
       "0                         No                 15.0             5.0   Extrovert  \n",
       "1                         No                 10.0             8.0   Extrovert  \n",
       "2                        NaN                  3.0             0.0   Introvert  \n",
       "3                         No                 11.0             5.0   Extrovert  \n",
       "4                         No                 13.0             NaN   Extrovert  "
      ]
     },
     "execution_count": 4,
     "metadata": {},
     "output_type": "execute_result"
    }
   ],
   "source": [
    "data.head()"
   ]
  },
  {
   "cell_type": "markdown",
   "id": "296cafd9",
   "metadata": {
    "id": "e0427387",
    "papermill": {
     "duration": 0.004995,
     "end_time": "2025-08-21T18:19:12.706433",
     "exception": false,
     "start_time": "2025-08-21T18:19:12.701438",
     "status": "completed"
    },
    "tags": []
   },
   "source": [
    "The description of the variables are as follows:\n",
    "* Time_spent_Alone: Hours spent alone daily (0–11).\n",
    "* Stage_fear: Presence of stage fright (Yes/No).\n",
    "* Social_event_attendance: Frequency of social events (0–10).\n",
    "* Going_outside: Frequency of going outside (0–7).\n",
    "* Drained_after_socializing: Feeling drained after socializing (Yes/No).\n",
    "* Friends_circle_size: Number of close friends (0–15).\n",
    "* Post_frequency: Social media post frequency (0–10).\n",
    "* Personality: Target variable (Extrovert/Introvert).\n",
    "\n",
    "There are two categorical variables and 6 numeric varialbe. The target variable is binary, so it is a binary classification problem."
   ]
  },
  {
   "cell_type": "code",
   "execution_count": 5,
   "id": "9fb04e9c",
   "metadata": {
    "execution": {
     "iopub.execute_input": "2025-08-21T18:19:12.718246Z",
     "iopub.status.busy": "2025-08-21T18:19:12.717464Z",
     "iopub.status.idle": "2025-08-21T18:19:12.751268Z",
     "shell.execute_reply": "2025-08-21T18:19:12.750333Z"
    },
    "id": "1deda045",
    "outputId": "2ead619a-8b18-46a1-90d7-fbbf309e65b2",
    "papermill": {
     "duration": 0.041806,
     "end_time": "2025-08-21T18:19:12.753253",
     "exception": false,
     "start_time": "2025-08-21T18:19:12.711447",
     "status": "completed"
    },
    "tags": []
   },
   "outputs": [
    {
     "data": {
      "text/html": [
       "<div>\n",
       "<style scoped>\n",
       "    .dataframe tbody tr th:only-of-type {\n",
       "        vertical-align: middle;\n",
       "    }\n",
       "\n",
       "    .dataframe tbody tr th {\n",
       "        vertical-align: top;\n",
       "    }\n",
       "\n",
       "    .dataframe thead th {\n",
       "        text-align: right;\n",
       "    }\n",
       "</style>\n",
       "<table border=\"1\" class=\"dataframe\">\n",
       "  <thead>\n",
       "    <tr style=\"text-align: right;\">\n",
       "      <th></th>\n",
       "      <th>Time_spent_Alone</th>\n",
       "      <th>Social_event_attendance</th>\n",
       "      <th>Going_outside</th>\n",
       "      <th>Friends_circle_size</th>\n",
       "      <th>Post_frequency</th>\n",
       "    </tr>\n",
       "  </thead>\n",
       "  <tbody>\n",
       "    <tr>\n",
       "      <th>count</th>\n",
       "      <td>17334.000000</td>\n",
       "      <td>17344.000000</td>\n",
       "      <td>17058.000000</td>\n",
       "      <td>17470.000000</td>\n",
       "      <td>17260.000000</td>\n",
       "    </tr>\n",
       "    <tr>\n",
       "      <th>mean</th>\n",
       "      <td>3.137764</td>\n",
       "      <td>5.265106</td>\n",
       "      <td>4.044319</td>\n",
       "      <td>7.996737</td>\n",
       "      <td>4.982097</td>\n",
       "    </tr>\n",
       "    <tr>\n",
       "      <th>std</th>\n",
       "      <td>3.003786</td>\n",
       "      <td>2.753359</td>\n",
       "      <td>2.062580</td>\n",
       "      <td>4.223484</td>\n",
       "      <td>2.879139</td>\n",
       "    </tr>\n",
       "    <tr>\n",
       "      <th>min</th>\n",
       "      <td>0.000000</td>\n",
       "      <td>0.000000</td>\n",
       "      <td>0.000000</td>\n",
       "      <td>0.000000</td>\n",
       "      <td>0.000000</td>\n",
       "    </tr>\n",
       "    <tr>\n",
       "      <th>25%</th>\n",
       "      <td>1.000000</td>\n",
       "      <td>3.000000</td>\n",
       "      <td>3.000000</td>\n",
       "      <td>5.000000</td>\n",
       "      <td>3.000000</td>\n",
       "    </tr>\n",
       "    <tr>\n",
       "      <th>50%</th>\n",
       "      <td>2.000000</td>\n",
       "      <td>5.000000</td>\n",
       "      <td>4.000000</td>\n",
       "      <td>8.000000</td>\n",
       "      <td>5.000000</td>\n",
       "    </tr>\n",
       "    <tr>\n",
       "      <th>75%</th>\n",
       "      <td>4.000000</td>\n",
       "      <td>8.000000</td>\n",
       "      <td>6.000000</td>\n",
       "      <td>12.000000</td>\n",
       "      <td>7.000000</td>\n",
       "    </tr>\n",
       "    <tr>\n",
       "      <th>max</th>\n",
       "      <td>11.000000</td>\n",
       "      <td>10.000000</td>\n",
       "      <td>7.000000</td>\n",
       "      <td>15.000000</td>\n",
       "      <td>10.000000</td>\n",
       "    </tr>\n",
       "  </tbody>\n",
       "</table>\n",
       "</div>"
      ],
      "text/plain": [
       "       Time_spent_Alone  Social_event_attendance  Going_outside  \\\n",
       "count      17334.000000             17344.000000   17058.000000   \n",
       "mean           3.137764                 5.265106       4.044319   \n",
       "std            3.003786                 2.753359       2.062580   \n",
       "min            0.000000                 0.000000       0.000000   \n",
       "25%            1.000000                 3.000000       3.000000   \n",
       "50%            2.000000                 5.000000       4.000000   \n",
       "75%            4.000000                 8.000000       6.000000   \n",
       "max           11.000000                10.000000       7.000000   \n",
       "\n",
       "       Friends_circle_size  Post_frequency  \n",
       "count         17470.000000    17260.000000  \n",
       "mean              7.996737        4.982097  \n",
       "std               4.223484        2.879139  \n",
       "min               0.000000        0.000000  \n",
       "25%               5.000000        3.000000  \n",
       "50%               8.000000        5.000000  \n",
       "75%              12.000000        7.000000  \n",
       "max              15.000000       10.000000  "
      ]
     },
     "execution_count": 5,
     "metadata": {},
     "output_type": "execute_result"
    }
   ],
   "source": [
    "data.describe()"
   ]
  },
  {
   "cell_type": "code",
   "execution_count": 6,
   "id": "ab4b76ae",
   "metadata": {
    "execution": {
     "iopub.execute_input": "2025-08-21T18:19:12.765883Z",
     "iopub.status.busy": "2025-08-21T18:19:12.765515Z",
     "iopub.status.idle": "2025-08-21T18:19:12.772844Z",
     "shell.execute_reply": "2025-08-21T18:19:12.771898Z"
    },
    "id": "3fbc95fc",
    "outputId": "cb67f96e-486a-4527-9562-e0c1a348e845",
    "papermill": {
     "duration": 0.015337,
     "end_time": "2025-08-21T18:19:12.774418",
     "exception": false,
     "start_time": "2025-08-21T18:19:12.759081",
     "status": "completed"
    },
    "tags": []
   },
   "outputs": [
    {
     "data": {
      "text/plain": [
       "Time_spent_Alone             float64\n",
       "Stage_fear                    object\n",
       "Social_event_attendance      float64\n",
       "Going_outside                float64\n",
       "Drained_after_socializing     object\n",
       "Friends_circle_size          float64\n",
       "Post_frequency               float64\n",
       "Personality                   object\n",
       "dtype: object"
      ]
     },
     "execution_count": 6,
     "metadata": {},
     "output_type": "execute_result"
    }
   ],
   "source": [
    "data.dtypes"
   ]
  },
  {
   "cell_type": "code",
   "execution_count": 7,
   "id": "b5dcf16a",
   "metadata": {
    "execution": {
     "iopub.execute_input": "2025-08-21T18:19:12.786965Z",
     "iopub.status.busy": "2025-08-21T18:19:12.786552Z",
     "iopub.status.idle": "2025-08-21T18:19:14.024309Z",
     "shell.execute_reply": "2025-08-21T18:19:14.022978Z"
    },
    "id": "03aec208",
    "outputId": "e3247a52-7575-40d3-8d8c-9559db58437a",
    "papermill": {
     "duration": 1.246046,
     "end_time": "2025-08-21T18:19:14.026187",
     "exception": false,
     "start_time": "2025-08-21T18:19:12.780141",
     "status": "completed"
    },
    "tags": []
   },
   "outputs": [
    {
     "data": {
      "text/plain": [
       "array([[<Axes: title={'center': 'Time_spent_Alone'}>,\n",
       "        <Axes: title={'center': 'Social_event_attendance'}>],\n",
       "       [<Axes: title={'center': 'Going_outside'}>,\n",
       "        <Axes: title={'center': 'Friends_circle_size'}>],\n",
       "       [<Axes: title={'center': 'Post_frequency'}>, <Axes: >]],\n",
       "      dtype=object)"
      ]
     },
     "execution_count": 7,
     "metadata": {},
     "output_type": "execute_result"
    },
    {
     "data": {
      "image/png": "[encoded data removed]",
      "text/plain": [
       "<Figure size 1500x1000 with 6 Axes>"
      ]
     },
     "metadata": {},
     "output_type": "display_data"
    }
   ],
   "source": [
    "data.hist(figsize=(15, 10), xlabelsize=8, ylabelsize=8)"
   ]
  },
  {
   "cell_type": "markdown",
   "id": "97bd0d71",
   "metadata": {
    "id": "741ed9c8",
    "papermill": {
     "duration": 0.00748,
     "end_time": "2025-08-21T18:19:14.041250",
     "exception": false,
     "start_time": "2025-08-21T18:19:14.033770",
     "status": "completed"
    },
    "tags": []
   },
   "source": [
    "The data looks to be pretty uniformly distributed, however time spend alone tend to be right skewed."
   ]
  },
  {
   "cell_type": "code",
   "execution_count": 8,
   "id": "6bcfa852",
   "metadata": {
    "execution": {
     "iopub.execute_input": "2025-08-21T18:19:14.055790Z",
     "iopub.status.busy": "2025-08-21T18:19:14.055445Z",
     "iopub.status.idle": "2025-08-21T18:19:14.088031Z",
     "shell.execute_reply": "2025-08-21T18:19:14.086540Z"
    },
    "id": "ff709d35",
    "papermill": {
     "duration": 0.042023,
     "end_time": "2025-08-21T18:19:14.089871",
     "exception": false,
     "start_time": "2025-08-21T18:19:14.047848",
     "status": "completed"
    },
    "tags": []
   },
   "outputs": [],
   "source": [
    "data['Introvert'] = data['Personality'].apply(lambda x: 1 if x == 'Introvert' else 0)\n",
    "data = data.drop(columns=['Personality'])\n",
    "\n",
    "my_encoder = OrdinalEncoder() # Your code here\n",
    "data[['Stage_fear', 'Drained_after_socializing']] = my_encoder.fit_transform(data[['Stage_fear', 'Drained_after_socializing']])"
   ]
  },
  {
   "cell_type": "code",
   "execution_count": 9,
   "id": "f2c85d38",
   "metadata": {
    "execution": {
     "iopub.execute_input": "2025-08-21T18:19:14.104259Z",
     "iopub.status.busy": "2025-08-21T18:19:14.103913Z",
     "iopub.status.idle": "2025-08-21T18:19:14.431784Z",
     "shell.execute_reply": "2025-08-21T18:19:14.430828Z"
    },
    "id": "b864eda9",
    "outputId": "e9e4dda3-8350-455d-8c76-354de93c55ce",
    "papermill": {
     "duration": 0.337008,
     "end_time": "2025-08-21T18:19:14.433506",
     "exception": false,
     "start_time": "2025-08-21T18:19:14.096498",
     "status": "completed"
    },
    "tags": []
   },
   "outputs": [
    {
     "data": {
      "image/png": "[encoded data removed]",
      "text/plain": [
       "<Figure size 1200x300 with 3 Axes>"
      ]
     },
     "metadata": {},
     "output_type": "display_data"
    }
   ],
   "source": [
    "import matplotlib.pyplot as plt\n",
    "plt.figure(figsize=(12, 3))\n",
    "plt.title(\"Categoraical variables\")\n",
    "plt.axis(\"off\")\n",
    "plot_count = 0  # Initialize a counter for displayed images\n",
    "categorical_variables = ['Stage_fear', 'Drained_after_socializing', 'Introvert']\n",
    "\n",
    "for var in categorical_variables:\n",
    "    ax = plt.subplot(1, 3, plot_count + 1)  # Adjust subplot position\n",
    "    sns.countplot(data, x = var)\n",
    "    plot_count += 1  # Increment the counter\n",
    "plt.show()"
   ]
  },
  {
   "cell_type": "markdown",
   "id": "e8fb84b5",
   "metadata": {
    "id": "70a6454b",
    "papermill": {
     "duration": 0.007817,
     "end_time": "2025-08-21T18:19:14.451812",
     "exception": false,
     "start_time": "2025-08-21T18:19:14.443995",
     "status": "completed"
    },
    "tags": []
   },
   "source": [
    "All distributions look moderately skewed."
   ]
  },
  {
   "cell_type": "code",
   "execution_count": 10,
   "id": "c7e205b6",
   "metadata": {
    "execution": {
     "iopub.execute_input": "2025-08-21T18:19:14.467358Z",
     "iopub.status.busy": "2025-08-21T18:19:14.467063Z",
     "iopub.status.idle": "2025-08-21T18:19:16.038479Z",
     "shell.execute_reply": "2025-08-21T18:19:16.037542Z"
    },
    "id": "03ee7725",
    "outputId": "32ab4f18-8bf7-4105-c042-a78e9a70f6d5",
    "papermill": {
     "duration": 1.581048,
     "end_time": "2025-08-21T18:19:16.040182",
     "exception": false,
     "start_time": "2025-08-21T18:19:14.459134",
     "status": "completed"
    },
    "tags": []
   },
   "outputs": [
    {
     "data": {
      "image/png": "[encoded data removed]",
      "text/plain": [
       "<Figure size 1200x400 with 2 Axes>"
      ]
     },
     "metadata": {},
     "output_type": "display_data"
    }
   ],
   "source": [
    "sns.lmplot(\n",
    "    x='Time_spent_Alone', y=\"Introvert\", hue=\"Stage_fear\", col=\"Stage_fear\",\n",
    "    data=data, scatter_kws={\"edgecolor\": 'w'}, col_wrap=3, height=4,\n",
    ");"
   ]
  },
  {
   "cell_type": "markdown",
   "id": "977e56c1",
   "metadata": {
    "id": "5efee1ff",
    "papermill": {
     "duration": 0.007095,
     "end_time": "2025-08-21T18:19:16.055021",
     "exception": false,
     "start_time": "2025-08-21T18:19:16.047926",
     "status": "completed"
    },
    "tags": []
   },
   "source": [
    "The missing data in the dataframe should be considered."
   ]
  },
  {
   "cell_type": "code",
   "execution_count": 11,
   "id": "1b5dc691",
   "metadata": {
    "execution": {
     "iopub.execute_input": "2025-08-21T18:19:16.072677Z",
     "iopub.status.busy": "2025-08-21T18:19:16.072365Z",
     "iopub.status.idle": "2025-08-21T18:19:16.082147Z",
     "shell.execute_reply": "2025-08-21T18:19:16.081170Z"
    },
    "id": "c4290e4e",
    "outputId": "5e16b733-f2d5-403c-8e17-ce2a0be95329",
    "papermill": {
     "duration": 0.021626,
     "end_time": "2025-08-21T18:19:16.083837",
     "exception": false,
     "start_time": "2025-08-21T18:19:16.062211",
     "status": "completed"
    },
    "tags": []
   },
   "outputs": [
    {
     "data": {
      "text/plain": [
       "Time_spent_Alone             1190\n",
       "Stage_fear                   1893\n",
       "Social_event_attendance      1180\n",
       "Going_outside                1466\n",
       "Drained_after_socializing    1149\n",
       "Friends_circle_size          1054\n",
       "Post_frequency               1264\n",
       "Introvert                       0\n",
       "dtype: int64"
      ]
     },
     "execution_count": 11,
     "metadata": {},
     "output_type": "execute_result"
    }
   ],
   "source": [
    "data.isnull().sum()"
   ]
  },
  {
   "cell_type": "markdown",
   "id": "8a13c2dc",
   "metadata": {
    "id": "7f1a1686",
    "papermill": {
     "duration": 0.007391,
     "end_time": "2025-08-21T18:19:16.098779",
     "exception": false,
     "start_time": "2025-08-21T18:19:16.091388",
     "status": "completed"
    },
    "tags": []
   },
   "source": [
    "There seems to be missing data in all columns except for the target value. An imputation strategy should be used."
   ]
  },
  {
   "cell_type": "code",
   "execution_count": 12,
   "id": "f01b093c",
   "metadata": {
    "execution": {
     "iopub.execute_input": "2025-08-21T18:19:16.115057Z",
     "iopub.status.busy": "2025-08-21T18:19:16.114667Z",
     "iopub.status.idle": "2025-08-21T18:19:16.132313Z",
     "shell.execute_reply": "2025-08-21T18:19:16.131451Z"
    },
    "id": "8d904025",
    "papermill": {
     "duration": 0.027781,
     "end_time": "2025-08-21T18:19:16.134170",
     "exception": false,
     "start_time": "2025-08-21T18:19:16.106389",
     "status": "completed"
    },
    "tags": []
   },
   "outputs": [],
   "source": [
    "\n",
    "\n",
    "my_imputer = SimpleImputer()\n",
    "data_clean = pd.DataFrame(my_imputer.fit_transform(data))\n",
    "data_clean.columns = data.columns"
   ]
  },
  {
   "cell_type": "code",
   "execution_count": 13,
   "id": "d2e9a6c3",
   "metadata": {
    "execution": {
     "iopub.execute_input": "2025-08-21T18:19:16.150778Z",
     "iopub.status.busy": "2025-08-21T18:19:16.150318Z",
     "iopub.status.idle": "2025-08-21T18:19:16.158987Z",
     "shell.execute_reply": "2025-08-21T18:19:16.157676Z"
    },
    "id": "0e3d7265",
    "outputId": "2c50c679-f76a-459b-dd13-9e1dea5952de",
    "papermill": {
     "duration": 0.019019,
     "end_time": "2025-08-21T18:19:16.160828",
     "exception": false,
     "start_time": "2025-08-21T18:19:16.141809",
     "status": "completed"
    },
    "tags": []
   },
   "outputs": [
    {
     "data": {
      "text/plain": [
       "Time_spent_Alone             0\n",
       "Stage_fear                   0\n",
       "Social_event_attendance      0\n",
       "Going_outside                0\n",
       "Drained_after_socializing    0\n",
       "Friends_circle_size          0\n",
       "Post_frequency               0\n",
       "Introvert                    0\n",
       "dtype: int64"
      ]
     },
     "execution_count": 13,
     "metadata": {},
     "output_type": "execute_result"
    }
   ],
   "source": [
    "data_clean.isnull().sum()"
   ]
  },
  {
   "cell_type": "markdown",
   "id": "c9bd8013",
   "metadata": {
    "id": "fc16d0f5",
    "papermill": {
     "duration": 0.007681,
     "end_time": "2025-08-21T18:19:16.176669",
     "exception": false,
     "start_time": "2025-08-21T18:19:16.168988",
     "status": "completed"
    },
    "tags": []
   },
   "source": [
    "No more missing data :)"
   ]
  },
  {
   "cell_type": "markdown",
   "id": "ade3715b",
   "metadata": {
    "id": "c67c1350",
    "papermill": {
     "duration": 0.007464,
     "end_time": "2025-08-21T18:19:16.192481",
     "exception": false,
     "start_time": "2025-08-21T18:19:16.185017",
     "status": "completed"
    },
    "tags": []
   },
   "source": [
    "# Preparing data\n",
    "\n",
    "The data is split into a training and testing set"
   ]
  },
  {
   "cell_type": "code",
   "execution_count": 14,
   "id": "cf589a30",
   "metadata": {
    "execution": {
     "iopub.execute_input": "2025-08-21T18:19:16.209001Z",
     "iopub.status.busy": "2025-08-21T18:19:16.208540Z",
     "iopub.status.idle": "2025-08-21T18:19:16.218845Z",
     "shell.execute_reply": "2025-08-21T18:19:16.217835Z"
    },
    "id": "637bed09",
    "papermill": {
     "duration": 0.020539,
     "end_time": "2025-08-21T18:19:16.220672",
     "exception": false,
     "start_time": "2025-08-21T18:19:16.200133",
     "status": "completed"
    },
    "tags": []
   },
   "outputs": [],
   "source": [
    "\n",
    "# Making X and y variables\n",
    "X = data_clean.copy()\n",
    "y = X.pop('Introvert')\n",
    "\n",
    "X_train, X_val, y_train, y_val = train_test_split(X, y, random_state = 0)"
   ]
  },
  {
   "cell_type": "markdown",
   "id": "3750c746",
   "metadata": {
    "id": "195f9261",
    "papermill": {
     "duration": 0.0072,
     "end_time": "2025-08-21T18:19:16.235538",
     "exception": false,
     "start_time": "2025-08-21T18:19:16.228338",
     "status": "completed"
    },
    "tags": []
   },
   "source": [
    "## Going for an XGboost\n",
    "\n",
    "The following code will fit a classic XGboost with some different parameters"
   ]
  },
  {
   "cell_type": "code",
   "execution_count": 15,
   "id": "6ab70483",
   "metadata": {
    "execution": {
     "iopub.execute_input": "2025-08-21T18:19:16.252084Z",
     "iopub.status.busy": "2025-08-21T18:19:16.251684Z",
     "iopub.status.idle": "2025-08-21T18:19:17.139032Z",
     "shell.execute_reply": "2025-08-21T18:19:17.138132Z"
    },
    "id": "b0983a03",
    "outputId": "4a56bdf1-c556-47f9-d3c0-1ee7f06c9690",
    "papermill": {
     "duration": 0.897525,
     "end_time": "2025-08-21T18:19:17.140591",
     "exception": false,
     "start_time": "2025-08-21T18:19:16.243066",
     "status": "completed"
    },
    "tags": []
   },
   "outputs": [
    {
     "data": {
      "text/html": [
       "<style>#sk-container-id-1 {color: black;background-color: white;}#sk-container-id-1 pre{padding: 0;}#sk-container-id-1 div.sk-toggleable {background-color: white;}#sk-container-id-1 label.sk-toggleable__label {cursor: pointer;display: block;width: 100%;margin-bottom: 0;padding: 0.3em;box-sizing: border-box;text-align: center;}#sk-container-id-1 label.sk-toggleable__label-arrow:before {content: \"▸\";float: left;margin-right: 0.25em;color: #696969;}#sk-container-id-1 label.sk-toggleable__label-arrow:hover:before {color: black;}#sk-container-id-1 div.sk-estimator:hover label.sk-toggleable__label-arrow:before {color: black;}#sk-container-id-1 div.sk-toggleable__content {max-height: 0;max-width: 0;overflow: hidden;text-align: left;background-color: #f0f8ff;}#sk-container-id-1 div.sk-toggleable__content pre {margin: 0.2em;color: black;border-radius: 0.25em;background-color: #f0f8ff;}#sk-container-id-1 input.sk-toggleable__control:checked~div.sk-toggleable__content {max-height: 200px;max-width: 100%;overflow: auto;}#sk-container-id-1 input.sk-toggleable__control:checked~label.sk-toggleable__label-arrow:before {content: \"▾\";}#sk-container-id-1 div.sk-estimator input.sk-toggleable__control:checked~label.sk-toggleable__label {background-color: #d4ebff;}#sk-container-id-1 div.sk-label input.sk-toggleable__control:checked~label.sk-toggleable__label {background-color: #d4ebff;}#sk-container-id-1 input.sk-hidden--visually {border: 0;clip: rect(1px 1px 1px 1px);clip: rect(1px, 1px, 1px, 1px);height: 1px;margin: -1px;overflow: hidden;padding: 0;position: absolute;width: 1px;}#sk-container-id-1 div.sk-estimator {font-family: monospace;background-color: #f0f8ff;border: 1px dotted black;border-radius: 0.25em;box-sizing: border-box;margin-bottom: 0.5em;}#sk-container-id-1 div.sk-estimator:hover {background-color: #d4ebff;}#sk-container-id-1 div.sk-parallel-item::after {content: \"\";width: 100%;border-bottom: 1px solid gray;flex-grow: 1;}#sk-container-id-1 div.sk-label:hover label.sk-toggleable__label {background-color: #d4ebff;}#sk-container-id-1 div.sk-serial::before {content: \"\";position: absolute;border-left: 1px solid gray;box-sizing: border-box;top: 0;bottom: 0;left: 50%;z-index: 0;}#sk-container-id-1 div.sk-serial {display: flex;flex-direction: column;align-items: center;background-color: white;padding-right: 0.2em;padding-left: 0.2em;position: relative;}#sk-container-id-1 div.sk-item {position: relative;z-index: 1;}#sk-container-id-1 div.sk-parallel {display: flex;align-items: stretch;justify-content: center;background-color: white;position: relative;}#sk-container-id-1 div.sk-item::before, #sk-container-id-1 div.sk-parallel-item::before {content: \"\";position: absolute;border-left: 1px solid gray;box-sizing: border-box;top: 0;bottom: 0;left: 50%;z-index: -1;}#sk-container-id-1 div.sk-parallel-item {display: flex;flex-direction: column;z-index: 1;position: relative;background-color: white;}#sk-container-id-1 div.sk-parallel-item:first-child::after {align-self: flex-end;width: 50%;}#sk-container-id-1 div.sk-parallel-item:last-child::after {align-self: flex-start;width: 50%;}#sk-container-id-1 div.sk-parallel-item:only-child::after {width: 0;}#sk-container-id-1 div.sk-dashed-wrapped {border: 1px dashed gray;margin: 0 0.4em 0.5em 0.4em;box-sizing: border-box;padding-bottom: 0.4em;background-color: white;}#sk-container-id-1 div.sk-label label {font-family: monospace;font-weight: bold;display: inline-block;line-height: 1.2em;}#sk-container-id-1 div.sk-label-container {text-align: center;}#sk-container-id-1 div.sk-container {/* jupyter's `normalize.less` sets `[hidden] { display: none; }` but bootstrap.min.css set `[hidden] { display: none !important; }` so we also need the `!important` here to be able to override the default hidden behavior on the sphinx rendered scikit-learn.org. See: https://github.com/scikit-learn/scikit-learn/issues/21755 */display: inline-block !important;position: relative;}#sk-container-id-1 div.sk-text-repr-fallback {display: none;}</style><div id=\"sk-container-id-1\" class=\"sk-top-container\"><div class=\"sk-text-repr-fallback\"><pre>XGBClassifier(base_score=None, booster=None, callbacks=None,\n",
       "              colsample_bylevel=None, colsample_bynode=None,\n",
       "              colsample_bytree=None, device=None, early_stopping_rounds=None,\n",
       "              enable_categorical=False, eval_metric=None, feature_types=None,\n",
       "              gamma=None, grow_policy=None, importance_type=None,\n",
       "              interaction_constraints=None, learning_rate=0.05, max_bin=None,\n",
       "              max_cat_threshold=None, max_cat_to_onehot=None,\n",
       "              max_delta_step=None, max_depth=None, max_leaves=None,\n",
       "              min_child_weight=None, missing=nan, monotone_constraints=None,\n",
       "              multi_strategy=None, n_estimators=200, n_jobs=None,\n",
       "              num_parallel_tree=None, random_state=None, ...)</pre><b>In a Jupyter environment, please rerun this cell to show the HTML representation or trust the notebook. <br />On GitHub, the HTML representation is unable to render, please try loading this page with nbviewer.org.</b></div><div class=\"sk-container\" hidden><div class=\"sk-item\"><div class=\"sk-estimator sk-toggleable\"><input class=\"sk-toggleable__control sk-hidden--visually\" id=\"sk-estimator-id-1\" type=\"checkbox\" checked><label for=\"sk-estimator-id-1\" class=\"sk-toggleable__label sk-toggleable__label-arrow\">XGBClassifier</label><div class=\"sk-toggleable__content\"><pre>XGBClassifier(base_score=None, booster=None, callbacks=None,\n",
       "              colsample_bylevel=None, colsample_bynode=None,\n",
       "              colsample_bytree=None, device=None, early_stopping_rounds=None,\n",
       "              enable_categorical=False, eval_metric=None, feature_types=None,\n",
       "              gamma=None, grow_policy=None, importance_type=None,\n",
       "              interaction_constraints=None, learning_rate=0.05, max_bin=None,\n",
       "              max_cat_threshold=None, max_cat_to_onehot=None,\n",
       "              max_delta_step=None, max_depth=None, max_leaves=None,\n",
       "              min_child_weight=None, missing=nan, monotone_constraints=None,\n",
       "              multi_strategy=None, n_estimators=200, n_jobs=None,\n",
       "              num_parallel_tree=None, random_state=None, ...)</pre></div></div></div></div></div>"
      ],
      "text/plain": [
       "XGBClassifier(base_score=None, booster=None, callbacks=None,\n",
       "              colsample_bylevel=None, colsample_bynode=None,\n",
       "              colsample_bytree=None, device=None, early_stopping_rounds=None,\n",
       "              enable_categorical=False, eval_metric=None, feature_types=None,\n",
       "              gamma=None, grow_policy=None, importance_type=None,\n",
       "              interaction_constraints=None, learning_rate=0.05, max_bin=None,\n",
       "              max_cat_threshold=None, max_cat_to_onehot=None,\n",
       "              max_delta_step=None, max_depth=None, max_leaves=None,\n",
       "              min_child_weight=None, missing=nan, monotone_constraints=None,\n",
       "              multi_strategy=None, n_estimators=200, n_jobs=None,\n",
       "              num_parallel_tree=None, random_state=None, ...)"
      ]
     },
     "execution_count": 15,
     "metadata": {},
     "output_type": "execute_result"
    }
   ],
   "source": [
    "from xgboost import XGBClassifier\n",
    "from sklearn.metrics import mean_absolute_error\n",
    "model = XGBClassifier(n_estimators=200, learning_rate=0.05)\n",
    "model.fit(X_train, y_train)"
   ]
  },
  {
   "cell_type": "code",
   "execution_count": 16,
   "id": "65b8b666",
   "metadata": {
    "execution": {
     "iopub.execute_input": "2025-08-21T18:19:17.158774Z",
     "iopub.status.busy": "2025-08-21T18:19:17.158423Z",
     "iopub.status.idle": "2025-08-21T18:19:17.192238Z",
     "shell.execute_reply": "2025-08-21T18:19:17.191367Z"
    },
    "id": "e0cd6b6e",
    "outputId": "c1f8ed46-8059-4c70-a87e-73ccc78a12e6",
    "papermill": {
     "duration": 0.045615,
     "end_time": "2025-08-21T18:19:17.194143",
     "exception": false,
     "start_time": "2025-08-21T18:19:17.148528",
     "status": "completed"
    },
    "tags": []
   },
   "outputs": [
    {
     "name": "stdout",
     "output_type": "stream",
     "text": [
      "Accuracy: 96.95530123083567 %\n",
      "[[3368   56]\n",
      " [  85 1122]]\n"
     ]
    }
   ],
   "source": [
    "\n",
    "preds = model.predict(X_val)\n",
    "acc = accuracy_score(y_val, preds)\n",
    "print(\"Accuracy: \" , acc*100, \" %\", sep=\"\")\n",
    "print(confusion_matrix(y_val, preds))"
   ]
  },
  {
   "cell_type": "markdown",
   "id": "2c907adb",
   "metadata": {
    "id": "18b7e205",
    "papermill": {
     "duration": 0.007547,
     "end_time": "2025-08-21T18:19:17.209604",
     "exception": false,
     "start_time": "2025-08-21T18:19:17.202057",
     "status": "completed"
    },
    "tags": []
   },
   "source": [
    "This is a good accuracy, but can it get better? Maybe."
   ]
  },
  {
   "cell_type": "markdown",
   "id": "7ddb88f7",
   "metadata": {
    "id": "081f4f06",
    "papermill": {
     "duration": 0.007697,
     "end_time": "2025-08-21T18:19:17.225240",
     "exception": false,
     "start_time": "2025-08-21T18:19:17.217543",
     "status": "completed"
    },
    "tags": []
   },
   "source": [
    "# Making predictions on the test set\n",
    "\n",
    "The best model is being used to predict on the test set. However the test set first needs to be loaded and preprocessed just like the training set."
   ]
  },
  {
   "cell_type": "code",
   "execution_count": 17,
   "id": "6913d7b9",
   "metadata": {
    "execution": {
     "iopub.execute_input": "2025-08-21T18:19:17.242639Z",
     "iopub.status.busy": "2025-08-21T18:19:17.242350Z",
     "iopub.status.idle": "2025-08-21T18:19:17.276483Z",
     "shell.execute_reply": "2025-08-21T18:19:17.275181Z"
    },
    "id": "1a329c9e",
    "papermill": {
     "duration": 0.045224,
     "end_time": "2025-08-21T18:19:17.278397",
     "exception": false,
     "start_time": "2025-08-21T18:19:17.233173",
     "status": "completed"
    },
    "tags": []
   },
   "outputs": [],
   "source": [
    "# The below code should be converted to a function for future use to avoid code cuplication\n",
    "data_test = pd.read_csv(f'{INPUT_PATH}/test.csv', index_col='id')\n",
    "\n",
    "my_encoder = OrdinalEncoder() # Your code here\n",
    "data_test[['Stage_fear', 'Drained_after_socializing']] = my_encoder.fit_transform(data_test[['Stage_fear', 'Drained_after_socializing']])\n",
    "my_imputer = SimpleImputer()\n",
    "cols = data_test.columns\n",
    "idx = data_test.index\n",
    "data_test = pd.DataFrame(my_imputer.fit_transform(data_test))\n",
    "data_test.columns = cols\n",
    "data_test.index = idx"
   ]
  },
  {
   "cell_type": "code",
   "execution_count": 18,
   "id": "4a76736c",
   "metadata": {
    "execution": {
     "iopub.execute_input": "2025-08-21T18:19:17.296213Z",
     "iopub.status.busy": "2025-08-21T18:19:17.295891Z",
     "iopub.status.idle": "2025-08-21T18:19:17.318030Z",
     "shell.execute_reply": "2025-08-21T18:19:17.317332Z"
    },
    "id": "9a001a8f",
    "papermill": {
     "duration": 0.033489,
     "end_time": "2025-08-21T18:19:17.319902",
     "exception": false,
     "start_time": "2025-08-21T18:19:17.286413",
     "status": "completed"
    },
    "tags": []
   },
   "outputs": [],
   "source": [
    "test_preds = model.predict(data_test)\n",
    "test_preds = ['Introvert' if i == 1 else 'Extrovert' for i in test_preds]"
   ]
  },
  {
   "cell_type": "code",
   "execution_count": 19,
   "id": "dda18378",
   "metadata": {
    "execution": {
     "iopub.execute_input": "2025-08-21T18:19:17.341249Z",
     "iopub.status.busy": "2025-08-21T18:19:17.340938Z",
     "iopub.status.idle": "2025-08-21T18:19:17.358664Z",
     "shell.execute_reply": "2025-08-21T18:19:17.357822Z"
    },
    "id": "6a1894f9",
    "papermill": {
     "duration": 0.029518,
     "end_time": "2025-08-21T18:19:17.360479",
     "exception": false,
     "start_time": "2025-08-21T18:19:17.330961",
     "status": "completed"
    },
    "tags": []
   },
   "outputs": [],
   "source": [
    "output = pd.DataFrame({'id': data_test.index,\n",
    "                       'Personality': test_preds})\n",
    "output.to_csv('submission.csv', index=False)"
   ]
  }
 ],
 "metadata": {
  "colab": {
   "include_colab_link": true,
   "name": "Predicting Introverts and extroverts",
   "provenance": []
  },
  "kaggle": {
   "accelerator": "none",
   "dataSources": [
    {
     "databundleVersionId": 12738969,
     "sourceId": 91718,
     "sourceType": "competition"
    }
   ],
   "dockerImageVersionId": 31089,
   "isGpuEnabled": false,
   "isInternetEnabled": true,
   "language": "python",
   "sourceType": "notebook"
  },
  "kernelspec": {
   "display_name": "Python 3",
   "language": "python",
   "name": "python3"
  },
  "language_info": {
   "codemirror_mode": {
    "name": "ipython",
    "version": 3
   },
   "file_extension": ".py",
   "mimetype": "text/x-python",
   "name": "python",
   "nbconvert_exporter": "python",
   "pygments_lexer": "ipython3",
   "version": "3.11.13"
  },
  "papermill": {
   "default_parameters": {},
   "duration": 18.132334,
   "end_time": "2025-08-21T18:19:18.194008",
   "environment_variables": {},
   "exception": null,
   "input_path": "__notebook__.ipynb",
   "output_path": "__notebook__.ipynb",
   "parameters": {},
   "start_time": "2025-08-21T18:19:00.061674",
   "version": "2.6.0"
  }
 },
 "nbformat": 4,
 "nbformat_minor": 5
}

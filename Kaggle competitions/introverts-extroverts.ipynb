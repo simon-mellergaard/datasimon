{
 "cells": [
  {
   "cell_type": "markdown",
   "id": "a8419182",
   "metadata": {
    "id": "view-in-github",
    "papermill": {
     "duration": 0.00617,
     "end_time": "2025-08-22T08:18:06.872533",
     "exception": false,
     "start_time": "2025-08-22T08:18:06.866363",
     "status": "completed"
    },
    "tags": []
   },
   "source": [
    "<a href=\"https://colab.research.google.com/github/simon-mellergaard/datasimon/blob/main/Kaggle%20competitions/introverts-extroverts.ipynb\" target=\"_parent\"><img src=\"https://colab.research.google.com/assets/colab-badge.svg\" alt=\"Open In Colab\"/></a>"
   ]
  },
  {
   "cell_type": "markdown",
   "id": "ce2563c7",
   "metadata": {
    "papermill": {
     "duration": 0.005011,
     "end_time": "2025-08-22T08:18:06.883108",
     "exception": false,
     "start_time": "2025-08-22T08:18:06.878097",
     "status": "completed"
    },
    "tags": []
   },
   "source": [
    "## Setting up for Colab"
   ]
  },
  {
   "cell_type": "code",
   "execution_count": 1,
   "id": "c8e8cd3c",
   "metadata": {
    "execution": {
     "iopub.execute_input": "2025-08-22T08:18:06.897015Z",
     "iopub.status.busy": "2025-08-22T08:18:06.896706Z",
     "iopub.status.idle": "2025-08-22T08:18:11.703504Z",
     "shell.execute_reply": "2025-08-22T08:18:11.702442Z"
    },
    "id": "541db331",
    "papermill": {
     "duration": 4.816589,
     "end_time": "2025-08-22T08:18:11.705468",
     "exception": false,
     "start_time": "2025-08-22T08:18:06.888879",
     "status": "completed"
    },
    "tags": []
   },
   "outputs": [],
   "source": [
    "from sklearn.preprocessing import OrdinalEncoder\n",
    "from sklearn.model_selection import train_test_split\n",
    "from sklearn.impute import SimpleImputer\n",
    "from sklearn.metrics import confusion_matrix\n",
    "from sklearn.metrics import accuracy_score\n",
    "import matplotlib.pyplot as plt\n",
    "import matplotlib as plt\n",
    "import seaborn as sns\n",
    "import warnings\n",
    "import pandas as pd\n",
    "import os\n",
    "\n",
    "warnings.filterwarnings('ignore')"
   ]
  },
  {
   "cell_type": "code",
   "execution_count": 2,
   "id": "efd92f3f",
   "metadata": {
    "execution": {
     "iopub.execute_input": "2025-08-22T08:18:11.718479Z",
     "iopub.status.busy": "2025-08-22T08:18:11.717934Z",
     "iopub.status.idle": "2025-08-22T08:18:11.729968Z",
     "shell.execute_reply": "2025-08-22T08:18:11.728843Z"
    },
    "id": "dbdbede1",
    "outputId": "9a0de6ec-01bb-48e3-cef3-81ac04c7d43f",
    "papermill": {
     "duration": 0.020947,
     "end_time": "2025-08-22T08:18:11.731821",
     "exception": false,
     "start_time": "2025-08-22T08:18:11.710874",
     "status": "completed"
    },
    "tags": []
   },
   "outputs": [],
   "source": [
    "# Slect platform (colab or kaggle)\n",
    "PlATFORM_IS_KAGGLE = True\n",
    "\n",
    "if PlATFORM_IS_KAGGLE:\n",
    "    INPUT_PATH = '/kaggle/input/playground-series-s5e7'\n",
    "else:\n",
    "    import kagglehub\n",
    "    from google.colab import userdata\n",
    "    !mkdir ~/.kaggle\n",
    "    !echo -n '{\"username\":\"simonmellergaard\",\"key\":\"' > ~/.kaggle/kaggle.json\n",
    "    !echo -n {userdata.get('Kaggle')} >> ~/.kaggle/kaggle.json\n",
    "    !echo -n '\"}' >> ~/.kaggle/kaggle.json\n",
    "    !chmod 600 ~/.kaggle/kaggle.json\n",
    "    playground_series_s5e7_path = kagglehub.competition_download('playground-series-s5e7')\n",
    "    print('Data source import complete and located at: ' + playground_series_s5e7_path)\n",
    "    INPUT_PATH = '/root/.cache/kagglehub/competitions/playground-series-s5e7'\n",
    "CURRENT_DIR = os.getcwd()"
   ]
  },
  {
   "cell_type": "markdown",
   "id": "3845b465",
   "metadata": {
    "id": "98baf152",
    "papermill": {
     "duration": 0.005103,
     "end_time": "2025-08-22T08:18:11.742831",
     "exception": false,
     "start_time": "2025-08-22T08:18:11.737728",
     "status": "completed"
    },
    "tags": []
   },
   "source": [
    "# Making advanced predictions of extrovetrs and introverts\n",
    "\n",
    "The code is showing the way."
   ]
  },
  {
   "cell_type": "code",
   "execution_count": 3,
   "id": "8aa5768a",
   "metadata": {
    "execution": {
     "iopub.execute_input": "2025-08-22T08:18:11.755606Z",
     "iopub.status.busy": "2025-08-22T08:18:11.755262Z",
     "iopub.status.idle": "2025-08-22T08:18:11.825183Z",
     "shell.execute_reply": "2025-08-22T08:18:11.824111Z"
    },
    "id": "67650628",
    "papermill": {
     "duration": 0.079144,
     "end_time": "2025-08-22T08:18:11.827035",
     "exception": false,
     "start_time": "2025-08-22T08:18:11.747891",
     "status": "completed"
    },
    "tags": []
   },
   "outputs": [],
   "source": [
    "data_raw = pd.read_csv(f'{INPUT_PATH}/train.csv', index_col='id')"
   ]
  },
  {
   "cell_type": "code",
   "execution_count": 4,
   "id": "acc0d98c",
   "metadata": {
    "execution": {
     "iopub.execute_input": "2025-08-22T08:18:11.839936Z",
     "iopub.status.busy": "2025-08-22T08:18:11.838555Z",
     "iopub.status.idle": "2025-08-22T08:18:11.865322Z",
     "shell.execute_reply": "2025-08-22T08:18:11.864342Z"
    },
    "id": "408119a3",
    "outputId": "8a6a5f19-fe36-4d5a-9d0a-a7cee2005b58",
    "papermill": {
     "duration": 0.034764,
     "end_time": "2025-08-22T08:18:11.867128",
     "exception": false,
     "start_time": "2025-08-22T08:18:11.832364",
     "status": "completed"
    },
    "tags": []
   },
   "outputs": [
    {
     "data": {
      "text/html": [
       "<div>\n",
       "<style scoped>\n",
       "    .dataframe tbody tr th:only-of-type {\n",
       "        vertical-align: middle;\n",
       "    }\n",
       "\n",
       "    .dataframe tbody tr th {\n",
       "        vertical-align: top;\n",
       "    }\n",
       "\n",
       "    .dataframe thead th {\n",
       "        text-align: right;\n",
       "    }\n",
       "</style>\n",
       "<table border=\"1\" class=\"dataframe\">\n",
       "  <thead>\n",
       "    <tr style=\"text-align: right;\">\n",
       "      <th></th>\n",
       "      <th>Time_spent_Alone</th>\n",
       "      <th>Stage_fear</th>\n",
       "      <th>Social_event_attendance</th>\n",
       "      <th>Going_outside</th>\n",
       "      <th>Drained_after_socializing</th>\n",
       "      <th>Friends_circle_size</th>\n",
       "      <th>Post_frequency</th>\n",
       "      <th>Personality</th>\n",
       "    </tr>\n",
       "    <tr>\n",
       "      <th>id</th>\n",
       "      <th></th>\n",
       "      <th></th>\n",
       "      <th></th>\n",
       "      <th></th>\n",
       "      <th></th>\n",
       "      <th></th>\n",
       "      <th></th>\n",
       "      <th></th>\n",
       "    </tr>\n",
       "  </thead>\n",
       "  <tbody>\n",
       "    <tr>\n",
       "      <th>0</th>\n",
       "      <td>0.0</td>\n",
       "      <td>No</td>\n",
       "      <td>6.0</td>\n",
       "      <td>4.0</td>\n",
       "      <td>No</td>\n",
       "      <td>15.0</td>\n",
       "      <td>5.0</td>\n",
       "      <td>Extrovert</td>\n",
       "    </tr>\n",
       "    <tr>\n",
       "      <th>1</th>\n",
       "      <td>1.0</td>\n",
       "      <td>No</td>\n",
       "      <td>7.0</td>\n",
       "      <td>3.0</td>\n",
       "      <td>No</td>\n",
       "      <td>10.0</td>\n",
       "      <td>8.0</td>\n",
       "      <td>Extrovert</td>\n",
       "    </tr>\n",
       "    <tr>\n",
       "      <th>2</th>\n",
       "      <td>6.0</td>\n",
       "      <td>Yes</td>\n",
       "      <td>1.0</td>\n",
       "      <td>0.0</td>\n",
       "      <td>NaN</td>\n",
       "      <td>3.0</td>\n",
       "      <td>0.0</td>\n",
       "      <td>Introvert</td>\n",
       "    </tr>\n",
       "    <tr>\n",
       "      <th>3</th>\n",
       "      <td>3.0</td>\n",
       "      <td>No</td>\n",
       "      <td>7.0</td>\n",
       "      <td>3.0</td>\n",
       "      <td>No</td>\n",
       "      <td>11.0</td>\n",
       "      <td>5.0</td>\n",
       "      <td>Extrovert</td>\n",
       "    </tr>\n",
       "    <tr>\n",
       "      <th>4</th>\n",
       "      <td>1.0</td>\n",
       "      <td>No</td>\n",
       "      <td>4.0</td>\n",
       "      <td>4.0</td>\n",
       "      <td>No</td>\n",
       "      <td>13.0</td>\n",
       "      <td>NaN</td>\n",
       "      <td>Extrovert</td>\n",
       "    </tr>\n",
       "  </tbody>\n",
       "</table>\n",
       "</div>"
      ],
      "text/plain": [
       "    Time_spent_Alone Stage_fear  Social_event_attendance  Going_outside  \\\n",
       "id                                                                        \n",
       "0                0.0         No                      6.0            4.0   \n",
       "1                1.0         No                      7.0            3.0   \n",
       "2                6.0        Yes                      1.0            0.0   \n",
       "3                3.0         No                      7.0            3.0   \n",
       "4                1.0         No                      4.0            4.0   \n",
       "\n",
       "   Drained_after_socializing  Friends_circle_size  Post_frequency Personality  \n",
       "id                                                                             \n",
       "0                         No                 15.0             5.0   Extrovert  \n",
       "1                         No                 10.0             8.0   Extrovert  \n",
       "2                        NaN                  3.0             0.0   Introvert  \n",
       "3                         No                 11.0             5.0   Extrovert  \n",
       "4                         No                 13.0             NaN   Extrovert  "
      ]
     },
     "execution_count": 4,
     "metadata": {},
     "output_type": "execute_result"
    }
   ],
   "source": [
    "data_raw.head()"
   ]
  },
  {
   "cell_type": "markdown",
   "id": "956854b5",
   "metadata": {
    "id": "296cafd9",
    "papermill": {
     "duration": 0.005645,
     "end_time": "2025-08-22T08:18:11.878394",
     "exception": false,
     "start_time": "2025-08-22T08:18:11.872749",
     "status": "completed"
    },
    "tags": []
   },
   "source": [
    "The description of the variables are as follows:\n",
    "* Time_spent_Alone: Hours spent alone daily (0–11).\n",
    "* Stage_fear: Presence of stage fright (Yes/No).\n",
    "* Social_event_attendance: Frequency of social events (0–10).\n",
    "* Going_outside: Frequency of going outside (0–7).\n",
    "* Drained_after_socializing: Feeling drained after socializing (Yes/No).\n",
    "* Friends_circle_size: Number of close friends (0–15).\n",
    "* Post_frequency: Social media post frequency (0–10).\n",
    "* Personality: Target variable (Extrovert/Introvert).\n",
    "\n",
    "There are two categorical variables and 6 numeric varialbe. The target variable is binary, so it is a binary classification problem."
   ]
  },
  {
   "cell_type": "code",
   "execution_count": 5,
   "id": "0aa1754a",
   "metadata": {
    "execution": {
     "iopub.execute_input": "2025-08-22T08:18:11.890323Z",
     "iopub.status.busy": "2025-08-22T08:18:11.889880Z",
     "iopub.status.idle": "2025-08-22T08:18:11.923931Z",
     "shell.execute_reply": "2025-08-22T08:18:11.922694Z"
    },
    "id": "9fb04e9c",
    "outputId": "872eaff9-e63f-4128-ebb0-2112289f27d9",
    "papermill": {
     "duration": 0.041895,
     "end_time": "2025-08-22T08:18:11.925662",
     "exception": false,
     "start_time": "2025-08-22T08:18:11.883767",
     "status": "completed"
    },
    "tags": []
   },
   "outputs": [
    {
     "data": {
      "text/html": [
       "<div>\n",
       "<style scoped>\n",
       "    .dataframe tbody tr th:only-of-type {\n",
       "        vertical-align: middle;\n",
       "    }\n",
       "\n",
       "    .dataframe tbody tr th {\n",
       "        vertical-align: top;\n",
       "    }\n",
       "\n",
       "    .dataframe thead th {\n",
       "        text-align: right;\n",
       "    }\n",
       "</style>\n",
       "<table border=\"1\" class=\"dataframe\">\n",
       "  <thead>\n",
       "    <tr style=\"text-align: right;\">\n",
       "      <th></th>\n",
       "      <th>Time_spent_Alone</th>\n",
       "      <th>Social_event_attendance</th>\n",
       "      <th>Going_outside</th>\n",
       "      <th>Friends_circle_size</th>\n",
       "      <th>Post_frequency</th>\n",
       "    </tr>\n",
       "  </thead>\n",
       "  <tbody>\n",
       "    <tr>\n",
       "      <th>count</th>\n",
       "      <td>17334.000000</td>\n",
       "      <td>17344.000000</td>\n",
       "      <td>17058.000000</td>\n",
       "      <td>17470.000000</td>\n",
       "      <td>17260.000000</td>\n",
       "    </tr>\n",
       "    <tr>\n",
       "      <th>mean</th>\n",
       "      <td>3.137764</td>\n",
       "      <td>5.265106</td>\n",
       "      <td>4.044319</td>\n",
       "      <td>7.996737</td>\n",
       "      <td>4.982097</td>\n",
       "    </tr>\n",
       "    <tr>\n",
       "      <th>std</th>\n",
       "      <td>3.003786</td>\n",
       "      <td>2.753359</td>\n",
       "      <td>2.062580</td>\n",
       "      <td>4.223484</td>\n",
       "      <td>2.879139</td>\n",
       "    </tr>\n",
       "    <tr>\n",
       "      <th>min</th>\n",
       "      <td>0.000000</td>\n",
       "      <td>0.000000</td>\n",
       "      <td>0.000000</td>\n",
       "      <td>0.000000</td>\n",
       "      <td>0.000000</td>\n",
       "    </tr>\n",
       "    <tr>\n",
       "      <th>25%</th>\n",
       "      <td>1.000000</td>\n",
       "      <td>3.000000</td>\n",
       "      <td>3.000000</td>\n",
       "      <td>5.000000</td>\n",
       "      <td>3.000000</td>\n",
       "    </tr>\n",
       "    <tr>\n",
       "      <th>50%</th>\n",
       "      <td>2.000000</td>\n",
       "      <td>5.000000</td>\n",
       "      <td>4.000000</td>\n",
       "      <td>8.000000</td>\n",
       "      <td>5.000000</td>\n",
       "    </tr>\n",
       "    <tr>\n",
       "      <th>75%</th>\n",
       "      <td>4.000000</td>\n",
       "      <td>8.000000</td>\n",
       "      <td>6.000000</td>\n",
       "      <td>12.000000</td>\n",
       "      <td>7.000000</td>\n",
       "    </tr>\n",
       "    <tr>\n",
       "      <th>max</th>\n",
       "      <td>11.000000</td>\n",
       "      <td>10.000000</td>\n",
       "      <td>7.000000</td>\n",
       "      <td>15.000000</td>\n",
       "      <td>10.000000</td>\n",
       "    </tr>\n",
       "  </tbody>\n",
       "</table>\n",
       "</div>"
      ],
      "text/plain": [
       "       Time_spent_Alone  Social_event_attendance  Going_outside  \\\n",
       "count      17334.000000             17344.000000   17058.000000   \n",
       "mean           3.137764                 5.265106       4.044319   \n",
       "std            3.003786                 2.753359       2.062580   \n",
       "min            0.000000                 0.000000       0.000000   \n",
       "25%            1.000000                 3.000000       3.000000   \n",
       "50%            2.000000                 5.000000       4.000000   \n",
       "75%            4.000000                 8.000000       6.000000   \n",
       "max           11.000000                10.000000       7.000000   \n",
       "\n",
       "       Friends_circle_size  Post_frequency  \n",
       "count         17470.000000    17260.000000  \n",
       "mean              7.996737        4.982097  \n",
       "std               4.223484        2.879139  \n",
       "min               0.000000        0.000000  \n",
       "25%               5.000000        3.000000  \n",
       "50%               8.000000        5.000000  \n",
       "75%              12.000000        7.000000  \n",
       "max              15.000000       10.000000  "
      ]
     },
     "execution_count": 5,
     "metadata": {},
     "output_type": "execute_result"
    }
   ],
   "source": [
    "data_raw.describe()"
   ]
  },
  {
   "cell_type": "code",
   "execution_count": 6,
   "id": "ac5ed547",
   "metadata": {
    "execution": {
     "iopub.execute_input": "2025-08-22T08:18:11.940780Z",
     "iopub.status.busy": "2025-08-22T08:18:11.940412Z",
     "iopub.status.idle": "2025-08-22T08:18:11.950869Z",
     "shell.execute_reply": "2025-08-22T08:18:11.949395Z"
    },
    "id": "ab4b76ae",
    "outputId": "e90d5c34-26d7-444e-a3fb-20577bfaf61c",
    "papermill": {
     "duration": 0.021193,
     "end_time": "2025-08-22T08:18:11.953363",
     "exception": false,
     "start_time": "2025-08-22T08:18:11.932170",
     "status": "completed"
    },
    "tags": []
   },
   "outputs": [
    {
     "data": {
      "text/plain": [
       "Time_spent_Alone             float64\n",
       "Stage_fear                    object\n",
       "Social_event_attendance      float64\n",
       "Going_outside                float64\n",
       "Drained_after_socializing     object\n",
       "Friends_circle_size          float64\n",
       "Post_frequency               float64\n",
       "Personality                   object\n",
       "dtype: object"
      ]
     },
     "execution_count": 6,
     "metadata": {},
     "output_type": "execute_result"
    }
   ],
   "source": [
    "data_raw.dtypes"
   ]
  },
  {
   "cell_type": "code",
   "execution_count": 7,
   "id": "8ba36ca4",
   "metadata": {
    "execution": {
     "iopub.execute_input": "2025-08-22T08:18:11.968014Z",
     "iopub.status.busy": "2025-08-22T08:18:11.967647Z",
     "iopub.status.idle": "2025-08-22T08:18:13.181850Z",
     "shell.execute_reply": "2025-08-22T08:18:13.180641Z"
    },
    "id": "b5dcf16a",
    "outputId": "a63c8292-d29d-4229-e0a9-9af2db1d7720",
    "papermill": {
     "duration": 1.223716,
     "end_time": "2025-08-22T08:18:13.183853",
     "exception": false,
     "start_time": "2025-08-22T08:18:11.960137",
     "status": "completed"
    },
    "tags": []
   },
   "outputs": [
    {
     "data": {
      "text/plain": [
       "array([[<Axes: title={'center': 'Time_spent_Alone'}>,\n",
       "        <Axes: title={'center': 'Social_event_attendance'}>],\n",
       "       [<Axes: title={'center': 'Going_outside'}>,\n",
       "        <Axes: title={'center': 'Friends_circle_size'}>],\n",
       "       [<Axes: title={'center': 'Post_frequency'}>, <Axes: >]],\n",
       "      dtype=object)"
      ]
     },
     "execution_count": 7,
     "metadata": {},
     "output_type": "execute_result"
    },
    {
     "data": {
      "image/png": "[encoded data removed]",
      "text/plain": [
       "<Figure size 1500x1000 with 6 Axes>"
      ]
     },
     "metadata": {},
     "output_type": "display_data"
    }
   ],
   "source": [
    "data_raw.hist(figsize=(15, 10), xlabelsize=8, ylabelsize=8, grid=False)"
   ]
  },
  {
   "cell_type": "markdown",
   "id": "ec9756bf",
   "metadata": {
    "id": "97bd0d71",
    "papermill": {
     "duration": 0.006303,
     "end_time": "2025-08-22T08:18:13.197797",
     "exception": false,
     "start_time": "2025-08-22T08:18:13.191494",
     "status": "completed"
    },
    "tags": []
   },
   "source": [
    "The data looks to be pretty uniformly distributed, however time spend alone tend to be right skewed."
   ]
  },
  {
   "cell_type": "code",
   "execution_count": 8,
   "id": "b1c88147",
   "metadata": {
    "execution": {
     "iopub.execute_input": "2025-08-22T08:18:13.212419Z",
     "iopub.status.busy": "2025-08-22T08:18:13.212031Z",
     "iopub.status.idle": "2025-08-22T08:18:13.233481Z",
     "shell.execute_reply": "2025-08-22T08:18:13.232561Z"
    },
    "id": "6bcfa852",
    "papermill": {
     "duration": 0.030687,
     "end_time": "2025-08-22T08:18:13.235267",
     "exception": false,
     "start_time": "2025-08-22T08:18:13.204580",
     "status": "completed"
    },
    "tags": []
   },
   "outputs": [],
   "source": [
    "data = data_raw.copy()\n",
    "data['Introvert'] = data['Personality'].map({\"Extrovert\": 0, \"Introvert\": 1})\n",
    "data['Stage_fear'] = data['Stage_fear'].map({\"No\": 0, \"Yes\": 1})\n",
    "data['Drained_after_socializing'] = data['Drained_after_socializing'].map({\"No\": 0, \"Yes\": 1})\n",
    "data = data.drop(columns=['Personality'])"
   ]
  },
  {
   "cell_type": "code",
   "execution_count": 9,
   "id": "eaf0e094",
   "metadata": {
    "execution": {
     "iopub.execute_input": "2025-08-22T08:18:13.250144Z",
     "iopub.status.busy": "2025-08-22T08:18:13.249751Z",
     "iopub.status.idle": "2025-08-22T08:18:13.575475Z",
     "shell.execute_reply": "2025-08-22T08:18:13.574417Z"
    },
    "id": "f2c85d38",
    "outputId": "757dfe0f-a6a1-4d8f-cb9d-2300d1d04d94",
    "papermill": {
     "duration": 0.335019,
     "end_time": "2025-08-22T08:18:13.576917",
     "exception": false,
     "start_time": "2025-08-22T08:18:13.241898",
     "status": "completed"
    },
    "tags": []
   },
   "outputs": [
    {
     "data": {
      "image/png": "[encoded data removed]",
      "text/plain": [
       "<Figure size 1200x300 with 3 Axes>"
      ]
     },
     "metadata": {},
     "output_type": "display_data"
    }
   ],
   "source": [
    "import matplotlib.pyplot as plt\n",
    "plt.figure(figsize=(12, 3))\n",
    "plt.title(\"Categoraical variables\")\n",
    "plt.axis(\"off\")\n",
    "plot_count = 0  # Initialize a counter for displayed images\n",
    "categorical_variables = ['Stage_fear', 'Drained_after_socializing', 'Introvert']\n",
    "\n",
    "for var in categorical_variables:\n",
    "    ax = plt.subplot(1, 3, plot_count + 1)  # Adjust subplot position\n",
    "    sns.countplot(data, x = var)\n",
    "    plot_count += 1  # Increment the counter\n",
    "plt.show()"
   ]
  },
  {
   "cell_type": "markdown",
   "id": "0e462eb2",
   "metadata": {
    "id": "e8fb84b5",
    "papermill": {
     "duration": 0.006981,
     "end_time": "2025-08-22T08:18:13.591266",
     "exception": false,
     "start_time": "2025-08-22T08:18:13.584285",
     "status": "completed"
    },
    "tags": []
   },
   "source": [
    "All distributions look moderately skewed."
   ]
  },
  {
   "cell_type": "code",
   "execution_count": 10,
   "id": "6c752fa1",
   "metadata": {
    "execution": {
     "iopub.execute_input": "2025-08-22T08:18:13.606739Z",
     "iopub.status.busy": "2025-08-22T08:18:13.606364Z",
     "iopub.status.idle": "2025-08-22T08:18:15.299553Z",
     "shell.execute_reply": "2025-08-22T08:18:15.298630Z"
    },
    "id": "c7e205b6",
    "outputId": "29982079-9722-4114-ffdc-239a5c476cb7",
    "papermill": {
     "duration": 1.702933,
     "end_time": "2025-08-22T08:18:15.301257",
     "exception": false,
     "start_time": "2025-08-22T08:18:13.598324",
     "status": "completed"
    },
    "tags": []
   },
   "outputs": [
    {
     "data": {
      "image/png": "[encoded data removed]",
      "text/plain": [
       "<Figure size 1200x400 with 2 Axes>"
      ]
     },
     "metadata": {},
     "output_type": "display_data"
    }
   ],
   "source": [
    "sns.lmplot(\n",
    "    x='Time_spent_Alone', y=\"Introvert\", hue=\"Stage_fear\", col=\"Stage_fear\",\n",
    "    data=data, scatter_kws={\"edgecolor\": 'w'}, col_wrap=3, height=4,\n",
    ");"
   ]
  },
  {
   "cell_type": "markdown",
   "id": "6ec4b812",
   "metadata": {
    "id": "977e56c1",
    "papermill": {
     "duration": 0.007223,
     "end_time": "2025-08-22T08:18:15.316083",
     "exception": false,
     "start_time": "2025-08-22T08:18:15.308860",
     "status": "completed"
    },
    "tags": []
   },
   "source": [
    "The missing data in the dataframe should be considered."
   ]
  },
  {
   "cell_type": "code",
   "execution_count": 11,
   "id": "0b71a1e9",
   "metadata": {
    "execution": {
     "iopub.execute_input": "2025-08-22T08:18:15.332330Z",
     "iopub.status.busy": "2025-08-22T08:18:15.331952Z",
     "iopub.status.idle": "2025-08-22T08:18:15.342090Z",
     "shell.execute_reply": "2025-08-22T08:18:15.341129Z"
    },
    "id": "1b5dc691",
    "outputId": "890b6a9b-8570-4f8a-c494-41ef5b166a91",
    "papermill": {
     "duration": 0.020298,
     "end_time": "2025-08-22T08:18:15.343639",
     "exception": false,
     "start_time": "2025-08-22T08:18:15.323341",
     "status": "completed"
    },
    "tags": []
   },
   "outputs": [
    {
     "data": {
      "text/plain": [
       "Time_spent_Alone             1190\n",
       "Stage_fear                   1893\n",
       "Social_event_attendance      1180\n",
       "Going_outside                1466\n",
       "Drained_after_socializing    1149\n",
       "Friends_circle_size          1054\n",
       "Post_frequency               1264\n",
       "Introvert                       0\n",
       "dtype: int64"
      ]
     },
     "execution_count": 11,
     "metadata": {},
     "output_type": "execute_result"
    }
   ],
   "source": [
    "data.isnull().sum()"
   ]
  },
  {
   "cell_type": "markdown",
   "id": "9b93db92",
   "metadata": {
    "id": "8a13c2dc",
    "papermill": {
     "duration": 0.007357,
     "end_time": "2025-08-22T08:18:15.358580",
     "exception": false,
     "start_time": "2025-08-22T08:18:15.351223",
     "status": "completed"
    },
    "tags": []
   },
   "source": [
    "There seems to be missing data in all columns except for the target value. An imputation strategy should be used."
   ]
  },
  {
   "cell_type": "code",
   "execution_count": 12,
   "id": "69d6880f",
   "metadata": {
    "execution": {
     "iopub.execute_input": "2025-08-22T08:18:15.375701Z",
     "iopub.status.busy": "2025-08-22T08:18:15.375392Z",
     "iopub.status.idle": "2025-08-22T08:18:15.411232Z",
     "shell.execute_reply": "2025-08-22T08:18:15.410388Z"
    },
    "id": "f01b093c",
    "papermill": {
     "duration": 0.047205,
     "end_time": "2025-08-22T08:18:15.413130",
     "exception": false,
     "start_time": "2025-08-22T08:18:15.365925",
     "status": "completed"
    },
    "tags": []
   },
   "outputs": [],
   "source": [
    "my_imputer_cat = SimpleImputer(strategy='most_frequent')\n",
    "data[['Stage_fear', 'Drained_after_socializing']] = my_imputer_cat.fit_transform(data[['Stage_fear', 'Drained_after_socializing']])\n",
    "my_imputer_num = SimpleImputer(strategy='median')\n",
    "data_clean = pd.DataFrame(my_imputer_num.fit_transform(data))\n",
    "data_clean.columns = data.columns"
   ]
  },
  {
   "cell_type": "markdown",
   "id": "e5c656d5",
   "metadata": {
    "id": "ade3715b",
    "papermill": {
     "duration": 0.007676,
     "end_time": "2025-08-22T08:18:15.428442",
     "exception": false,
     "start_time": "2025-08-22T08:18:15.420766",
     "status": "completed"
    },
    "tags": []
   },
   "source": [
    "# Preparing data\n",
    "\n",
    "The data is split into a training and testing set"
   ]
  },
  {
   "cell_type": "code",
   "execution_count": 13,
   "id": "055e2f26",
   "metadata": {
    "execution": {
     "iopub.execute_input": "2025-08-22T08:18:15.444882Z",
     "iopub.status.busy": "2025-08-22T08:18:15.444591Z",
     "iopub.status.idle": "2025-08-22T08:18:15.456309Z",
     "shell.execute_reply": "2025-08-22T08:18:15.455022Z"
    },
    "id": "cf589a30",
    "papermill": {
     "duration": 0.022324,
     "end_time": "2025-08-22T08:18:15.458281",
     "exception": false,
     "start_time": "2025-08-22T08:18:15.435957",
     "status": "completed"
    },
    "tags": []
   },
   "outputs": [],
   "source": [
    "# Making X and y variables\n",
    "X = data_clean.copy()\n",
    "y = X.pop('Introvert')\n",
    "X_train, X_val, y_train, y_val = train_test_split(X, y, random_state = 0)"
   ]
  },
  {
   "cell_type": "markdown",
   "id": "3ab7f05d",
   "metadata": {
    "id": "3750c746",
    "papermill": {
     "duration": 0.007353,
     "end_time": "2025-08-22T08:18:15.473222",
     "exception": false,
     "start_time": "2025-08-22T08:18:15.465869",
     "status": "completed"
    },
    "tags": []
   },
   "source": [
    "## Going for an XGboost\n",
    "\n",
    "The following code will fit a classic XGboost with some different parameters"
   ]
  },
  {
   "cell_type": "code",
   "execution_count": 14,
   "id": "61ad943c",
   "metadata": {
    "execution": {
     "iopub.execute_input": "2025-08-22T08:18:15.490361Z",
     "iopub.status.busy": "2025-08-22T08:18:15.489872Z",
     "iopub.status.idle": "2025-08-22T08:18:16.153849Z",
     "shell.execute_reply": "2025-08-22T08:18:16.152720Z"
    },
    "id": "6ab70483",
    "outputId": "4a56bdf1-c556-47f9-d3c0-1ee7f06c9690",
    "papermill": {
     "duration": 0.674778,
     "end_time": "2025-08-22T08:18:16.155799",
     "exception": false,
     "start_time": "2025-08-22T08:18:15.481021",
     "status": "completed"
    },
    "tags": []
   },
   "outputs": [
    {
     "data": {
      "text/html": [
       "<style>#sk-container-id-1 {color: black;background-color: white;}#sk-container-id-1 pre{padding: 0;}#sk-container-id-1 div.sk-toggleable {background-color: white;}#sk-container-id-1 label.sk-toggleable__label {cursor: pointer;display: block;width: 100%;margin-bottom: 0;padding: 0.3em;box-sizing: border-box;text-align: center;}#sk-container-id-1 label.sk-toggleable__label-arrow:before {content: \"▸\";float: left;margin-right: 0.25em;color: #696969;}#sk-container-id-1 label.sk-toggleable__label-arrow:hover:before {color: black;}#sk-container-id-1 div.sk-estimator:hover label.sk-toggleable__label-arrow:before {color: black;}#sk-container-id-1 div.sk-toggleable__content {max-height: 0;max-width: 0;overflow: hidden;text-align: left;background-color: #f0f8ff;}#sk-container-id-1 div.sk-toggleable__content pre {margin: 0.2em;color: black;border-radius: 0.25em;background-color: #f0f8ff;}#sk-container-id-1 input.sk-toggleable__control:checked~div.sk-toggleable__content {max-height: 200px;max-width: 100%;overflow: auto;}#sk-container-id-1 input.sk-toggleable__control:checked~label.sk-toggleable__label-arrow:before {content: \"▾\";}#sk-container-id-1 div.sk-estimator input.sk-toggleable__control:checked~label.sk-toggleable__label {background-color: #d4ebff;}#sk-container-id-1 div.sk-label input.sk-toggleable__control:checked~label.sk-toggleable__label {background-color: #d4ebff;}#sk-container-id-1 input.sk-hidden--visually {border: 0;clip: rect(1px 1px 1px 1px);clip: rect(1px, 1px, 1px, 1px);height: 1px;margin: -1px;overflow: hidden;padding: 0;position: absolute;width: 1px;}#sk-container-id-1 div.sk-estimator {font-family: monospace;background-color: #f0f8ff;border: 1px dotted black;border-radius: 0.25em;box-sizing: border-box;margin-bottom: 0.5em;}#sk-container-id-1 div.sk-estimator:hover {background-color: #d4ebff;}#sk-container-id-1 div.sk-parallel-item::after {content: \"\";width: 100%;border-bottom: 1px solid gray;flex-grow: 1;}#sk-container-id-1 div.sk-label:hover label.sk-toggleable__label {background-color: #d4ebff;}#sk-container-id-1 div.sk-serial::before {content: \"\";position: absolute;border-left: 1px solid gray;box-sizing: border-box;top: 0;bottom: 0;left: 50%;z-index: 0;}#sk-container-id-1 div.sk-serial {display: flex;flex-direction: column;align-items: center;background-color: white;padding-right: 0.2em;padding-left: 0.2em;position: relative;}#sk-container-id-1 div.sk-item {position: relative;z-index: 1;}#sk-container-id-1 div.sk-parallel {display: flex;align-items: stretch;justify-content: center;background-color: white;position: relative;}#sk-container-id-1 div.sk-item::before, #sk-container-id-1 div.sk-parallel-item::before {content: \"\";position: absolute;border-left: 1px solid gray;box-sizing: border-box;top: 0;bottom: 0;left: 50%;z-index: -1;}#sk-container-id-1 div.sk-parallel-item {display: flex;flex-direction: column;z-index: 1;position: relative;background-color: white;}#sk-container-id-1 div.sk-parallel-item:first-child::after {align-self: flex-end;width: 50%;}#sk-container-id-1 div.sk-parallel-item:last-child::after {align-self: flex-start;width: 50%;}#sk-container-id-1 div.sk-parallel-item:only-child::after {width: 0;}#sk-container-id-1 div.sk-dashed-wrapped {border: 1px dashed gray;margin: 0 0.4em 0.5em 0.4em;box-sizing: border-box;padding-bottom: 0.4em;background-color: white;}#sk-container-id-1 div.sk-label label {font-family: monospace;font-weight: bold;display: inline-block;line-height: 1.2em;}#sk-container-id-1 div.sk-label-container {text-align: center;}#sk-container-id-1 div.sk-container {/* jupyter's `normalize.less` sets `[hidden] { display: none; }` but bootstrap.min.css set `[hidden] { display: none !important; }` so we also need the `!important` here to be able to override the default hidden behavior on the sphinx rendered scikit-learn.org. See: https://github.com/scikit-learn/scikit-learn/issues/21755 */display: inline-block !important;position: relative;}#sk-container-id-1 div.sk-text-repr-fallback {display: none;}</style><div id=\"sk-container-id-1\" class=\"sk-top-container\"><div class=\"sk-text-repr-fallback\"><pre>XGBClassifier(base_score=None, booster=None, callbacks=None,\n",
       "              colsample_bylevel=None, colsample_bynode=None,\n",
       "              colsample_bytree=None, device=None, early_stopping_rounds=None,\n",
       "              enable_categorical=False, eval_metric=None, feature_types=None,\n",
       "              gamma=None, grow_policy=None, importance_type=None,\n",
       "              interaction_constraints=None, learning_rate=0.05, max_bin=None,\n",
       "              max_cat_threshold=None, max_cat_to_onehot=None,\n",
       "              max_delta_step=None, max_depth=None, max_leaves=None,\n",
       "              min_child_weight=None, missing=nan, monotone_constraints=None,\n",
       "              multi_strategy=None, n_estimators=200, n_jobs=None,\n",
       "              num_parallel_tree=None, random_state=None, ...)</pre><b>In a Jupyter environment, please rerun this cell to show the HTML representation or trust the notebook. <br />On GitHub, the HTML representation is unable to render, please try loading this page with nbviewer.org.</b></div><div class=\"sk-container\" hidden><div class=\"sk-item\"><div class=\"sk-estimator sk-toggleable\"><input class=\"sk-toggleable__control sk-hidden--visually\" id=\"sk-estimator-id-1\" type=\"checkbox\" checked><label for=\"sk-estimator-id-1\" class=\"sk-toggleable__label sk-toggleable__label-arrow\">XGBClassifier</label><div class=\"sk-toggleable__content\"><pre>XGBClassifier(base_score=None, booster=None, callbacks=None,\n",
       "              colsample_bylevel=None, colsample_bynode=None,\n",
       "              colsample_bytree=None, device=None, early_stopping_rounds=None,\n",
       "              enable_categorical=False, eval_metric=None, feature_types=None,\n",
       "              gamma=None, grow_policy=None, importance_type=None,\n",
       "              interaction_constraints=None, learning_rate=0.05, max_bin=None,\n",
       "              max_cat_threshold=None, max_cat_to_onehot=None,\n",
       "              max_delta_step=None, max_depth=None, max_leaves=None,\n",
       "              min_child_weight=None, missing=nan, monotone_constraints=None,\n",
       "              multi_strategy=None, n_estimators=200, n_jobs=None,\n",
       "              num_parallel_tree=None, random_state=None, ...)</pre></div></div></div></div></div>"
      ],
      "text/plain": [
       "XGBClassifier(base_score=None, booster=None, callbacks=None,\n",
       "              colsample_bylevel=None, colsample_bynode=None,\n",
       "              colsample_bytree=None, device=None, early_stopping_rounds=None,\n",
       "              enable_categorical=False, eval_metric=None, feature_types=None,\n",
       "              gamma=None, grow_policy=None, importance_type=None,\n",
       "              interaction_constraints=None, learning_rate=0.05, max_bin=None,\n",
       "              max_cat_threshold=None, max_cat_to_onehot=None,\n",
       "              max_delta_step=None, max_depth=None, max_leaves=None,\n",
       "              min_child_weight=None, missing=nan, monotone_constraints=None,\n",
       "              multi_strategy=None, n_estimators=200, n_jobs=None,\n",
       "              num_parallel_tree=None, random_state=None, ...)"
      ]
     },
     "execution_count": 14,
     "metadata": {},
     "output_type": "execute_result"
    }
   ],
   "source": [
    "from xgboost import XGBClassifier\n",
    "model = XGBClassifier(n_estimators=200, learning_rate=0.05)\n",
    "model.fit(X_train, y_train)"
   ]
  },
  {
   "cell_type": "code",
   "execution_count": 15,
   "id": "7598442a",
   "metadata": {
    "execution": {
     "iopub.execute_input": "2025-08-22T08:18:16.172939Z",
     "iopub.status.busy": "2025-08-22T08:18:16.172625Z",
     "iopub.status.idle": "2025-08-22T08:18:16.204654Z",
     "shell.execute_reply": "2025-08-22T08:18:16.203747Z"
    },
    "id": "65b8b666",
    "outputId": "c1f8ed46-8059-4c70-a87e-73ccc78a12e6",
    "papermill": {
     "duration": 0.042584,
     "end_time": "2025-08-22T08:18:16.206359",
     "exception": false,
     "start_time": "2025-08-22T08:18:16.163775",
     "status": "completed"
    },
    "tags": []
   },
   "outputs": [
    {
     "name": "stdout",
     "output_type": "stream",
     "text": [
      "Accuracy: 96.84733318937595 %\n",
      "[[3362   62]\n",
      " [  84 1123]]\n"
     ]
    }
   ],
   "source": [
    "preds = model.predict(X_val)\n",
    "acc = accuracy_score(y_val, preds)\n",
    "print(\"Accuracy: \" , acc*100, \" %\", sep=\"\")\n",
    "print(confusion_matrix(y_val, preds))"
   ]
  },
  {
   "cell_type": "markdown",
   "id": "c8f65e23",
   "metadata": {
    "id": "2c907adb",
    "papermill": {
     "duration": 0.007514,
     "end_time": "2025-08-22T08:18:16.221822",
     "exception": false,
     "start_time": "2025-08-22T08:18:16.214308",
     "status": "completed"
    },
    "tags": []
   },
   "source": [
    "This is a good accuracy, but can it get better?\n",
    "\n",
    "## XGB with hyperparameter tuning"
   ]
  },
  {
   "cell_type": "code",
   "execution_count": 16,
   "id": "bc7afdb1",
   "metadata": {
    "execution": {
     "iopub.execute_input": "2025-08-22T08:18:16.238303Z",
     "iopub.status.busy": "2025-08-22T08:18:16.237992Z",
     "iopub.status.idle": "2025-08-22T08:27:59.800761Z",
     "shell.execute_reply": "2025-08-22T08:27:59.797087Z"
    },
    "id": "LBBQKnc-uEMu",
    "outputId": "65a0ca44-f009-4c80-cbce-85e11b36714a",
    "papermill": {
     "duration": 583.580797,
     "end_time": "2025-08-22T08:27:59.810248",
     "exception": false,
     "start_time": "2025-08-22T08:18:16.229451",
     "status": "completed"
    },
    "tags": []
   },
   "outputs": [
    {
     "name": "stdout",
     "output_type": "stream",
     "text": [
      "Best parameters:  {'colsample_bytree': 0.6, 'gamma': 0, 'learning_rate': 0.01, 'max_depth': 5, 'min_child_weight': 1, 'n_estimators': 200, 'subsample': 0.6}\n",
      "Best accuracy:  0.9687612466709853\n"
     ]
    }
   ],
   "source": [
    "from sklearn.model_selection import GridSearchCV\n",
    "from xgboost import XGBClassifier\n",
    "\n",
    "# Define the parameter grid\n",
    "param_grid = {\n",
    "    'n_estimators': [100, 200, 300],\n",
    "    'learning_rate': [0.01, 0.05, 0.1],\n",
    "    'max_depth': [3, 5, 7],\n",
    "    'min_child_weight': [1, 3, 5],\n",
    "    'gamma': [0, 0.1, 0.2],\n",
    "    'subsample': [0.6, 0.8, 1.0],\n",
    "    'colsample_bytree': [0.6, 0.8, 1.0]\n",
    "}\n",
    "\n",
    "# Initialize the XGBoost classifier\n",
    "xgb = XGBClassifier(use_label_encoder=False, eval_metric='logloss')\n",
    "\n",
    "# Initialize GridSearchCV\n",
    "grid_search = GridSearchCV(estimator=xgb, param_grid=param_grid, cv=3, scoring='accuracy', n_jobs=-1)\n",
    "\n",
    "# Fit GridSearchCV to the training data\n",
    "grid_search.fit(X_train, y_train)\n",
    "\n",
    "# Print the best parameters and the best score\n",
    "print(\"Best parameters: \", grid_search.best_params_)\n",
    "print(\"Best accuracy: \", grid_search.best_score_)\n",
    "\n",
    "# Get the best model\n",
    "best_model = grid_search.best_estimator_"
   ]
  },
  {
   "cell_type": "code",
   "execution_count": 17,
   "id": "939d1b7f",
   "metadata": {
    "execution": {
     "iopub.execute_input": "2025-08-22T08:27:59.827204Z",
     "iopub.status.busy": "2025-08-22T08:27:59.826875Z",
     "iopub.status.idle": "2025-08-22T08:27:59.852943Z",
     "shell.execute_reply": "2025-08-22T08:27:59.850973Z"
    },
    "id": "f6a4Ds3o1l2G",
    "outputId": "302c32c9-341b-4940-c62a-b977e13cc360",
    "papermill": {
     "duration": 0.036309,
     "end_time": "2025-08-22T08:27:59.854446",
     "exception": false,
     "start_time": "2025-08-22T08:27:59.818137",
     "status": "completed"
    },
    "tags": []
   },
   "outputs": [
    {
     "name": "stdout",
     "output_type": "stream",
     "text": [
      "Accuracy: 96.93370762254374 %\n",
      "[[3363   61]\n",
      " [  81 1126]]\n"
     ]
    }
   ],
   "source": [
    "preds = best_model.predict(X_val)\n",
    "acc = accuracy_score(y_val, preds)\n",
    "print(\"Accuracy: \" , acc*100, \" %\", sep=\"\")\n",
    "print(confusion_matrix(y_val, preds))"
   ]
  },
  {
   "cell_type": "markdown",
   "id": "132336b8",
   "metadata": {
    "id": "-3RDljHS1vHv",
    "papermill": {
     "duration": 0.007584,
     "end_time": "2025-08-22T08:27:59.871188",
     "exception": false,
     "start_time": "2025-08-22T08:27:59.863604",
     "status": "completed"
    },
    "tags": []
   },
   "source": [
    "Hyperparameter tuning slightly improved the model."
   ]
  },
  {
   "cell_type": "markdown",
   "id": "d79d44f4",
   "metadata": {
    "id": "7ddb88f7",
    "papermill": {
     "duration": 0.008157,
     "end_time": "2025-08-22T08:27:59.887374",
     "exception": false,
     "start_time": "2025-08-22T08:27:59.879217",
     "status": "completed"
    },
    "tags": []
   },
   "source": [
    "# Making predictions on the test set\n",
    "\n",
    "The best model is being used to predict on the test set. However the test set first needs to be loaded and preprocessed just like the training set."
   ]
  },
  {
   "cell_type": "code",
   "execution_count": 18,
   "id": "547467fc",
   "metadata": {
    "execution": {
     "iopub.execute_input": "2025-08-22T08:27:59.905923Z",
     "iopub.status.busy": "2025-08-22T08:27:59.905589Z",
     "iopub.status.idle": "2025-08-22T08:27:59.950600Z",
     "shell.execute_reply": "2025-08-22T08:27:59.949600Z"
    },
    "id": "6913d7b9",
    "papermill": {
     "duration": 0.056233,
     "end_time": "2025-08-22T08:27:59.952423",
     "exception": false,
     "start_time": "2025-08-22T08:27:59.896190",
     "status": "completed"
    },
    "tags": []
   },
   "outputs": [],
   "source": [
    "# The below code should be converted to a function for future use to avoid code cuplication\n",
    "data_test = pd.read_csv(f'{INPUT_PATH}/test.csv', index_col='id')\n",
    "\n",
    "my_encoder = OrdinalEncoder() # Your code here\n",
    "data_test[['Stage_fear', 'Drained_after_socializing']] = my_encoder.fit_transform(data_test[['Stage_fear', 'Drained_after_socializing']])\n",
    "my_imputer = SimpleImputer()\n",
    "cols = data_test.columns\n",
    "idx = data_test.index\n",
    "data_test = pd.DataFrame(my_imputer.fit_transform(data_test))\n",
    "data_test.columns = cols\n",
    "data_test.index = idx"
   ]
  },
  {
   "cell_type": "code",
   "execution_count": 19,
   "id": "5ce2378b",
   "metadata": {
    "execution": {
     "iopub.execute_input": "2025-08-22T08:27:59.969901Z",
     "iopub.status.busy": "2025-08-22T08:27:59.969569Z",
     "iopub.status.idle": "2025-08-22T08:27:59.988528Z",
     "shell.execute_reply": "2025-08-22T08:27:59.987774Z"
    },
    "id": "4a76736c",
    "papermill": {
     "duration": 0.029649,
     "end_time": "2025-08-22T08:27:59.990406",
     "exception": false,
     "start_time": "2025-08-22T08:27:59.960757",
     "status": "completed"
    },
    "tags": []
   },
   "outputs": [],
   "source": [
    "test_preds = best_model.predict(data_test)\n",
    "test_preds = ['Introvert' if i == 1 else 'Extrovert' for i in test_preds]"
   ]
  },
  {
   "cell_type": "code",
   "execution_count": 20,
   "id": "c268c04a",
   "metadata": {
    "execution": {
     "iopub.execute_input": "2025-08-22T08:28:00.013018Z",
     "iopub.status.busy": "2025-08-22T08:28:00.012682Z",
     "iopub.status.idle": "2025-08-22T08:28:00.031210Z",
     "shell.execute_reply": "2025-08-22T08:28:00.030142Z"
    },
    "id": "dda18378",
    "papermill": {
     "duration": 0.029806,
     "end_time": "2025-08-22T08:28:00.032859",
     "exception": false,
     "start_time": "2025-08-22T08:28:00.003053",
     "status": "completed"
    },
    "tags": []
   },
   "outputs": [],
   "source": [
    "output = pd.DataFrame({'id': data_test.index,\n",
    "                       'Personality': test_preds})\n",
    "output.to_csv('submission.csv', index=False)"
   ]
  }
 ],
 "metadata": {
  "colab": {
   "include_colab_link": true,
   "name": "Predicting Introverts and extroverts",
   "provenance": []
  },
  "kaggle": {
   "accelerator": "none",
   "dataSources": [
    {
     "databundleVersionId": 12738969,
     "sourceId": 91718,
     "sourceType": "competition"
    }
   ],
   "dockerImageVersionId": 31089,
   "isGpuEnabled": false,
   "isInternetEnabled": true,
   "language": "python",
   "sourceType": "notebook"
  },
  "kernelspec": {
   "display_name": "Python 3",
   "language": "python",
   "name": "python3"
  },
  "language_info": {
   "codemirror_mode": {
    "name": "ipython",
    "version": 3
   },
   "file_extension": ".py",
   "mimetype": "text/x-python",
   "name": "python",
   "nbconvert_exporter": "python",
   "pygments_lexer": "ipython3",
   "version": "3.11.13"
  },
  "papermill": {
   "default_parameters": {},
   "duration": 602.038903,
   "end_time": "2025-08-22T08:28:02.663730",
   "environment_variables": {},
   "exception": null,
   "input_path": "__notebook__.ipynb",
   "output_path": "__notebook__.ipynb",
   "parameters": {},
   "start_time": "2025-08-22T08:18:00.624827",
   "version": "2.6.0"
  }
 },
 "nbformat": 4,
 "nbformat_minor": 5
}

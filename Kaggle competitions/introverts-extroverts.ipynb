{
  "cells": [
    {
      "cell_type": "markdown",
      "metadata": {
        "id": "view-in-github",
        "colab_type": "text"
      },
      "source": [
        "<a href=\"https://colab.research.google.com/github/simon-mellergaard/datasimon/blob/main/Kaggle%20competitions/introverts-extroverts.ipynb\" target=\"_parent\"><img src=\"https://colab.research.google.com/assets/colab-badge.svg\" alt=\"Open In Colab\"/></a>"
      ]
    },
    {
      "cell_type": "code",
      "execution_count": 1,
      "id": "541db331",
      "metadata": {
        "execution": {
          "iopub.execute_input": "2025-08-21T18:19:06.710114Z",
          "iopub.status.busy": "2025-08-21T18:19:06.709676Z",
          "iopub.status.idle": "2025-08-21T18:19:12.534101Z",
          "shell.execute_reply": "2025-08-21T18:19:12.532926Z"
        },
        "id": "541db331",
        "papermill": {
          "duration": 5.832588,
          "end_time": "2025-08-21T18:19:12.536020",
          "exception": false,
          "start_time": "2025-08-21T18:19:06.703432",
          "status": "completed"
        },
        "tags": []
      },
      "outputs": [],
      "source": [
        "from sklearn.preprocessing import OrdinalEncoder\n",
        "from sklearn.model_selection import train_test_split\n",
        "from sklearn.impute import SimpleImputer\n",
        "from sklearn.metrics import confusion_matrix\n",
        "from sklearn.metrics import accuracy_score\n",
        "import matplotlib.pyplot as plt\n",
        "import matplotlib as plt\n",
        "import seaborn as sns\n",
        "import warnings\n",
        "import pandas as pd\n",
        "import os\n",
        "\n",
        "warnings.filterwarnings('ignore')"
      ]
    },
    {
      "cell_type": "code",
      "execution_count": 2,
      "id": "dbdbede1",
      "metadata": {
        "execution": {
          "iopub.execute_input": "2025-08-21T18:19:12.547917Z",
          "iopub.status.busy": "2025-08-21T18:19:12.547414Z",
          "iopub.status.idle": "2025-08-21T18:19:12.558608Z",
          "shell.execute_reply": "2025-08-21T18:19:12.557650Z"
        },
        "id": "dbdbede1",
        "outputId": "9a0de6ec-01bb-48e3-cef3-81ac04c7d43f",
        "papermill": {
          "duration": 0.018861,
          "end_time": "2025-08-21T18:19:12.560161",
          "exception": false,
          "start_time": "2025-08-21T18:19:12.541300",
          "status": "completed"
        },
        "tags": [],
        "colab": {
          "base_uri": "https://localhost:8080/"
        }
      },
      "outputs": [
        {
          "output_type": "stream",
          "name": "stdout",
          "text": [
            "Downloading from https://www.kaggle.com/api/v1/competitions/data/download-all/playground-series-s5e7...\n"
          ]
        },
        {
          "output_type": "stream",
          "name": "stderr",
          "text": [
            "100%|██████████| 191k/191k [00:00<00:00, 4.73MB/s]"
          ]
        },
        {
          "output_type": "stream",
          "name": "stdout",
          "text": [
            "Extracting files...\n",
            "Data source import complete and located at: /root/.cache/kagglehub/competitions/playground-series-s5e7\n"
          ]
        },
        {
          "output_type": "stream",
          "name": "stderr",
          "text": [
            "\n"
          ]
        }
      ],
      "source": [
        "# Slect platform (colab or kaggle)\n",
        "PlATFORM_IS_KAGGLE = False\n",
        "\n",
        "if PlATFORM_IS_KAGGLE:\n",
        "    INPUT_PATH = '/kaggle/input/playground-series-s5e7'\n",
        "else:\n",
        "    import kagglehub\n",
        "    from google.colab import userdata\n",
        "    !mkdir ~/.kaggle\n",
        "    !echo -n '{\"username\":\"simonmellergaard\",\"key\":\"' > ~/.kaggle/kaggle.json\n",
        "    !echo -n {userdata.get('Kaggle')} >> ~/.kaggle/kaggle.json\n",
        "    !echo -n '\"}' >> ~/.kaggle/kaggle.json\n",
        "    !chmod 600 ~/.kaggle/kaggle.json\n",
        "    playground_series_s5e7_path = kagglehub.competition_download('playground-series-s5e7')\n",
        "    print('Data source import complete and located at: ' + playground_series_s5e7_path)\n",
        "    INPUT_PATH = '/root/.cache/kagglehub/competitions/playground-series-s5e7'\n",
        "CURRENT_DIR = os.getcwd()"
      ]
    },
    {
      "cell_type": "markdown",
      "id": "98baf152",
      "metadata": {
        "id": "98baf152",
        "papermill": {
          "duration": 0.004712,
          "end_time": "2025-08-21T18:19:12.569918",
          "exception": false,
          "start_time": "2025-08-21T18:19:12.565206",
          "status": "completed"
        },
        "tags": []
      },
      "source": [
        "# Making advanced predictions of extrovetrs and introverts\n",
        "\n",
        "The code is showing the way."
      ]
    },
    {
      "cell_type": "code",
      "execution_count": 11,
      "id": "67650628",
      "metadata": {
        "execution": {
          "iopub.execute_input": "2025-08-21T18:19:12.580875Z",
          "iopub.status.busy": "2025-08-21T18:19:12.580511Z",
          "iopub.status.idle": "2025-08-21T18:19:12.653243Z",
          "shell.execute_reply": "2025-08-21T18:19:12.652205Z"
        },
        "id": "67650628",
        "papermill": {
          "duration": 0.080562,
          "end_time": "2025-08-21T18:19:12.655214",
          "exception": false,
          "start_time": "2025-08-21T18:19:12.574652",
          "status": "completed"
        },
        "tags": []
      },
      "outputs": [],
      "source": [
        "data_raw = pd.read_csv(f'{INPUT_PATH}/train.csv', index_col='id')"
      ]
    },
    {
      "cell_type": "code",
      "execution_count": 12,
      "id": "408119a3",
      "metadata": {
        "execution": {
          "iopub.execute_input": "2025-08-21T18:19:12.667635Z",
          "iopub.status.busy": "2025-08-21T18:19:12.667307Z",
          "iopub.status.idle": "2025-08-21T18:19:12.694261Z",
          "shell.execute_reply": "2025-08-21T18:19:12.693188Z"
        },
        "id": "408119a3",
        "outputId": "8a6a5f19-fe36-4d5a-9d0a-a7cee2005b58",
        "papermill": {
          "duration": 0.035727,
          "end_time": "2025-08-21T18:19:12.696123",
          "exception": false,
          "start_time": "2025-08-21T18:19:12.660396",
          "status": "completed"
        },
        "tags": [],
        "colab": {
          "base_uri": "https://localhost:8080/",
          "height": 238
        }
      },
      "outputs": [
        {
          "output_type": "execute_result",
          "data": {
            "text/plain": [
              "    Time_spent_Alone Stage_fear  Social_event_attendance  Going_outside  \\\n",
              "id                                                                        \n",
              "0                0.0         No                      6.0            4.0   \n",
              "1                1.0         No                      7.0            3.0   \n",
              "2                6.0        Yes                      1.0            0.0   \n",
              "3                3.0         No                      7.0            3.0   \n",
              "4                1.0         No                      4.0            4.0   \n",
              "\n",
              "   Drained_after_socializing  Friends_circle_size  Post_frequency Personality  \n",
              "id                                                                             \n",
              "0                         No                 15.0             5.0   Extrovert  \n",
              "1                         No                 10.0             8.0   Extrovert  \n",
              "2                        NaN                  3.0             0.0   Introvert  \n",
              "3                         No                 11.0             5.0   Extrovert  \n",
              "4                         No                 13.0             NaN   Extrovert  "
            ],
            "text/html": [
              "\n",
              "  <div id=\"df-aeb19ce1-9a6b-40bb-a2ee-1224cc75cef8\" class=\"colab-df-container\">\n",
              "    <div>\n",
              "<style scoped>\n",
              "    .dataframe tbody tr th:only-of-type {\n",
              "        vertical-align: middle;\n",
              "    }\n",
              "\n",
              "    .dataframe tbody tr th {\n",
              "        vertical-align: top;\n",
              "    }\n",
              "\n",
              "    .dataframe thead th {\n",
              "        text-align: right;\n",
              "    }\n",
              "</style>\n",
              "<table border=\"1\" class=\"dataframe\">\n",
              "  <thead>\n",
              "    <tr style=\"text-align: right;\">\n",
              "      <th></th>\n",
              "      <th>Time_spent_Alone</th>\n",
              "      <th>Stage_fear</th>\n",
              "      <th>Social_event_attendance</th>\n",
              "      <th>Going_outside</th>\n",
              "      <th>Drained_after_socializing</th>\n",
              "      <th>Friends_circle_size</th>\n",
              "      <th>Post_frequency</th>\n",
              "      <th>Personality</th>\n",
              "    </tr>\n",
              "    <tr>\n",
              "      <th>id</th>\n",
              "      <th></th>\n",
              "      <th></th>\n",
              "      <th></th>\n",
              "      <th></th>\n",
              "      <th></th>\n",
              "      <th></th>\n",
              "      <th></th>\n",
              "      <th></th>\n",
              "    </tr>\n",
              "  </thead>\n",
              "  <tbody>\n",
              "    <tr>\n",
              "      <th>0</th>\n",
              "      <td>0.0</td>\n",
              "      <td>No</td>\n",
              "      <td>6.0</td>\n",
              "      <td>4.0</td>\n",
              "      <td>No</td>\n",
              "      <td>15.0</td>\n",
              "      <td>5.0</td>\n",
              "      <td>Extrovert</td>\n",
              "    </tr>\n",
              "    <tr>\n",
              "      <th>1</th>\n",
              "      <td>1.0</td>\n",
              "      <td>No</td>\n",
              "      <td>7.0</td>\n",
              "      <td>3.0</td>\n",
              "      <td>No</td>\n",
              "      <td>10.0</td>\n",
              "      <td>8.0</td>\n",
              "      <td>Extrovert</td>\n",
              "    </tr>\n",
              "    <tr>\n",
              "      <th>2</th>\n",
              "      <td>6.0</td>\n",
              "      <td>Yes</td>\n",
              "      <td>1.0</td>\n",
              "      <td>0.0</td>\n",
              "      <td>NaN</td>\n",
              "      <td>3.0</td>\n",
              "      <td>0.0</td>\n",
              "      <td>Introvert</td>\n",
              "    </tr>\n",
              "    <tr>\n",
              "      <th>3</th>\n",
              "      <td>3.0</td>\n",
              "      <td>No</td>\n",
              "      <td>7.0</td>\n",
              "      <td>3.0</td>\n",
              "      <td>No</td>\n",
              "      <td>11.0</td>\n",
              "      <td>5.0</td>\n",
              "      <td>Extrovert</td>\n",
              "    </tr>\n",
              "    <tr>\n",
              "      <th>4</th>\n",
              "      <td>1.0</td>\n",
              "      <td>No</td>\n",
              "      <td>4.0</td>\n",
              "      <td>4.0</td>\n",
              "      <td>No</td>\n",
              "      <td>13.0</td>\n",
              "      <td>NaN</td>\n",
              "      <td>Extrovert</td>\n",
              "    </tr>\n",
              "  </tbody>\n",
              "</table>\n",
              "</div>\n",
              "    <div class=\"colab-df-buttons\">\n",
              "\n",
              "  <div class=\"colab-df-container\">\n",
              "    <button class=\"colab-df-convert\" onclick=\"convertToInteractive('df-aeb19ce1-9a6b-40bb-a2ee-1224cc75cef8')\"\n",
              "            title=\"Convert this dataframe to an interactive table.\"\n",
              "            style=\"display:none;\">\n",
              "\n",
              "  <svg xmlns=\"http://www.w3.org/2000/svg\" height=\"24px\" viewBox=\"0 -960 960 960\">\n",
              "    <path d=\"M120-120v-720h720v720H120Zm60-500h600v-160H180v160Zm220 220h160v-160H400v160Zm0 220h160v-160H400v160ZM180-400h160v-160H180v160Zm440 0h160v-160H620v160ZM180-180h160v-160H180v160Zm440 0h160v-160H620v160Z\"/>\n",
              "  </svg>\n",
              "    </button>\n",
              "\n",
              "  <style>\n",
              "    .colab-df-container {\n",
              "      display:flex;\n",
              "      gap: 12px;\n",
              "    }\n",
              "\n",
              "    .colab-df-convert {\n",
              "      background-color: #E8F0FE;\n",
              "      border: none;\n",
              "      border-radius: 50%;\n",
              "      cursor: pointer;\n",
              "      display: none;\n",
              "      fill: #1967D2;\n",
              "      height: 32px;\n",
              "      padding: 0 0 0 0;\n",
              "      width: 32px;\n",
              "    }\n",
              "\n",
              "    .colab-df-convert:hover {\n",
              "      background-color: #E2EBFA;\n",
              "      box-shadow: 0px 1px 2px rgba(60, 64, 67, 0.3), 0px 1px 3px 1px rgba(60, 64, 67, 0.15);\n",
              "      fill: #174EA6;\n",
              "    }\n",
              "\n",
              "    .colab-df-buttons div {\n",
              "      margin-bottom: 4px;\n",
              "    }\n",
              "\n",
              "    [theme=dark] .colab-df-convert {\n",
              "      background-color: #3B4455;\n",
              "      fill: #D2E3FC;\n",
              "    }\n",
              "\n",
              "    [theme=dark] .colab-df-convert:hover {\n",
              "      background-color: #434B5C;\n",
              "      box-shadow: 0px 1px 3px 1px rgba(0, 0, 0, 0.15);\n",
              "      filter: drop-shadow(0px 1px 2px rgba(0, 0, 0, 0.3));\n",
              "      fill: #FFFFFF;\n",
              "    }\n",
              "  </style>\n",
              "\n",
              "    <script>\n",
              "      const buttonEl =\n",
              "        document.querySelector('#df-aeb19ce1-9a6b-40bb-a2ee-1224cc75cef8 button.colab-df-convert');\n",
              "      buttonEl.style.display =\n",
              "        google.colab.kernel.accessAllowed ? 'block' : 'none';\n",
              "\n",
              "      async function convertToInteractive(key) {\n",
              "        const element = document.querySelector('#df-aeb19ce1-9a6b-40bb-a2ee-1224cc75cef8');\n",
              "        const dataTable =\n",
              "          await google.colab.kernel.invokeFunction('convertToInteractive',\n",
              "                                                    [key], {});\n",
              "        if (!dataTable) return;\n",
              "\n",
              "        const docLinkHtml = 'Like what you see? Visit the ' +\n",
              "          '<a target=\"_blank\" href=https://colab.research.google.com/notebooks/data_table.ipynb>data table notebook</a>'\n",
              "          + ' to learn more about interactive tables.';\n",
              "        element.innerHTML = '';\n",
              "        dataTable['output_type'] = 'display_data';\n",
              "        await google.colab.output.renderOutput(dataTable, element);\n",
              "        const docLink = document.createElement('div');\n",
              "        docLink.innerHTML = docLinkHtml;\n",
              "        element.appendChild(docLink);\n",
              "      }\n",
              "    </script>\n",
              "  </div>\n",
              "\n",
              "\n",
              "    <div id=\"df-d0769691-7b8a-48f6-a336-a7ab8f862ab1\">\n",
              "      <button class=\"colab-df-quickchart\" onclick=\"quickchart('df-d0769691-7b8a-48f6-a336-a7ab8f862ab1')\"\n",
              "                title=\"Suggest charts\"\n",
              "                style=\"display:none;\">\n",
              "\n",
              "<svg xmlns=\"http://www.w3.org/2000/svg\" height=\"24px\"viewBox=\"0 0 24 24\"\n",
              "     width=\"24px\">\n",
              "    <g>\n",
              "        <path d=\"M19 3H5c-1.1 0-2 .9-2 2v14c0 1.1.9 2 2 2h14c1.1 0 2-.9 2-2V5c0-1.1-.9-2-2-2zM9 17H7v-7h2v7zm4 0h-2V7h2v10zm4 0h-2v-4h2v4z\"/>\n",
              "    </g>\n",
              "</svg>\n",
              "      </button>\n",
              "\n",
              "<style>\n",
              "  .colab-df-quickchart {\n",
              "      --bg-color: #E8F0FE;\n",
              "      --fill-color: #1967D2;\n",
              "      --hover-bg-color: #E2EBFA;\n",
              "      --hover-fill-color: #174EA6;\n",
              "      --disabled-fill-color: #AAA;\n",
              "      --disabled-bg-color: #DDD;\n",
              "  }\n",
              "\n",
              "  [theme=dark] .colab-df-quickchart {\n",
              "      --bg-color: #3B4455;\n",
              "      --fill-color: #D2E3FC;\n",
              "      --hover-bg-color: #434B5C;\n",
              "      --hover-fill-color: #FFFFFF;\n",
              "      --disabled-bg-color: #3B4455;\n",
              "      --disabled-fill-color: #666;\n",
              "  }\n",
              "\n",
              "  .colab-df-quickchart {\n",
              "    background-color: var(--bg-color);\n",
              "    border: none;\n",
              "    border-radius: 50%;\n",
              "    cursor: pointer;\n",
              "    display: none;\n",
              "    fill: var(--fill-color);\n",
              "    height: 32px;\n",
              "    padding: 0;\n",
              "    width: 32px;\n",
              "  }\n",
              "\n",
              "  .colab-df-quickchart:hover {\n",
              "    background-color: var(--hover-bg-color);\n",
              "    box-shadow: 0 1px 2px rgba(60, 64, 67, 0.3), 0 1px 3px 1px rgba(60, 64, 67, 0.15);\n",
              "    fill: var(--button-hover-fill-color);\n",
              "  }\n",
              "\n",
              "  .colab-df-quickchart-complete:disabled,\n",
              "  .colab-df-quickchart-complete:disabled:hover {\n",
              "    background-color: var(--disabled-bg-color);\n",
              "    fill: var(--disabled-fill-color);\n",
              "    box-shadow: none;\n",
              "  }\n",
              "\n",
              "  .colab-df-spinner {\n",
              "    border: 2px solid var(--fill-color);\n",
              "    border-color: transparent;\n",
              "    border-bottom-color: var(--fill-color);\n",
              "    animation:\n",
              "      spin 1s steps(1) infinite;\n",
              "  }\n",
              "\n",
              "  @keyframes spin {\n",
              "    0% {\n",
              "      border-color: transparent;\n",
              "      border-bottom-color: var(--fill-color);\n",
              "      border-left-color: var(--fill-color);\n",
              "    }\n",
              "    20% {\n",
              "      border-color: transparent;\n",
              "      border-left-color: var(--fill-color);\n",
              "      border-top-color: var(--fill-color);\n",
              "    }\n",
              "    30% {\n",
              "      border-color: transparent;\n",
              "      border-left-color: var(--fill-color);\n",
              "      border-top-color: var(--fill-color);\n",
              "      border-right-color: var(--fill-color);\n",
              "    }\n",
              "    40% {\n",
              "      border-color: transparent;\n",
              "      border-right-color: var(--fill-color);\n",
              "      border-top-color: var(--fill-color);\n",
              "    }\n",
              "    60% {\n",
              "      border-color: transparent;\n",
              "      border-right-color: var(--fill-color);\n",
              "    }\n",
              "    80% {\n",
              "      border-color: transparent;\n",
              "      border-right-color: var(--fill-color);\n",
              "      border-bottom-color: var(--fill-color);\n",
              "    }\n",
              "    90% {\n",
              "      border-color: transparent;\n",
              "      border-bottom-color: var(--fill-color);\n",
              "    }\n",
              "  }\n",
              "</style>\n",
              "\n",
              "      <script>\n",
              "        async function quickchart(key) {\n",
              "          const quickchartButtonEl =\n",
              "            document.querySelector('#' + key + ' button');\n",
              "          quickchartButtonEl.disabled = true;  // To prevent multiple clicks.\n",
              "          quickchartButtonEl.classList.add('colab-df-spinner');\n",
              "          try {\n",
              "            const charts = await google.colab.kernel.invokeFunction(\n",
              "                'suggestCharts', [key], {});\n",
              "          } catch (error) {\n",
              "            console.error('Error during call to suggestCharts:', error);\n",
              "          }\n",
              "          quickchartButtonEl.classList.remove('colab-df-spinner');\n",
              "          quickchartButtonEl.classList.add('colab-df-quickchart-complete');\n",
              "        }\n",
              "        (() => {\n",
              "          let quickchartButtonEl =\n",
              "            document.querySelector('#df-d0769691-7b8a-48f6-a336-a7ab8f862ab1 button');\n",
              "          quickchartButtonEl.style.display =\n",
              "            google.colab.kernel.accessAllowed ? 'block' : 'none';\n",
              "        })();\n",
              "      </script>\n",
              "    </div>\n",
              "\n",
              "    </div>\n",
              "  </div>\n"
            ],
            "application/vnd.google.colaboratory.intrinsic+json": {
              "type": "dataframe",
              "variable_name": "data_raw",
              "summary": "{\n  \"name\": \"data_raw\",\n  \"rows\": 18524,\n  \"fields\": [\n    {\n      \"column\": \"id\",\n      \"properties\": {\n        \"dtype\": \"number\",\n        \"std\": 5347,\n        \"min\": 0,\n        \"max\": 18523,\n        \"num_unique_values\": 18524,\n        \"samples\": [\n          13209,\n          2740,\n          10249\n        ],\n        \"semantic_type\": \"\",\n        \"description\": \"\"\n      }\n    },\n    {\n      \"column\": \"Time_spent_Alone\",\n      \"properties\": {\n        \"dtype\": \"number\",\n        \"std\": 3.003786334721924,\n        \"min\": 0.0,\n        \"max\": 11.0,\n        \"num_unique_values\": 12,\n        \"samples\": [\n          8.0,\n          7.0,\n          0.0\n        ],\n        \"semantic_type\": \"\",\n        \"description\": \"\"\n      }\n    },\n    {\n      \"column\": \"Stage_fear\",\n      \"properties\": {\n        \"dtype\": \"category\",\n        \"num_unique_values\": 2,\n        \"samples\": [\n          \"Yes\",\n          \"No\"\n        ],\n        \"semantic_type\": \"\",\n        \"description\": \"\"\n      }\n    },\n    {\n      \"column\": \"Social_event_attendance\",\n      \"properties\": {\n        \"dtype\": \"number\",\n        \"std\": 2.7533590604408937,\n        \"min\": 0.0,\n        \"max\": 10.0,\n        \"num_unique_values\": 11,\n        \"samples\": [\n          2.0,\n          6.0\n        ],\n        \"semantic_type\": \"\",\n        \"description\": \"\"\n      }\n    },\n    {\n      \"column\": \"Going_outside\",\n      \"properties\": {\n        \"dtype\": \"number\",\n        \"std\": 2.0625798113009184,\n        \"min\": 0.0,\n        \"max\": 7.0,\n        \"num_unique_values\": 8,\n        \"samples\": [\n          3.0,\n          6.0\n        ],\n        \"semantic_type\": \"\",\n        \"description\": \"\"\n      }\n    },\n    {\n      \"column\": \"Drained_after_socializing\",\n      \"properties\": {\n        \"dtype\": \"category\",\n        \"num_unique_values\": 2,\n        \"samples\": [\n          \"Yes\",\n          \"No\"\n        ],\n        \"semantic_type\": \"\",\n        \"description\": \"\"\n      }\n    },\n    {\n      \"column\": \"Friends_circle_size\",\n      \"properties\": {\n        \"dtype\": \"number\",\n        \"std\": 4.223483912812501,\n        \"min\": 0.0,\n        \"max\": 15.0,\n        \"num_unique_values\": 16,\n        \"samples\": [\n          15.0,\n          10.0\n        ],\n        \"semantic_type\": \"\",\n        \"description\": \"\"\n      }\n    },\n    {\n      \"column\": \"Post_frequency\",\n      \"properties\": {\n        \"dtype\": \"number\",\n        \"std\": 2.8791389927175848,\n        \"min\": 0.0,\n        \"max\": 10.0,\n        \"num_unique_values\": 11,\n        \"samples\": [\n          2.0,\n          5.0\n        ],\n        \"semantic_type\": \"\",\n        \"description\": \"\"\n      }\n    },\n    {\n      \"column\": \"Personality\",\n      \"properties\": {\n        \"dtype\": \"category\",\n        \"num_unique_values\": 2,\n        \"samples\": [\n          \"Introvert\",\n          \"Extrovert\"\n        ],\n        \"semantic_type\": \"\",\n        \"description\": \"\"\n      }\n    }\n  ]\n}"
            }
          },
          "metadata": {},
          "execution_count": 12
        }
      ],
      "source": [
        "data_raw.head()"
      ]
    },
    {
      "cell_type": "markdown",
      "id": "296cafd9",
      "metadata": {
        "id": "296cafd9",
        "papermill": {
          "duration": 0.004995,
          "end_time": "2025-08-21T18:19:12.706433",
          "exception": false,
          "start_time": "2025-08-21T18:19:12.701438",
          "status": "completed"
        },
        "tags": []
      },
      "source": [
        "The description of the variables are as follows:\n",
        "* Time_spent_Alone: Hours spent alone daily (0–11).\n",
        "* Stage_fear: Presence of stage fright (Yes/No).\n",
        "* Social_event_attendance: Frequency of social events (0–10).\n",
        "* Going_outside: Frequency of going outside (0–7).\n",
        "* Drained_after_socializing: Feeling drained after socializing (Yes/No).\n",
        "* Friends_circle_size: Number of close friends (0–15).\n",
        "* Post_frequency: Social media post frequency (0–10).\n",
        "* Personality: Target variable (Extrovert/Introvert).\n",
        "\n",
        "There are two categorical variables and 6 numeric varialbe. The target variable is binary, so it is a binary classification problem."
      ]
    },
    {
      "cell_type": "code",
      "execution_count": 13,
      "id": "9fb04e9c",
      "metadata": {
        "execution": {
          "iopub.execute_input": "2025-08-21T18:19:12.718246Z",
          "iopub.status.busy": "2025-08-21T18:19:12.717464Z",
          "iopub.status.idle": "2025-08-21T18:19:12.751268Z",
          "shell.execute_reply": "2025-08-21T18:19:12.750333Z"
        },
        "id": "9fb04e9c",
        "outputId": "872eaff9-e63f-4128-ebb0-2112289f27d9",
        "papermill": {
          "duration": 0.041806,
          "end_time": "2025-08-21T18:19:12.753253",
          "exception": false,
          "start_time": "2025-08-21T18:19:12.711447",
          "status": "completed"
        },
        "tags": [],
        "colab": {
          "base_uri": "https://localhost:8080/",
          "height": 300
        }
      },
      "outputs": [
        {
          "output_type": "execute_result",
          "data": {
            "text/plain": [
              "       Time_spent_Alone  Social_event_attendance  Going_outside  \\\n",
              "count      17334.000000             17344.000000   17058.000000   \n",
              "mean           3.137764                 5.265106       4.044319   \n",
              "std            3.003786                 2.753359       2.062580   \n",
              "min            0.000000                 0.000000       0.000000   \n",
              "25%            1.000000                 3.000000       3.000000   \n",
              "50%            2.000000                 5.000000       4.000000   \n",
              "75%            4.000000                 8.000000       6.000000   \n",
              "max           11.000000                10.000000       7.000000   \n",
              "\n",
              "       Friends_circle_size  Post_frequency  \n",
              "count         17470.000000    17260.000000  \n",
              "mean              7.996737        4.982097  \n",
              "std               4.223484        2.879139  \n",
              "min               0.000000        0.000000  \n",
              "25%               5.000000        3.000000  \n",
              "50%               8.000000        5.000000  \n",
              "75%              12.000000        7.000000  \n",
              "max              15.000000       10.000000  "
            ],
            "text/html": [
              "\n",
              "  <div id=\"df-aa78aa52-5ad7-44a9-96e4-723d18b23faf\" class=\"colab-df-container\">\n",
              "    <div>\n",
              "<style scoped>\n",
              "    .dataframe tbody tr th:only-of-type {\n",
              "        vertical-align: middle;\n",
              "    }\n",
              "\n",
              "    .dataframe tbody tr th {\n",
              "        vertical-align: top;\n",
              "    }\n",
              "\n",
              "    .dataframe thead th {\n",
              "        text-align: right;\n",
              "    }\n",
              "</style>\n",
              "<table border=\"1\" class=\"dataframe\">\n",
              "  <thead>\n",
              "    <tr style=\"text-align: right;\">\n",
              "      <th></th>\n",
              "      <th>Time_spent_Alone</th>\n",
              "      <th>Social_event_attendance</th>\n",
              "      <th>Going_outside</th>\n",
              "      <th>Friends_circle_size</th>\n",
              "      <th>Post_frequency</th>\n",
              "    </tr>\n",
              "  </thead>\n",
              "  <tbody>\n",
              "    <tr>\n",
              "      <th>count</th>\n",
              "      <td>17334.000000</td>\n",
              "      <td>17344.000000</td>\n",
              "      <td>17058.000000</td>\n",
              "      <td>17470.000000</td>\n",
              "      <td>17260.000000</td>\n",
              "    </tr>\n",
              "    <tr>\n",
              "      <th>mean</th>\n",
              "      <td>3.137764</td>\n",
              "      <td>5.265106</td>\n",
              "      <td>4.044319</td>\n",
              "      <td>7.996737</td>\n",
              "      <td>4.982097</td>\n",
              "    </tr>\n",
              "    <tr>\n",
              "      <th>std</th>\n",
              "      <td>3.003786</td>\n",
              "      <td>2.753359</td>\n",
              "      <td>2.062580</td>\n",
              "      <td>4.223484</td>\n",
              "      <td>2.879139</td>\n",
              "    </tr>\n",
              "    <tr>\n",
              "      <th>min</th>\n",
              "      <td>0.000000</td>\n",
              "      <td>0.000000</td>\n",
              "      <td>0.000000</td>\n",
              "      <td>0.000000</td>\n",
              "      <td>0.000000</td>\n",
              "    </tr>\n",
              "    <tr>\n",
              "      <th>25%</th>\n",
              "      <td>1.000000</td>\n",
              "      <td>3.000000</td>\n",
              "      <td>3.000000</td>\n",
              "      <td>5.000000</td>\n",
              "      <td>3.000000</td>\n",
              "    </tr>\n",
              "    <tr>\n",
              "      <th>50%</th>\n",
              "      <td>2.000000</td>\n",
              "      <td>5.000000</td>\n",
              "      <td>4.000000</td>\n",
              "      <td>8.000000</td>\n",
              "      <td>5.000000</td>\n",
              "    </tr>\n",
              "    <tr>\n",
              "      <th>75%</th>\n",
              "      <td>4.000000</td>\n",
              "      <td>8.000000</td>\n",
              "      <td>6.000000</td>\n",
              "      <td>12.000000</td>\n",
              "      <td>7.000000</td>\n",
              "    </tr>\n",
              "    <tr>\n",
              "      <th>max</th>\n",
              "      <td>11.000000</td>\n",
              "      <td>10.000000</td>\n",
              "      <td>7.000000</td>\n",
              "      <td>15.000000</td>\n",
              "      <td>10.000000</td>\n",
              "    </tr>\n",
              "  </tbody>\n",
              "</table>\n",
              "</div>\n",
              "    <div class=\"colab-df-buttons\">\n",
              "\n",
              "  <div class=\"colab-df-container\">\n",
              "    <button class=\"colab-df-convert\" onclick=\"convertToInteractive('df-aa78aa52-5ad7-44a9-96e4-723d18b23faf')\"\n",
              "            title=\"Convert this dataframe to an interactive table.\"\n",
              "            style=\"display:none;\">\n",
              "\n",
              "  <svg xmlns=\"http://www.w3.org/2000/svg\" height=\"24px\" viewBox=\"0 -960 960 960\">\n",
              "    <path d=\"M120-120v-720h720v720H120Zm60-500h600v-160H180v160Zm220 220h160v-160H400v160Zm0 220h160v-160H400v160ZM180-400h160v-160H180v160Zm440 0h160v-160H620v160ZM180-180h160v-160H180v160Zm440 0h160v-160H620v160Z\"/>\n",
              "  </svg>\n",
              "    </button>\n",
              "\n",
              "  <style>\n",
              "    .colab-df-container {\n",
              "      display:flex;\n",
              "      gap: 12px;\n",
              "    }\n",
              "\n",
              "    .colab-df-convert {\n",
              "      background-color: #E8F0FE;\n",
              "      border: none;\n",
              "      border-radius: 50%;\n",
              "      cursor: pointer;\n",
              "      display: none;\n",
              "      fill: #1967D2;\n",
              "      height: 32px;\n",
              "      padding: 0 0 0 0;\n",
              "      width: 32px;\n",
              "    }\n",
              "\n",
              "    .colab-df-convert:hover {\n",
              "      background-color: #E2EBFA;\n",
              "      box-shadow: 0px 1px 2px rgba(60, 64, 67, 0.3), 0px 1px 3px 1px rgba(60, 64, 67, 0.15);\n",
              "      fill: #174EA6;\n",
              "    }\n",
              "\n",
              "    .colab-df-buttons div {\n",
              "      margin-bottom: 4px;\n",
              "    }\n",
              "\n",
              "    [theme=dark] .colab-df-convert {\n",
              "      background-color: #3B4455;\n",
              "      fill: #D2E3FC;\n",
              "    }\n",
              "\n",
              "    [theme=dark] .colab-df-convert:hover {\n",
              "      background-color: #434B5C;\n",
              "      box-shadow: 0px 1px 3px 1px rgba(0, 0, 0, 0.15);\n",
              "      filter: drop-shadow(0px 1px 2px rgba(0, 0, 0, 0.3));\n",
              "      fill: #FFFFFF;\n",
              "    }\n",
              "  </style>\n",
              "\n",
              "    <script>\n",
              "      const buttonEl =\n",
              "        document.querySelector('#df-aa78aa52-5ad7-44a9-96e4-723d18b23faf button.colab-df-convert');\n",
              "      buttonEl.style.display =\n",
              "        google.colab.kernel.accessAllowed ? 'block' : 'none';\n",
              "\n",
              "      async function convertToInteractive(key) {\n",
              "        const element = document.querySelector('#df-aa78aa52-5ad7-44a9-96e4-723d18b23faf');\n",
              "        const dataTable =\n",
              "          await google.colab.kernel.invokeFunction('convertToInteractive',\n",
              "                                                    [key], {});\n",
              "        if (!dataTable) return;\n",
              "\n",
              "        const docLinkHtml = 'Like what you see? Visit the ' +\n",
              "          '<a target=\"_blank\" href=https://colab.research.google.com/notebooks/data_table.ipynb>data table notebook</a>'\n",
              "          + ' to learn more about interactive tables.';\n",
              "        element.innerHTML = '';\n",
              "        dataTable['output_type'] = 'display_data';\n",
              "        await google.colab.output.renderOutput(dataTable, element);\n",
              "        const docLink = document.createElement('div');\n",
              "        docLink.innerHTML = docLinkHtml;\n",
              "        element.appendChild(docLink);\n",
              "      }\n",
              "    </script>\n",
              "  </div>\n",
              "\n",
              "\n",
              "    <div id=\"df-ff90cde1-cecb-4145-a60f-6193b992f6ad\">\n",
              "      <button class=\"colab-df-quickchart\" onclick=\"quickchart('df-ff90cde1-cecb-4145-a60f-6193b992f6ad')\"\n",
              "                title=\"Suggest charts\"\n",
              "                style=\"display:none;\">\n",
              "\n",
              "<svg xmlns=\"http://www.w3.org/2000/svg\" height=\"24px\"viewBox=\"0 0 24 24\"\n",
              "     width=\"24px\">\n",
              "    <g>\n",
              "        <path d=\"M19 3H5c-1.1 0-2 .9-2 2v14c0 1.1.9 2 2 2h14c1.1 0 2-.9 2-2V5c0-1.1-.9-2-2-2zM9 17H7v-7h2v7zm4 0h-2V7h2v10zm4 0h-2v-4h2v4z\"/>\n",
              "    </g>\n",
              "</svg>\n",
              "      </button>\n",
              "\n",
              "<style>\n",
              "  .colab-df-quickchart {\n",
              "      --bg-color: #E8F0FE;\n",
              "      --fill-color: #1967D2;\n",
              "      --hover-bg-color: #E2EBFA;\n",
              "      --hover-fill-color: #174EA6;\n",
              "      --disabled-fill-color: #AAA;\n",
              "      --disabled-bg-color: #DDD;\n",
              "  }\n",
              "\n",
              "  [theme=dark] .colab-df-quickchart {\n",
              "      --bg-color: #3B4455;\n",
              "      --fill-color: #D2E3FC;\n",
              "      --hover-bg-color: #434B5C;\n",
              "      --hover-fill-color: #FFFFFF;\n",
              "      --disabled-bg-color: #3B4455;\n",
              "      --disabled-fill-color: #666;\n",
              "  }\n",
              "\n",
              "  .colab-df-quickchart {\n",
              "    background-color: var(--bg-color);\n",
              "    border: none;\n",
              "    border-radius: 50%;\n",
              "    cursor: pointer;\n",
              "    display: none;\n",
              "    fill: var(--fill-color);\n",
              "    height: 32px;\n",
              "    padding: 0;\n",
              "    width: 32px;\n",
              "  }\n",
              "\n",
              "  .colab-df-quickchart:hover {\n",
              "    background-color: var(--hover-bg-color);\n",
              "    box-shadow: 0 1px 2px rgba(60, 64, 67, 0.3), 0 1px 3px 1px rgba(60, 64, 67, 0.15);\n",
              "    fill: var(--button-hover-fill-color);\n",
              "  }\n",
              "\n",
              "  .colab-df-quickchart-complete:disabled,\n",
              "  .colab-df-quickchart-complete:disabled:hover {\n",
              "    background-color: var(--disabled-bg-color);\n",
              "    fill: var(--disabled-fill-color);\n",
              "    box-shadow: none;\n",
              "  }\n",
              "\n",
              "  .colab-df-spinner {\n",
              "    border: 2px solid var(--fill-color);\n",
              "    border-color: transparent;\n",
              "    border-bottom-color: var(--fill-color);\n",
              "    animation:\n",
              "      spin 1s steps(1) infinite;\n",
              "  }\n",
              "\n",
              "  @keyframes spin {\n",
              "    0% {\n",
              "      border-color: transparent;\n",
              "      border-bottom-color: var(--fill-color);\n",
              "      border-left-color: var(--fill-color);\n",
              "    }\n",
              "    20% {\n",
              "      border-color: transparent;\n",
              "      border-left-color: var(--fill-color);\n",
              "      border-top-color: var(--fill-color);\n",
              "    }\n",
              "    30% {\n",
              "      border-color: transparent;\n",
              "      border-left-color: var(--fill-color);\n",
              "      border-top-color: var(--fill-color);\n",
              "      border-right-color: var(--fill-color);\n",
              "    }\n",
              "    40% {\n",
              "      border-color: transparent;\n",
              "      border-right-color: var(--fill-color);\n",
              "      border-top-color: var(--fill-color);\n",
              "    }\n",
              "    60% {\n",
              "      border-color: transparent;\n",
              "      border-right-color: var(--fill-color);\n",
              "    }\n",
              "    80% {\n",
              "      border-color: transparent;\n",
              "      border-right-color: var(--fill-color);\n",
              "      border-bottom-color: var(--fill-color);\n",
              "    }\n",
              "    90% {\n",
              "      border-color: transparent;\n",
              "      border-bottom-color: var(--fill-color);\n",
              "    }\n",
              "  }\n",
              "</style>\n",
              "\n",
              "      <script>\n",
              "        async function quickchart(key) {\n",
              "          const quickchartButtonEl =\n",
              "            document.querySelector('#' + key + ' button');\n",
              "          quickchartButtonEl.disabled = true;  // To prevent multiple clicks.\n",
              "          quickchartButtonEl.classList.add('colab-df-spinner');\n",
              "          try {\n",
              "            const charts = await google.colab.kernel.invokeFunction(\n",
              "                'suggestCharts', [key], {});\n",
              "          } catch (error) {\n",
              "            console.error('Error during call to suggestCharts:', error);\n",
              "          }\n",
              "          quickchartButtonEl.classList.remove('colab-df-spinner');\n",
              "          quickchartButtonEl.classList.add('colab-df-quickchart-complete');\n",
              "        }\n",
              "        (() => {\n",
              "          let quickchartButtonEl =\n",
              "            document.querySelector('#df-ff90cde1-cecb-4145-a60f-6193b992f6ad button');\n",
              "          quickchartButtonEl.style.display =\n",
              "            google.colab.kernel.accessAllowed ? 'block' : 'none';\n",
              "        })();\n",
              "      </script>\n",
              "    </div>\n",
              "\n",
              "    </div>\n",
              "  </div>\n"
            ],
            "application/vnd.google.colaboratory.intrinsic+json": {
              "type": "dataframe",
              "summary": "{\n  \"name\": \"data_raw\",\n  \"rows\": 8,\n  \"fields\": [\n    {\n      \"column\": \"Time_spent_Alone\",\n      \"properties\": {\n        \"dtype\": \"number\",\n        \"std\": 6127.2760448483505,\n        \"min\": 0.0,\n        \"max\": 17334.0,\n        \"num_unique_values\": 8,\n        \"samples\": [\n          3.1377639321564557,\n          2.0,\n          17334.0\n        ],\n        \"semantic_type\": \"\",\n        \"description\": \"\"\n      }\n    },\n    {\n      \"column\": \"Social_event_attendance\",\n      \"properties\": {\n        \"dtype\": \"number\",\n        \"std\": 6130.312606576388,\n        \"min\": 0.0,\n        \"max\": 17344.0,\n        \"num_unique_values\": 8,\n        \"samples\": [\n          5.265106088560886,\n          5.0,\n          17344.0\n        ],\n        \"semantic_type\": \"\",\n        \"description\": \"\"\n      }\n    },\n    {\n      \"column\": \"Going_outside\",\n      \"properties\": {\n        \"dtype\": \"number\",\n        \"std\": 6029.59553302205,\n        \"min\": 0.0,\n        \"max\": 17058.0,\n        \"num_unique_values\": 8,\n        \"samples\": [\n          4.044319380935631,\n          4.0,\n          17058.0\n        ],\n        \"semantic_type\": \"\",\n        \"description\": \"\"\n      }\n    },\n    {\n      \"column\": \"Friends_circle_size\",\n      \"properties\": {\n        \"dtype\": \"number\",\n        \"std\": 6173.941952162405,\n        \"min\": 0.0,\n        \"max\": 17470.0,\n        \"num_unique_values\": 8,\n        \"samples\": [\n          7.996737263880939,\n          8.0,\n          17470.0\n        ],\n        \"semantic_type\": \"\",\n        \"description\": \"\"\n      }\n    },\n    {\n      \"column\": \"Post_frequency\",\n      \"properties\": {\n        \"dtype\": \"number\",\n        \"std\": 6100.672502664593,\n        \"min\": 0.0,\n        \"max\": 17260.0,\n        \"num_unique_values\": 8,\n        \"samples\": [\n          4.982097334878332,\n          5.0,\n          17260.0\n        ],\n        \"semantic_type\": \"\",\n        \"description\": \"\"\n      }\n    }\n  ]\n}"
            }
          },
          "metadata": {},
          "execution_count": 13
        }
      ],
      "source": [
        "data_raw.describe()"
      ]
    },
    {
      "cell_type": "code",
      "execution_count": 14,
      "id": "ab4b76ae",
      "metadata": {
        "execution": {
          "iopub.execute_input": "2025-08-21T18:19:12.765883Z",
          "iopub.status.busy": "2025-08-21T18:19:12.765515Z",
          "iopub.status.idle": "2025-08-21T18:19:12.772844Z",
          "shell.execute_reply": "2025-08-21T18:19:12.771898Z"
        },
        "id": "ab4b76ae",
        "outputId": "e90d5c34-26d7-444e-a3fb-20577bfaf61c",
        "papermill": {
          "duration": 0.015337,
          "end_time": "2025-08-21T18:19:12.774418",
          "exception": false,
          "start_time": "2025-08-21T18:19:12.759081",
          "status": "completed"
        },
        "tags": [],
        "colab": {
          "base_uri": "https://localhost:8080/",
          "height": 335
        }
      },
      "outputs": [
        {
          "output_type": "execute_result",
          "data": {
            "text/plain": [
              "Time_spent_Alone             float64\n",
              "Stage_fear                    object\n",
              "Social_event_attendance      float64\n",
              "Going_outside                float64\n",
              "Drained_after_socializing     object\n",
              "Friends_circle_size          float64\n",
              "Post_frequency               float64\n",
              "Personality                   object\n",
              "dtype: object"
            ],
            "text/html": [
              "<div>\n",
              "<style scoped>\n",
              "    .dataframe tbody tr th:only-of-type {\n",
              "        vertical-align: middle;\n",
              "    }\n",
              "\n",
              "    .dataframe tbody tr th {\n",
              "        vertical-align: top;\n",
              "    }\n",
              "\n",
              "    .dataframe thead th {\n",
              "        text-align: right;\n",
              "    }\n",
              "</style>\n",
              "<table border=\"1\" class=\"dataframe\">\n",
              "  <thead>\n",
              "    <tr style=\"text-align: right;\">\n",
              "      <th></th>\n",
              "      <th>0</th>\n",
              "    </tr>\n",
              "  </thead>\n",
              "  <tbody>\n",
              "    <tr>\n",
              "      <th>Time_spent_Alone</th>\n",
              "      <td>float64</td>\n",
              "    </tr>\n",
              "    <tr>\n",
              "      <th>Stage_fear</th>\n",
              "      <td>object</td>\n",
              "    </tr>\n",
              "    <tr>\n",
              "      <th>Social_event_attendance</th>\n",
              "      <td>float64</td>\n",
              "    </tr>\n",
              "    <tr>\n",
              "      <th>Going_outside</th>\n",
              "      <td>float64</td>\n",
              "    </tr>\n",
              "    <tr>\n",
              "      <th>Drained_after_socializing</th>\n",
              "      <td>object</td>\n",
              "    </tr>\n",
              "    <tr>\n",
              "      <th>Friends_circle_size</th>\n",
              "      <td>float64</td>\n",
              "    </tr>\n",
              "    <tr>\n",
              "      <th>Post_frequency</th>\n",
              "      <td>float64</td>\n",
              "    </tr>\n",
              "    <tr>\n",
              "      <th>Personality</th>\n",
              "      <td>object</td>\n",
              "    </tr>\n",
              "  </tbody>\n",
              "</table>\n",
              "</div><br><label><b>dtype:</b> object</label>"
            ]
          },
          "metadata": {},
          "execution_count": 14
        }
      ],
      "source": [
        "data_raw.dtypes"
      ]
    },
    {
      "cell_type": "code",
      "execution_count": 15,
      "id": "b5dcf16a",
      "metadata": {
        "execution": {
          "iopub.execute_input": "2025-08-21T18:19:12.786965Z",
          "iopub.status.busy": "2025-08-21T18:19:12.786552Z",
          "iopub.status.idle": "2025-08-21T18:19:14.024309Z",
          "shell.execute_reply": "2025-08-21T18:19:14.022978Z"
        },
        "id": "b5dcf16a",
        "outputId": "a63c8292-d29d-4229-e0a9-9af2db1d7720",
        "papermill": {
          "duration": 1.246046,
          "end_time": "2025-08-21T18:19:14.026187",
          "exception": false,
          "start_time": "2025-08-21T18:19:12.780141",
          "status": "completed"
        },
        "tags": [],
        "colab": {
          "base_uri": "https://localhost:8080/",
          "height": 953
        }
      },
      "outputs": [
        {
          "output_type": "execute_result",
          "data": {
            "text/plain": [
              "array([[<Axes: title={'center': 'Time_spent_Alone'}>,\n",
              "        <Axes: title={'center': 'Social_event_attendance'}>],\n",
              "       [<Axes: title={'center': 'Going_outside'}>,\n",
              "        <Axes: title={'center': 'Friends_circle_size'}>],\n",
              "       [<Axes: title={'center': 'Post_frequency'}>, <Axes: >]],\n",
              "      dtype=object)"
            ]
          },
          "metadata": {},
          "execution_count": 15
        },
        {
          "output_type": "display_data",
          "data": {
            "text/plain": [
              "<Figure size 1500x1000 with 6 Axes>"
            ],
            "image/png": "[encoded data removed]"
          },
          "metadata": {}
        }
      ],
      "source": [
        "data_raw.hist(figsize=(15, 10), xlabelsize=8, ylabelsize=8, grid=False)"
      ]
    },
    {
      "cell_type": "markdown",
      "id": "97bd0d71",
      "metadata": {
        "id": "97bd0d71",
        "papermill": {
          "duration": 0.00748,
          "end_time": "2025-08-21T18:19:14.041250",
          "exception": false,
          "start_time": "2025-08-21T18:19:14.033770",
          "status": "completed"
        },
        "tags": []
      },
      "source": [
        "The data looks to be pretty uniformly distributed, however time spend alone tend to be right skewed."
      ]
    },
    {
      "cell_type": "code",
      "execution_count": 17,
      "id": "6bcfa852",
      "metadata": {
        "execution": {
          "iopub.execute_input": "2025-08-21T18:19:14.055790Z",
          "iopub.status.busy": "2025-08-21T18:19:14.055445Z",
          "iopub.status.idle": "2025-08-21T18:19:14.088031Z",
          "shell.execute_reply": "2025-08-21T18:19:14.086540Z"
        },
        "id": "6bcfa852",
        "papermill": {
          "duration": 0.042023,
          "end_time": "2025-08-21T18:19:14.089871",
          "exception": false,
          "start_time": "2025-08-21T18:19:14.047848",
          "status": "completed"
        },
        "tags": []
      },
      "outputs": [],
      "source": [
        "data = data_raw.copy()\n",
        "data['Introvert'] = data['Personality'].map({\"Extrovert\": 0, \"Introvert\": 1})\n",
        "data['Stage_fear'] = data['Stage_fear'].map({\"No\": 0, \"Yes\": 1})\n",
        "data['Drained_after_socializing'] = data['Drained_after_socializing'].map({\"No\": 0, \"Yes\": 1})\n",
        "data = data.drop(columns=['Personality'])"
      ]
    },
    {
      "cell_type": "code",
      "execution_count": 18,
      "id": "f2c85d38",
      "metadata": {
        "execution": {
          "iopub.execute_input": "2025-08-21T18:19:14.104259Z",
          "iopub.status.busy": "2025-08-21T18:19:14.103913Z",
          "iopub.status.idle": "2025-08-21T18:19:14.431784Z",
          "shell.execute_reply": "2025-08-21T18:19:14.430828Z"
        },
        "id": "f2c85d38",
        "outputId": "757dfe0f-a6a1-4d8f-cb9d-2300d1d04d94",
        "papermill": {
          "duration": 0.337008,
          "end_time": "2025-08-21T18:19:14.433506",
          "exception": false,
          "start_time": "2025-08-21T18:19:14.096498",
          "status": "completed"
        },
        "tags": [],
        "colab": {
          "base_uri": "https://localhost:8080/",
          "height": 333
        }
      },
      "outputs": [
        {
          "output_type": "display_data",
          "data": {
            "text/plain": [
              "<Figure size 1200x300 with 4 Axes>"
            ],
            "image/png": "[encoded data removed]"
          },
          "metadata": {}
        }
      ],
      "source": [
        "import matplotlib.pyplot as plt\n",
        "plt.figure(figsize=(12, 3))\n",
        "plt.title(\"Categoraical variables\")\n",
        "plt.axis(\"off\")\n",
        "plot_count = 0  # Initialize a counter for displayed images\n",
        "categorical_variables = ['Stage_fear', 'Drained_after_socializing', 'Introvert']\n",
        "\n",
        "for var in categorical_variables:\n",
        "    ax = plt.subplot(1, 3, plot_count + 1)  # Adjust subplot position\n",
        "    sns.countplot(data, x = var)\n",
        "    plot_count += 1  # Increment the counter\n",
        "plt.show()"
      ]
    },
    {
      "cell_type": "markdown",
      "id": "e8fb84b5",
      "metadata": {
        "id": "e8fb84b5",
        "papermill": {
          "duration": 0.007817,
          "end_time": "2025-08-21T18:19:14.451812",
          "exception": false,
          "start_time": "2025-08-21T18:19:14.443995",
          "status": "completed"
        },
        "tags": []
      },
      "source": [
        "All distributions look moderately skewed."
      ]
    },
    {
      "cell_type": "code",
      "execution_count": 19,
      "id": "c7e205b6",
      "metadata": {
        "execution": {
          "iopub.execute_input": "2025-08-21T18:19:14.467358Z",
          "iopub.status.busy": "2025-08-21T18:19:14.467063Z",
          "iopub.status.idle": "2025-08-21T18:19:16.038479Z",
          "shell.execute_reply": "2025-08-21T18:19:16.037542Z"
        },
        "id": "c7e205b6",
        "outputId": "29982079-9722-4114-ffdc-239a5c476cb7",
        "papermill": {
          "duration": 1.581048,
          "end_time": "2025-08-21T18:19:16.040182",
          "exception": false,
          "start_time": "2025-08-21T18:19:14.459134",
          "status": "completed"
        },
        "tags": [],
        "colab": {
          "base_uri": "https://localhost:8080/",
          "height": 407
        }
      },
      "outputs": [
        {
          "output_type": "display_data",
          "data": {
            "text/plain": [
              "<Figure size 1200x400 with 2 Axes>"
            ],
            "image/png": "[encoded data removed]"
          },
          "metadata": {}
        }
      ],
      "source": [
        "sns.lmplot(\n",
        "    x='Time_spent_Alone', y=\"Introvert\", hue=\"Stage_fear\", col=\"Stage_fear\",\n",
        "    data=data, scatter_kws={\"edgecolor\": 'w'}, col_wrap=3, height=4,\n",
        ");"
      ]
    },
    {
      "cell_type": "markdown",
      "id": "977e56c1",
      "metadata": {
        "id": "977e56c1",
        "papermill": {
          "duration": 0.007095,
          "end_time": "2025-08-21T18:19:16.055021",
          "exception": false,
          "start_time": "2025-08-21T18:19:16.047926",
          "status": "completed"
        },
        "tags": []
      },
      "source": [
        "The missing data in the dataframe should be considered."
      ]
    },
    {
      "cell_type": "code",
      "execution_count": 20,
      "id": "1b5dc691",
      "metadata": {
        "execution": {
          "iopub.execute_input": "2025-08-21T18:19:16.072677Z",
          "iopub.status.busy": "2025-08-21T18:19:16.072365Z",
          "iopub.status.idle": "2025-08-21T18:19:16.082147Z",
          "shell.execute_reply": "2025-08-21T18:19:16.081170Z"
        },
        "id": "1b5dc691",
        "outputId": "890b6a9b-8570-4f8a-c494-41ef5b166a91",
        "papermill": {
          "duration": 0.021626,
          "end_time": "2025-08-21T18:19:16.083837",
          "exception": false,
          "start_time": "2025-08-21T18:19:16.062211",
          "status": "completed"
        },
        "tags": [],
        "colab": {
          "base_uri": "https://localhost:8080/",
          "height": 335
        }
      },
      "outputs": [
        {
          "output_type": "execute_result",
          "data": {
            "text/plain": [
              "Time_spent_Alone             1190\n",
              "Stage_fear                   1893\n",
              "Social_event_attendance      1180\n",
              "Going_outside                1466\n",
              "Drained_after_socializing    1149\n",
              "Friends_circle_size          1054\n",
              "Post_frequency               1264\n",
              "Introvert                       0\n",
              "dtype: int64"
            ],
            "text/html": [
              "<div>\n",
              "<style scoped>\n",
              "    .dataframe tbody tr th:only-of-type {\n",
              "        vertical-align: middle;\n",
              "    }\n",
              "\n",
              "    .dataframe tbody tr th {\n",
              "        vertical-align: top;\n",
              "    }\n",
              "\n",
              "    .dataframe thead th {\n",
              "        text-align: right;\n",
              "    }\n",
              "</style>\n",
              "<table border=\"1\" class=\"dataframe\">\n",
              "  <thead>\n",
              "    <tr style=\"text-align: right;\">\n",
              "      <th></th>\n",
              "      <th>0</th>\n",
              "    </tr>\n",
              "  </thead>\n",
              "  <tbody>\n",
              "    <tr>\n",
              "      <th>Time_spent_Alone</th>\n",
              "      <td>1190</td>\n",
              "    </tr>\n",
              "    <tr>\n",
              "      <th>Stage_fear</th>\n",
              "      <td>1893</td>\n",
              "    </tr>\n",
              "    <tr>\n",
              "      <th>Social_event_attendance</th>\n",
              "      <td>1180</td>\n",
              "    </tr>\n",
              "    <tr>\n",
              "      <th>Going_outside</th>\n",
              "      <td>1466</td>\n",
              "    </tr>\n",
              "    <tr>\n",
              "      <th>Drained_after_socializing</th>\n",
              "      <td>1149</td>\n",
              "    </tr>\n",
              "    <tr>\n",
              "      <th>Friends_circle_size</th>\n",
              "      <td>1054</td>\n",
              "    </tr>\n",
              "    <tr>\n",
              "      <th>Post_frequency</th>\n",
              "      <td>1264</td>\n",
              "    </tr>\n",
              "    <tr>\n",
              "      <th>Introvert</th>\n",
              "      <td>0</td>\n",
              "    </tr>\n",
              "  </tbody>\n",
              "</table>\n",
              "</div><br><label><b>dtype:</b> int64</label>"
            ]
          },
          "metadata": {},
          "execution_count": 20
        }
      ],
      "source": [
        "data.isnull().sum()"
      ]
    },
    {
      "cell_type": "markdown",
      "id": "8a13c2dc",
      "metadata": {
        "id": "8a13c2dc",
        "papermill": {
          "duration": 0.007391,
          "end_time": "2025-08-21T18:19:16.098779",
          "exception": false,
          "start_time": "2025-08-21T18:19:16.091388",
          "status": "completed"
        },
        "tags": []
      },
      "source": [
        "There seems to be missing data in all columns except for the target value. An imputation strategy should be used."
      ]
    },
    {
      "cell_type": "code",
      "execution_count": 33,
      "id": "f01b093c",
      "metadata": {
        "execution": {
          "iopub.execute_input": "2025-08-21T18:19:16.115057Z",
          "iopub.status.busy": "2025-08-21T18:19:16.114667Z",
          "iopub.status.idle": "2025-08-21T18:19:16.132313Z",
          "shell.execute_reply": "2025-08-21T18:19:16.131451Z"
        },
        "id": "f01b093c",
        "papermill": {
          "duration": 0.027781,
          "end_time": "2025-08-21T18:19:16.134170",
          "exception": false,
          "start_time": "2025-08-21T18:19:16.106389",
          "status": "completed"
        },
        "tags": []
      },
      "outputs": [],
      "source": [
        "my_imputer_cat = SimpleImputer(strategy='most_frequent')\n",
        "data[['Stage_fear', 'Drained_after_socializing']] = my_imputer_cat.fit_transform(data[['Stage_fear', 'Drained_after_socializing']])\n",
        "my_imputer_num = SimpleImputer(strategy='median')\n",
        "data_clean = pd.DataFrame(my_imputer_num.fit_transform(data))\n",
        "data_clean.columns = data.columns"
      ]
    },
    {
      "cell_type": "markdown",
      "id": "c9bd8013",
      "metadata": {
        "id": "c9bd8013",
        "papermill": {
          "duration": 0.007681,
          "end_time": "2025-08-21T18:19:16.176669",
          "exception": false,
          "start_time": "2025-08-21T18:19:16.168988",
          "status": "completed"
        },
        "tags": []
      },
      "source": [
        "No more missing data :)"
      ]
    },
    {
      "cell_type": "markdown",
      "id": "ade3715b",
      "metadata": {
        "id": "ade3715b",
        "papermill": {
          "duration": 0.007464,
          "end_time": "2025-08-21T18:19:16.192481",
          "exception": false,
          "start_time": "2025-08-21T18:19:16.185017",
          "status": "completed"
        },
        "tags": []
      },
      "source": [
        "# Preparing data\n",
        "\n",
        "The data is split into a training and testing set"
      ]
    },
    {
      "cell_type": "code",
      "execution_count": 36,
      "id": "cf589a30",
      "metadata": {
        "execution": {
          "iopub.execute_input": "2025-08-21T18:19:16.209001Z",
          "iopub.status.busy": "2025-08-21T18:19:16.208540Z",
          "iopub.status.idle": "2025-08-21T18:19:16.218845Z",
          "shell.execute_reply": "2025-08-21T18:19:16.217835Z"
        },
        "id": "cf589a30",
        "papermill": {
          "duration": 0.020539,
          "end_time": "2025-08-21T18:19:16.220672",
          "exception": false,
          "start_time": "2025-08-21T18:19:16.200133",
          "status": "completed"
        },
        "tags": []
      },
      "outputs": [],
      "source": [
        "# Making X and y variables\n",
        "X = data_clean.copy()\n",
        "y = X.pop('Introvert')\n",
        "\n",
        "X_train, X_val, y_train, y_val = train_test_split(X, y, random_state = 0)"
      ]
    },
    {
      "cell_type": "markdown",
      "id": "3750c746",
      "metadata": {
        "id": "3750c746",
        "papermill": {
          "duration": 0.0072,
          "end_time": "2025-08-21T18:19:16.235538",
          "exception": false,
          "start_time": "2025-08-21T18:19:16.228338",
          "status": "completed"
        },
        "tags": []
      },
      "source": [
        "## Going for an XGboost\n",
        "\n",
        "The following code will fit a classic XGboost with some different parameters"
      ]
    },
    {
      "cell_type": "code",
      "execution_count": null,
      "id": "6ab70483",
      "metadata": {
        "execution": {
          "iopub.execute_input": "2025-08-21T18:19:16.252084Z",
          "iopub.status.busy": "2025-08-21T18:19:16.251684Z",
          "iopub.status.idle": "2025-08-21T18:19:17.139032Z",
          "shell.execute_reply": "2025-08-21T18:19:17.138132Z"
        },
        "id": "6ab70483",
        "outputId": "4a56bdf1-c556-47f9-d3c0-1ee7f06c9690",
        "papermill": {
          "duration": 0.897525,
          "end_time": "2025-08-21T18:19:17.140591",
          "exception": false,
          "start_time": "2025-08-21T18:19:16.243066",
          "status": "completed"
        },
        "tags": []
      },
      "outputs": [
        {
          "data": {
            "text/html": [
              "<style>#sk-container-id-1 {color: black;background-color: white;}#sk-container-id-1 pre{padding: 0;}#sk-container-id-1 div.sk-toggleable {background-color: white;}#sk-container-id-1 label.sk-toggleable__label {cursor: pointer;display: block;width: 100%;margin-bottom: 0;padding: 0.3em;box-sizing: border-box;text-align: center;}#sk-container-id-1 label.sk-toggleable__label-arrow:before {content: \"▸\";float: left;margin-right: 0.25em;color: #696969;}#sk-container-id-1 label.sk-toggleable__label-arrow:hover:before {color: black;}#sk-container-id-1 div.sk-estimator:hover label.sk-toggleable__label-arrow:before {color: black;}#sk-container-id-1 div.sk-toggleable__content {max-height: 0;max-width: 0;overflow: hidden;text-align: left;background-color: #f0f8ff;}#sk-container-id-1 div.sk-toggleable__content pre {margin: 0.2em;color: black;border-radius: 0.25em;background-color: #f0f8ff;}#sk-container-id-1 input.sk-toggleable__control:checked~div.sk-toggleable__content {max-height: 200px;max-width: 100%;overflow: auto;}#sk-container-id-1 input.sk-toggleable__control:checked~label.sk-toggleable__label-arrow:before {content: \"▾\";}#sk-container-id-1 div.sk-estimator input.sk-toggleable__control:checked~label.sk-toggleable__label {background-color: #d4ebff;}#sk-container-id-1 div.sk-label input.sk-toggleable__control:checked~label.sk-toggleable__label {background-color: #d4ebff;}#sk-container-id-1 input.sk-hidden--visually {border: 0;clip: rect(1px 1px 1px 1px);clip: rect(1px, 1px, 1px, 1px);height: 1px;margin: -1px;overflow: hidden;padding: 0;position: absolute;width: 1px;}#sk-container-id-1 div.sk-estimator {font-family: monospace;background-color: #f0f8ff;border: 1px dotted black;border-radius: 0.25em;box-sizing: border-box;margin-bottom: 0.5em;}#sk-container-id-1 div.sk-estimator:hover {background-color: #d4ebff;}#sk-container-id-1 div.sk-parallel-item::after {content: \"\";width: 100%;border-bottom: 1px solid gray;flex-grow: 1;}#sk-container-id-1 div.sk-label:hover label.sk-toggleable__label {background-color: #d4ebff;}#sk-container-id-1 div.sk-serial::before {content: \"\";position: absolute;border-left: 1px solid gray;box-sizing: border-box;top: 0;bottom: 0;left: 50%;z-index: 0;}#sk-container-id-1 div.sk-serial {display: flex;flex-direction: column;align-items: center;background-color: white;padding-right: 0.2em;padding-left: 0.2em;position: relative;}#sk-container-id-1 div.sk-item {position: relative;z-index: 1;}#sk-container-id-1 div.sk-parallel {display: flex;align-items: stretch;justify-content: center;background-color: white;position: relative;}#sk-container-id-1 div.sk-item::before, #sk-container-id-1 div.sk-parallel-item::before {content: \"\";position: absolute;border-left: 1px solid gray;box-sizing: border-box;top: 0;bottom: 0;left: 50%;z-index: -1;}#sk-container-id-1 div.sk-parallel-item {display: flex;flex-direction: column;z-index: 1;position: relative;background-color: white;}#sk-container-id-1 div.sk-parallel-item:first-child::after {align-self: flex-end;width: 50%;}#sk-container-id-1 div.sk-parallel-item:last-child::after {align-self: flex-start;width: 50%;}#sk-container-id-1 div.sk-parallel-item:only-child::after {width: 0;}#sk-container-id-1 div.sk-dashed-wrapped {border: 1px dashed gray;margin: 0 0.4em 0.5em 0.4em;box-sizing: border-box;padding-bottom: 0.4em;background-color: white;}#sk-container-id-1 div.sk-label label {font-family: monospace;font-weight: bold;display: inline-block;line-height: 1.2em;}#sk-container-id-1 div.sk-label-container {text-align: center;}#sk-container-id-1 div.sk-container {/* jupyter's `normalize.less` sets `[hidden] { display: none; }` but bootstrap.min.css set `[hidden] { display: none !important; }` so we also need the `!important` here to be able to override the default hidden behavior on the sphinx rendered scikit-learn.org. See: https://github.com/scikit-learn/scikit-learn/issues/21755 */display: inline-block !important;position: relative;}#sk-container-id-1 div.sk-text-repr-fallback {display: none;}</style><div id=\"sk-container-id-1\" class=\"sk-top-container\"><div class=\"sk-text-repr-fallback\"><pre>XGBClassifier(base_score=None, booster=None, callbacks=None,\n",
              "              colsample_bylevel=None, colsample_bynode=None,\n",
              "              colsample_bytree=None, device=None, early_stopping_rounds=None,\n",
              "              enable_categorical=False, eval_metric=None, feature_types=None,\n",
              "              gamma=None, grow_policy=None, importance_type=None,\n",
              "              interaction_constraints=None, learning_rate=0.05, max_bin=None,\n",
              "              max_cat_threshold=None, max_cat_to_onehot=None,\n",
              "              max_delta_step=None, max_depth=None, max_leaves=None,\n",
              "              min_child_weight=None, missing=nan, monotone_constraints=None,\n",
              "              multi_strategy=None, n_estimators=200, n_jobs=None,\n",
              "              num_parallel_tree=None, random_state=None, ...)</pre><b>In a Jupyter environment, please rerun this cell to show the HTML representation or trust the notebook. <br />On GitHub, the HTML representation is unable to render, please try loading this page with nbviewer.org.</b></div><div class=\"sk-container\" hidden><div class=\"sk-item\"><div class=\"sk-estimator sk-toggleable\"><input class=\"sk-toggleable__control sk-hidden--visually\" id=\"sk-estimator-id-1\" type=\"checkbox\" checked><label for=\"sk-estimator-id-1\" class=\"sk-toggleable__label sk-toggleable__label-arrow\">XGBClassifier</label><div class=\"sk-toggleable__content\"><pre>XGBClassifier(base_score=None, booster=None, callbacks=None,\n",
              "              colsample_bylevel=None, colsample_bynode=None,\n",
              "              colsample_bytree=None, device=None, early_stopping_rounds=None,\n",
              "              enable_categorical=False, eval_metric=None, feature_types=None,\n",
              "              gamma=None, grow_policy=None, importance_type=None,\n",
              "              interaction_constraints=None, learning_rate=0.05, max_bin=None,\n",
              "              max_cat_threshold=None, max_cat_to_onehot=None,\n",
              "              max_delta_step=None, max_depth=None, max_leaves=None,\n",
              "              min_child_weight=None, missing=nan, monotone_constraints=None,\n",
              "              multi_strategy=None, n_estimators=200, n_jobs=None,\n",
              "              num_parallel_tree=None, random_state=None, ...)</pre></div></div></div></div></div>"
            ],
            "text/plain": [
              "XGBClassifier(base_score=None, booster=None, callbacks=None,\n",
              "              colsample_bylevel=None, colsample_bynode=None,\n",
              "              colsample_bytree=None, device=None, early_stopping_rounds=None,\n",
              "              enable_categorical=False, eval_metric=None, feature_types=None,\n",
              "              gamma=None, grow_policy=None, importance_type=None,\n",
              "              interaction_constraints=None, learning_rate=0.05, max_bin=None,\n",
              "              max_cat_threshold=None, max_cat_to_onehot=None,\n",
              "              max_delta_step=None, max_depth=None, max_leaves=None,\n",
              "              min_child_weight=None, missing=nan, monotone_constraints=None,\n",
              "              multi_strategy=None, n_estimators=200, n_jobs=None,\n",
              "              num_parallel_tree=None, random_state=None, ...)"
            ]
          },
          "execution_count": 15,
          "metadata": {},
          "output_type": "execute_result"
        }
      ],
      "source": [
        "from xgboost import XGBClassifier\n",
        "model = XGBClassifier(n_estimators=200, learning_rate=0.05)\n",
        "model.fit(X_train, y_train)"
      ]
    },
    {
      "cell_type": "code",
      "execution_count": null,
      "id": "65b8b666",
      "metadata": {
        "execution": {
          "iopub.execute_input": "2025-08-21T18:19:17.158774Z",
          "iopub.status.busy": "2025-08-21T18:19:17.158423Z",
          "iopub.status.idle": "2025-08-21T18:19:17.192238Z",
          "shell.execute_reply": "2025-08-21T18:19:17.191367Z"
        },
        "id": "65b8b666",
        "outputId": "c1f8ed46-8059-4c70-a87e-73ccc78a12e6",
        "papermill": {
          "duration": 0.045615,
          "end_time": "2025-08-21T18:19:17.194143",
          "exception": false,
          "start_time": "2025-08-21T18:19:17.148528",
          "status": "completed"
        },
        "tags": []
      },
      "outputs": [
        {
          "name": "stdout",
          "output_type": "stream",
          "text": [
            "Accuracy: 96.95530123083567 %\n",
            "[[3368   56]\n",
            " [  85 1122]]\n"
          ]
        }
      ],
      "source": [
        "preds = model.predict(X_val)\n",
        "acc = accuracy_score(y_val, preds)\n",
        "print(\"Accuracy: \" , acc*100, \" %\", sep=\"\")\n",
        "print(confusion_matrix(y_val, preds))"
      ]
    },
    {
      "cell_type": "markdown",
      "id": "2c907adb",
      "metadata": {
        "id": "2c907adb",
        "papermill": {
          "duration": 0.007547,
          "end_time": "2025-08-21T18:19:17.209604",
          "exception": false,
          "start_time": "2025-08-21T18:19:17.202057",
          "status": "completed"
        },
        "tags": []
      },
      "source": [
        "This is a good accuracy, but can it get better? Maybe.\n",
        "\n",
        "Hyperparameter tuning:"
      ]
    },
    {
      "cell_type": "code",
      "source": [
        "from sklearn.model_selection import GridSearchCV\n",
        "from xgboost import XGBClassifier\n",
        "\n",
        "# Define the parameter grid\n",
        "param_grid = {\n",
        "    'n_estimators': [100, 200, 300],\n",
        "    'learning_rate': [0.01, 0.05, 0.1],\n",
        "    'max_depth': [3, 5, 7],\n",
        "    'min_child_weight': [1, 3, 5],\n",
        "    'gamma': [0, 0.1, 0.2],\n",
        "    'subsample': [0.6, 0.8, 1.0],\n",
        "    'colsample_bytree': [0.6, 0.8, 1.0]\n",
        "}\n",
        "\n",
        "# Initialize the XGBoost classifier\n",
        "xgb = XGBClassifier(use_label_encoder=False, eval_metric='logloss')\n",
        "\n",
        "# Initialize GridSearchCV\n",
        "grid_search = GridSearchCV(estimator=xgb, param_grid=param_grid, cv=3, scoring='accuracy', n_jobs=-1)\n",
        "\n",
        "# Fit GridSearchCV to the training data\n",
        "grid_search.fit(X_train, y_train)\n",
        "\n",
        "# Print the best parameters and the best score\n",
        "print(\"Best parameters: \", grid_search.best_params_)\n",
        "print(\"Best accuracy: \", grid_search.best_score_)\n",
        "\n",
        "# Get the best model\n",
        "best_model = grid_search.best_estimator_"
      ],
      "metadata": {
        "colab": {
          "base_uri": "https://localhost:8080/"
        },
        "id": "LBBQKnc-uEMu",
        "outputId": "65a0ca44-f009-4c80-cbce-85e11b36714a"
      },
      "id": "LBBQKnc-uEMu",
      "execution_count": 37,
      "outputs": [
        {
          "output_type": "stream",
          "name": "stdout",
          "text": [
            "Best parameters:  {'colsample_bytree': 0.6, 'gamma': 0, 'learning_rate': 0.01, 'max_depth': 5, 'min_child_weight': 1, 'n_estimators': 200, 'subsample': 0.8}\n",
            "Best accuracy:  0.9687612466709853\n"
          ]
        }
      ]
    },
    {
      "cell_type": "code",
      "source": [
        "preds = best_model.predict(X_val)\n",
        "acc = accuracy_score(y_val, preds)\n",
        "print(\"Accuracy: \" , acc*100, \" %\", sep=\"\")\n",
        "print(confusion_matrix(y_val, preds))"
      ],
      "metadata": {
        "id": "f6a4Ds3o1l2G",
        "outputId": "302c32c9-341b-4940-c62a-b977e13cc360",
        "colab": {
          "base_uri": "https://localhost:8080/"
        }
      },
      "id": "f6a4Ds3o1l2G",
      "execution_count": 38,
      "outputs": [
        {
          "output_type": "stream",
          "name": "stdout",
          "text": [
            "Accuracy: 96.89052040595983 %\n",
            "[[3363   61]\n",
            " [  83 1124]]\n"
          ]
        }
      ]
    },
    {
      "cell_type": "markdown",
      "source": [
        "Hyperparameter tuning slightly improved the model."
      ],
      "metadata": {
        "id": "-3RDljHS1vHv"
      },
      "id": "-3RDljHS1vHv"
    },
    {
      "cell_type": "markdown",
      "id": "7ddb88f7",
      "metadata": {
        "id": "7ddb88f7",
        "papermill": {
          "duration": 0.007697,
          "end_time": "2025-08-21T18:19:17.225240",
          "exception": false,
          "start_time": "2025-08-21T18:19:17.217543",
          "status": "completed"
        },
        "tags": []
      },
      "source": [
        "# Making predictions on the test set\n",
        "\n",
        "The best model is being used to predict on the test set. However the test set first needs to be loaded and preprocessed just like the training set."
      ]
    },
    {
      "cell_type": "code",
      "execution_count": 39,
      "id": "6913d7b9",
      "metadata": {
        "execution": {
          "iopub.execute_input": "2025-08-21T18:19:17.242639Z",
          "iopub.status.busy": "2025-08-21T18:19:17.242350Z",
          "iopub.status.idle": "2025-08-21T18:19:17.276483Z",
          "shell.execute_reply": "2025-08-21T18:19:17.275181Z"
        },
        "id": "6913d7b9",
        "papermill": {
          "duration": 0.045224,
          "end_time": "2025-08-21T18:19:17.278397",
          "exception": false,
          "start_time": "2025-08-21T18:19:17.233173",
          "status": "completed"
        },
        "tags": []
      },
      "outputs": [],
      "source": [
        "# The below code should be converted to a function for future use to avoid code cuplication\n",
        "data_test = pd.read_csv(f'{INPUT_PATH}/test.csv', index_col='id')\n",
        "\n",
        "my_encoder = OrdinalEncoder() # Your code here\n",
        "data_test[['Stage_fear', 'Drained_after_socializing']] = my_encoder.fit_transform(data_test[['Stage_fear', 'Drained_after_socializing']])\n",
        "my_imputer = SimpleImputer()\n",
        "cols = data_test.columns\n",
        "idx = data_test.index\n",
        "data_test = pd.DataFrame(my_imputer.fit_transform(data_test))\n",
        "data_test.columns = cols\n",
        "data_test.index = idx"
      ]
    },
    {
      "cell_type": "code",
      "execution_count": 40,
      "id": "4a76736c",
      "metadata": {
        "execution": {
          "iopub.execute_input": "2025-08-21T18:19:17.296213Z",
          "iopub.status.busy": "2025-08-21T18:19:17.295891Z",
          "iopub.status.idle": "2025-08-21T18:19:17.318030Z",
          "shell.execute_reply": "2025-08-21T18:19:17.317332Z"
        },
        "id": "4a76736c",
        "papermill": {
          "duration": 0.033489,
          "end_time": "2025-08-21T18:19:17.319902",
          "exception": false,
          "start_time": "2025-08-21T18:19:17.286413",
          "status": "completed"
        },
        "tags": []
      },
      "outputs": [],
      "source": [
        "test_preds = best_model.predict(data_test)\n",
        "test_preds = ['Introvert' if i == 1 else 'Extrovert' for i in test_preds]"
      ]
    },
    {
      "cell_type": "code",
      "execution_count": 41,
      "id": "dda18378",
      "metadata": {
        "execution": {
          "iopub.execute_input": "2025-08-21T18:19:17.341249Z",
          "iopub.status.busy": "2025-08-21T18:19:17.340938Z",
          "iopub.status.idle": "2025-08-21T18:19:17.358664Z",
          "shell.execute_reply": "2025-08-21T18:19:17.357822Z"
        },
        "id": "dda18378",
        "papermill": {
          "duration": 0.029518,
          "end_time": "2025-08-21T18:19:17.360479",
          "exception": false,
          "start_time": "2025-08-21T18:19:17.330961",
          "status": "completed"
        },
        "tags": []
      },
      "outputs": [],
      "source": [
        "output = pd.DataFrame({'id': data_test.index,\n",
        "                       'Personality': test_preds})\n",
        "output.to_csv('submission.csv', index=False)"
      ]
    }
  ],
  "metadata": {
    "colab": {
      "name": "Predicting Introverts and extroverts",
      "provenance": [],
      "include_colab_link": true
    },
    "kaggle": {
      "accelerator": "none",
      "dataSources": [
        {
          "databundleVersionId": 12738969,
          "sourceId": 91718,
          "sourceType": "competition"
        }
      ],
      "dockerImageVersionId": 31089,
      "isGpuEnabled": false,
      "isInternetEnabled": true,
      "language": "python",
      "sourceType": "notebook"
    },
    "kernelspec": {
      "display_name": "Python 3",
      "language": "python",
      "name": "python3"
    },
    "language_info": {
      "codemirror_mode": {
        "name": "ipython",
        "version": 3
      },
      "file_extension": ".py",
      "mimetype": "text/x-python",
      "name": "python",
      "nbconvert_exporter": "python",
      "pygments_lexer": "ipython3",
      "version": "3.11.13"
    },
    "papermill": {
      "default_parameters": {},
      "duration": 18.132334,
      "end_time": "2025-08-21T18:19:18.194008",
      "environment_variables": {},
      "exception": null,
      "input_path": "__notebook__.ipynb",
      "output_path": "__notebook__.ipynb",
      "parameters": {},
      "start_time": "2025-08-21T18:19:00.061674",
      "version": "2.6.0"
    }
  },
  "nbformat": 4,
  "nbformat_minor": 5
}
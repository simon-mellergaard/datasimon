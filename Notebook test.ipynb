{
 "cells": [
  {
   "cell_type": "markdown",
   "id": "3e7c183b",
   "metadata": {
    "id": "view-in-github",
    "papermill": {
     "duration": 0.002567,
     "end_time": "2025-08-15T09:29:36.267050",
     "exception": false,
     "start_time": "2025-08-15T09:29:36.264483",
     "status": "completed"
    },
    "tags": []
   },
   "source": [
    "<a href=\"https://colab.research.google.com/github/simon-mellergaard/datasimon/blob/main/Notebook%20test.ipynb\" target=\"_parent\"><img src=\"https://colab.research.google.com/assets/colab-badge.svg\" alt=\"Open In Colab\"/></a>"
   ]
  },
  {
   "cell_type": "markdown",
   "id": "7ae7ce01",
   "metadata": {
    "id": "yhPYSvbSCekA",
    "papermill": {
     "duration": 0.002079,
     "end_time": "2025-08-15T09:29:36.271680",
     "exception": false,
     "start_time": "2025-08-15T09:29:36.269601",
     "status": "completed"
    },
    "tags": []
   },
   "source": [
    "# Notebook test\n",
    "\n",
    "This notebook only serves for testing purposes"
   ]
  },
  {
   "cell_type": "code",
   "execution_count": 1,
   "id": "2f8db671",
   "metadata": {
    "_cell_guid": "b1076dfc-b9ad-4769-8c92-a6c4dae69d19",
    "_uuid": "8f2839f25d086af736a60e9eeb907d3b93b6e0e5",
    "execution": {
     "iopub.execute_input": "2025-08-15T09:29:36.277654Z",
     "iopub.status.busy": "2025-08-15T09:29:36.276791Z",
     "iopub.status.idle": "2025-08-15T09:29:38.172059Z",
     "shell.execute_reply": "2025-08-15T09:29:38.170948Z"
    },
    "id": "n_AYSaUnCekC",
    "papermill": {
     "duration": 1.899942,
     "end_time": "2025-08-15T09:29:38.173686",
     "exception": false,
     "start_time": "2025-08-15T09:29:36.273744",
     "status": "completed"
    },
    "tags": []
   },
   "outputs": [],
   "source": [
    "import numpy as np # linear algebra\n",
    "import pandas as pd # data processing, CSV file I/O (e.g. pd.read_csv)\n",
    "\n",
    "import os\n",
    "for dirname, _, filenames in os.walk('/kaggle/input'):\n",
    "    for filename in filenames:\n",
    "        print(os.path.join(dirname, filename))"
   ]
  },
  {
   "cell_type": "code",
   "execution_count": 2,
   "id": "0cf75ca1",
   "metadata": {
    "execution": {
     "iopub.execute_input": "2025-08-15T09:29:38.179446Z",
     "iopub.status.busy": "2025-08-15T09:29:38.179020Z",
     "iopub.status.idle": "2025-08-15T09:29:38.184728Z",
     "shell.execute_reply": "2025-08-15T09:29:38.183719Z"
    },
    "id": "YDT0pjjhCekE",
    "outputId": "0ba2b1cc-fc4e-4b18-e000-610d09c5fc2b",
    "papermill": {
     "duration": 0.010397,
     "end_time": "2025-08-15T09:29:38.186296",
     "exception": false,
     "start_time": "2025-08-15T09:29:38.175899",
     "status": "completed"
    },
    "tags": []
   },
   "outputs": [
    {
     "name": "stdout",
     "output_type": "stream",
     "text": [
      "[282, 257, 615, 788, 767, 536, 909, 252, 11, 111]\n"
     ]
    }
   ],
   "source": [
    "import random\n",
    "# What is love?\n",
    "numbers = random.sample(range(1000), 10)\n",
    "print(numbers)"
   ]
  },
  {
   "cell_type": "markdown",
   "id": "f2f2f996",
   "metadata": {
    "id": "YCuJ9KN8CekE",
    "papermill": {
     "duration": 0.002047,
     "end_time": "2025-08-15T09:29:38.190672",
     "exception": false,
     "start_time": "2025-08-15T09:29:38.188625",
     "status": "completed"
    },
    "tags": []
   },
   "source": [
    "## New section\n",
    "\n",
    "This section really does not contain a lot of information, but that is okay."
   ]
  },
  {
   "cell_type": "code",
   "execution_count": 3,
   "id": "700ec525",
   "metadata": {
    "execution": {
     "iopub.execute_input": "2025-08-15T09:29:38.196675Z",
     "iopub.status.busy": "2025-08-15T09:29:38.196321Z",
     "iopub.status.idle": "2025-08-15T09:29:38.223843Z",
     "shell.execute_reply": "2025-08-15T09:29:38.222900Z"
    },
    "id": "TFGGM1dqCekE",
    "outputId": "77a49253-c6a5-4d12-88d8-c6c409e54264",
    "papermill": {
     "duration": 0.032164,
     "end_time": "2025-08-15T09:29:38.225371",
     "exception": false,
     "start_time": "2025-08-15T09:29:38.193207",
     "status": "completed"
    },
    "tags": []
   },
   "outputs": [
    {
     "data": {
      "text/html": [
       "<div>\n",
       "<style scoped>\n",
       "    .dataframe tbody tr th:only-of-type {\n",
       "        vertical-align: middle;\n",
       "    }\n",
       "\n",
       "    .dataframe tbody tr th {\n",
       "        vertical-align: top;\n",
       "    }\n",
       "\n",
       "    .dataframe thead th {\n",
       "        text-align: right;\n",
       "    }\n",
       "</style>\n",
       "<table border=\"1\" class=\"dataframe\">\n",
       "  <thead>\n",
       "    <tr style=\"text-align: right;\">\n",
       "      <th></th>\n",
       "      <th>numbers</th>\n",
       "    </tr>\n",
       "  </thead>\n",
       "  <tbody>\n",
       "    <tr>\n",
       "      <th>0</th>\n",
       "      <td>282</td>\n",
       "    </tr>\n",
       "    <tr>\n",
       "      <th>1</th>\n",
       "      <td>257</td>\n",
       "    </tr>\n",
       "    <tr>\n",
       "      <th>2</th>\n",
       "      <td>615</td>\n",
       "    </tr>\n",
       "    <tr>\n",
       "      <th>3</th>\n",
       "      <td>788</td>\n",
       "    </tr>\n",
       "    <tr>\n",
       "      <th>4</th>\n",
       "      <td>767</td>\n",
       "    </tr>\n",
       "    <tr>\n",
       "      <th>5</th>\n",
       "      <td>536</td>\n",
       "    </tr>\n",
       "    <tr>\n",
       "      <th>6</th>\n",
       "      <td>909</td>\n",
       "    </tr>\n",
       "    <tr>\n",
       "      <th>7</th>\n",
       "      <td>252</td>\n",
       "    </tr>\n",
       "    <tr>\n",
       "      <th>8</th>\n",
       "      <td>11</td>\n",
       "    </tr>\n",
       "    <tr>\n",
       "      <th>9</th>\n",
       "      <td>111</td>\n",
       "    </tr>\n",
       "  </tbody>\n",
       "</table>\n",
       "</div>"
      ],
      "text/plain": [
       "   numbers\n",
       "0      282\n",
       "1      257\n",
       "2      615\n",
       "3      788\n",
       "4      767\n",
       "5      536\n",
       "6      909\n",
       "7      252\n",
       "8       11\n",
       "9      111"
      ]
     },
     "execution_count": 3,
     "metadata": {},
     "output_type": "execute_result"
    }
   ],
   "source": [
    "numbers_df = pd.DataFrame({'numbers': numbers})\n",
    "numbers_df"
   ]
  },
  {
   "cell_type": "markdown",
   "id": "8e031a14",
   "metadata": {
    "id": "hA14nTg3CwEo",
    "papermill": {
     "duration": 0.0023,
     "end_time": "2025-08-15T09:29:38.230169",
     "exception": false,
     "start_time": "2025-08-15T09:29:38.227869",
     "status": "completed"
    },
    "tags": []
   },
   "source": [
    "This line of code below was written in colab"
   ]
  },
  {
   "cell_type": "code",
   "execution_count": 4,
   "id": "f732fe11",
   "metadata": {
    "execution": {
     "iopub.execute_input": "2025-08-15T09:29:38.235877Z",
     "iopub.status.busy": "2025-08-15T09:29:38.235569Z",
     "iopub.status.idle": "2025-08-15T09:29:38.478694Z",
     "shell.execute_reply": "2025-08-15T09:29:38.477558Z"
    },
    "id": "fIXKfW0nDAXN",
    "outputId": "bf7b3d89-5fea-40c2-8c5a-4f22f4a05fdf",
    "papermill": {
     "duration": 0.249286,
     "end_time": "2025-08-15T09:29:38.481679",
     "exception": false,
     "start_time": "2025-08-15T09:29:38.232393",
     "status": "completed"
    },
    "tags": []
   },
   "outputs": [
    {
     "data": {
      "text/plain": [
       "[<matplotlib.lines.Line2D at 0x7e19a58daa10>]"
      ]
     },
     "execution_count": 4,
     "metadata": {},
     "output_type": "execute_result"
    },
    {
     "data": {
      "image/png": "[encoded data removed]",
      "text/plain": [
       "<Figure size 640x480 with 1 Axes>"
      ]
     },
     "metadata": {},
     "output_type": "display_data"
    }
   ],
   "source": [
    "from matplotlib import pyplot as plt\n",
    "plt.plot(numbers)"
   ]
  }
 ],
 "metadata": {
  "colab": {
   "include_colab_link": true,
   "name": "Notebook test",
   "provenance": []
  },
  "kaggle": {
   "accelerator": "none",
   "dataSources": [],
   "dockerImageVersionId": 31089,
   "isGpuEnabled": false,
   "isInternetEnabled": true,
   "language": "python",
   "sourceType": "notebook"
  },
  "kernelspec": {
   "display_name": "Python 3",
   "language": "python",
   "name": "python3"
  },
  "language_info": {
   "codemirror_mode": {
    "name": "ipython",
    "version": 3
   },
   "file_extension": ".py",
   "mimetype": "text/x-python",
   "name": "python",
   "nbconvert_exporter": "python",
   "pygments_lexer": "ipython3",
   "version": "3.11.13"
  },
  "papermill": {
   "default_parameters": {},
   "duration": 7.637226,
   "end_time": "2025-08-15T09:29:39.107040",
   "environment_variables": {},
   "exception": null,
   "input_path": "__notebook__.ipynb",
   "output_path": "__notebook__.ipynb",
   "parameters": {},
   "start_time": "2025-08-15T09:29:31.469814",
   "version": "2.6.0"
  }
 },
 "nbformat": 4,
 "nbformat_minor": 5
}

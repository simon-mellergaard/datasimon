{
 "cells": [
  {
   "cell_type": "markdown",
   "id": "78acbd20",
   "metadata": {
    "papermill": {
     "duration": 0.002436,
     "end_time": "2025-08-15T09:18:52.452275",
     "exception": false,
     "start_time": "2025-08-15T09:18:52.449839",
     "status": "completed"
    },
    "tags": []
   },
   "source": [
    "# Notebook test\n",
    "\n",
    "This notebook only serves for testing purposes"
   ]
  },
  {
   "cell_type": "code",
   "execution_count": 1,
   "id": "1fc91e12",
   "metadata": {
    "_cell_guid": "b1076dfc-b9ad-4769-8c92-a6c4dae69d19",
    "_uuid": "8f2839f25d086af736a60e9eeb907d3b93b6e0e5",
    "execution": {
     "iopub.execute_input": "2025-08-15T09:18:52.457597Z",
     "iopub.status.busy": "2025-08-15T09:18:52.456754Z",
     "iopub.status.idle": "2025-08-15T09:18:54.133274Z",
     "shell.execute_reply": "2025-08-15T09:18:54.132568Z"
    },
    "papermill": {
     "duration": 1.680804,
     "end_time": "2025-08-15T09:18:54.134896",
     "exception": false,
     "start_time": "2025-08-15T09:18:52.454092",
     "status": "completed"
    },
    "tags": []
   },
   "outputs": [],
   "source": [
    "import numpy as np # linear algebra\n",
    "import pandas as pd # data processing, CSV file I/O (e.g. pd.read_csv)\n",
    "\n",
    "import os\n",
    "for dirname, _, filenames in os.walk('/kaggle/input'):\n",
    "    for filename in filenames:\n",
    "        print(os.path.join(dirname, filename))"
   ]
  },
  {
   "cell_type": "code",
   "execution_count": 2,
   "id": "4f06e865",
   "metadata": {
    "execution": {
     "iopub.execute_input": "2025-08-15T09:18:54.139689Z",
     "iopub.status.busy": "2025-08-15T09:18:54.138910Z",
     "iopub.status.idle": "2025-08-15T09:18:54.143984Z",
     "shell.execute_reply": "2025-08-15T09:18:54.143083Z"
    },
    "papermill": {
     "duration": 0.008636,
     "end_time": "2025-08-15T09:18:54.145294",
     "exception": false,
     "start_time": "2025-08-15T09:18:54.136658",
     "status": "completed"
    },
    "tags": []
   },
   "outputs": [
    {
     "name": "stdout",
     "output_type": "stream",
     "text": [
      "[564, 561, 630, 444, 292, 324, 565, 925, 359, 185]\n"
     ]
    }
   ],
   "source": [
    "import random\n",
    "# What is love?\n",
    "numbers = random.sample(range(1000), 10)\n",
    "print(numbers)"
   ]
  },
  {
   "cell_type": "markdown",
   "id": "0c6d98d9",
   "metadata": {
    "papermill": {
     "duration": 0.001371,
     "end_time": "2025-08-15T09:18:54.148339",
     "exception": false,
     "start_time": "2025-08-15T09:18:54.146968",
     "status": "completed"
    },
    "tags": []
   },
   "source": [
    "## New section\n",
    "\n",
    "This section really does not contain a lot of information, but that is okay. "
   ]
  },
  {
   "cell_type": "code",
   "execution_count": 3,
   "id": "529f90d2",
   "metadata": {
    "execution": {
     "iopub.execute_input": "2025-08-15T09:18:54.152553Z",
     "iopub.status.busy": "2025-08-15T09:18:54.151911Z",
     "iopub.status.idle": "2025-08-15T09:18:54.175267Z",
     "shell.execute_reply": "2025-08-15T09:18:54.174361Z"
    },
    "papermill": {
     "duration": 0.026816,
     "end_time": "2025-08-15T09:18:54.176620",
     "exception": false,
     "start_time": "2025-08-15T09:18:54.149804",
     "status": "completed"
    },
    "tags": []
   },
   "outputs": [
    {
     "data": {
      "text/html": [
       "<div>\n",
       "<style scoped>\n",
       "    .dataframe tbody tr th:only-of-type {\n",
       "        vertical-align: middle;\n",
       "    }\n",
       "\n",
       "    .dataframe tbody tr th {\n",
       "        vertical-align: top;\n",
       "    }\n",
       "\n",
       "    .dataframe thead th {\n",
       "        text-align: right;\n",
       "    }\n",
       "</style>\n",
       "<table border=\"1\" class=\"dataframe\">\n",
       "  <thead>\n",
       "    <tr style=\"text-align: right;\">\n",
       "      <th></th>\n",
       "      <th>numbers</th>\n",
       "    </tr>\n",
       "  </thead>\n",
       "  <tbody>\n",
       "    <tr>\n",
       "      <th>0</th>\n",
       "      <td>564</td>\n",
       "    </tr>\n",
       "    <tr>\n",
       "      <th>1</th>\n",
       "      <td>561</td>\n",
       "    </tr>\n",
       "    <tr>\n",
       "      <th>2</th>\n",
       "      <td>630</td>\n",
       "    </tr>\n",
       "    <tr>\n",
       "      <th>3</th>\n",
       "      <td>444</td>\n",
       "    </tr>\n",
       "    <tr>\n",
       "      <th>4</th>\n",
       "      <td>292</td>\n",
       "    </tr>\n",
       "    <tr>\n",
       "      <th>5</th>\n",
       "      <td>324</td>\n",
       "    </tr>\n",
       "    <tr>\n",
       "      <th>6</th>\n",
       "      <td>565</td>\n",
       "    </tr>\n",
       "    <tr>\n",
       "      <th>7</th>\n",
       "      <td>925</td>\n",
       "    </tr>\n",
       "    <tr>\n",
       "      <th>8</th>\n",
       "      <td>359</td>\n",
       "    </tr>\n",
       "    <tr>\n",
       "      <th>9</th>\n",
       "      <td>185</td>\n",
       "    </tr>\n",
       "  </tbody>\n",
       "</table>\n",
       "</div>"
      ],
      "text/plain": [
       "   numbers\n",
       "0      564\n",
       "1      561\n",
       "2      630\n",
       "3      444\n",
       "4      292\n",
       "5      324\n",
       "6      565\n",
       "7      925\n",
       "8      359\n",
       "9      185"
      ]
     },
     "execution_count": 3,
     "metadata": {},
     "output_type": "execute_result"
    }
   ],
   "source": [
    "numbers_df = pd.DataFrame({'numbers': numbers})\n",
    "numbers_df"
   ]
  }
 ],
 "metadata": {
  "kaggle": {
   "accelerator": "none",
   "dataSources": [],
   "dockerImageVersionId": 31089,
   "isGpuEnabled": false,
   "isInternetEnabled": true,
   "language": "python",
   "sourceType": "notebook"
  },
  "kernelspec": {
   "display_name": "Python 3",
   "language": "python",
   "name": "python3"
  },
  "language_info": {
   "codemirror_mode": {
    "name": "ipython",
    "version": 3
   },
   "file_extension": ".py",
   "mimetype": "text/x-python",
   "name": "python",
   "nbconvert_exporter": "python",
   "pygments_lexer": "ipython3",
   "version": "3.11.13"
  },
  "papermill": {
   "default_parameters": {},
   "duration": 6.581167,
   "end_time": "2025-08-15T09:18:54.596354",
   "environment_variables": {},
   "exception": null,
   "input_path": "__notebook__.ipynb",
   "output_path": "__notebook__.ipynb",
   "parameters": {},
   "start_time": "2025-08-15T09:18:48.015187",
   "version": "2.6.0"
  }
 },
 "nbformat": 4,
 "nbformat_minor": 5
}
